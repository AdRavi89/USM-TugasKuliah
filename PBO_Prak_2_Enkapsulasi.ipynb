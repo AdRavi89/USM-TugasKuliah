{
  "nbformat": 4,
  "nbformat_minor": 0,
  "metadata": {
    "colab": {
      "provenance": [],
      "authorship_tag": "ABX9TyPspftxnsZhhMzax7FXj85y",
      "include_colab_link": true
    },
    "kernelspec": {
      "name": "python3",
      "display_name": "Python 3"
    },
    "language_info": {
      "name": "python"
    }
  },
  "cells": [
    {
      "cell_type": "markdown",
      "metadata": {
        "id": "view-in-github",
        "colab_type": "text"
      },
      "source": [
        "<a href=\"https://colab.research.google.com/github/AdRavi89/TugasKuliahUSM/blob/main/PBO_Prak_2_Enkapsulasi.ipynb\" target=\"_parent\"><img src=\"https://colab.research.google.com/assets/colab-badge.svg\" alt=\"Open In Colab\"/></a>"
      ]
    },
    {
      "cell_type": "markdown",
      "source": [
        "#**Enkapsulasi**"
      ],
      "metadata": {
        "id": "kc5Hcl3m4kkx"
      }
    },
    {
      "cell_type": "code",
      "source": [
        "import datetime\n",
        "\n",
        "class Mahasiswa:\n",
        "  def __init__(self, nama, nim, tanggal_lahir):\n",
        "    self.__nama = nama  # Menginisialisasi atribut private nama\n",
        "    self.__nim = nim  # Menginisialisasi atribut private nim\n",
        "    self.__tanggal_lahir = tanggal_lahir  # Menginisialisasi atribut private tanggal_lahir\n",
        "    self.__jumlah_tugas = 0  # Menginisialisasi atribut private jumlah_tugas dengan nilai 0\n",
        "    self.__nilai_tugas = []  # Menginisialisasi atribut private nilai_tugas dengan list kosong\n",
        "\n",
        "  # Getter untuk atribut nama\n",
        "  @property\n",
        "  def nama(self):\n",
        "    return self.__nama\n",
        "\n",
        "  # Setter untuk atribut nama\n",
        "  @nama.setter\n",
        "  def nama(self, nama_baru):\n",
        "    if isinstance(nama_baru, str):\n",
        "      self.__nama = nama_baru\n",
        "    else:\n",
        "      print(\"Nama harus berupa string\")\n",
        "\n",
        "  # Setter untuk atribut nim\n",
        "  @property\n",
        "  def nim(self):\n",
        "    return self.__nim\n",
        "\n",
        "  @nim.setter\n",
        "  def nim(self, nim_baru):\n",
        "    if isinstance(nim_baru, str):\n",
        "      self.__nim = nim_baru\n",
        "    else:\n",
        "      print(\"NIM harus berupa string\")\n",
        "\n",
        "  # Metode untuk menambahkan nilai tugas\n",
        "  def tambah_tugas(self, nilai):\n",
        "    if isinstance(nilai, (int, float)) and 0 <= nilai <= 100:\n",
        "      self.__nilai_tugas.append(nilai)\n",
        "      self.__jumlah_tugas += 1\n",
        "    else:\n",
        "      print(\"Nilai harus berupa angka antara 0 dan 100\")\n",
        "\n",
        "  # Metode untuk menghitung rata-rata nilai tugas\n",
        "  def hitung_rata_rata(self):\n",
        "    if self.__jumlah_tugas == 0:\n",
        "      return 0\n",
        "    return sum(self.__nilai_tugas) / self.__jumlah_tugas\n",
        "\n",
        "  # Metode untuk menghitung usia berdasarkan tanggal_lahir\n",
        "  def hitung_usia(self):\n",
        "    hari_ini = datetime.date.today()\n",
        "    usia = hari_ini.year - self.__tanggal_lahir.year - ((hari_ini.month, hari_ini.day) < (self.__tanggal_lahir.month, self.__tanggal_lahir.day))\n",
        "    return usia\n",
        "\n",
        "  def __str__(self):\n",
        "    return f\"{self.__nama} ({self.__nim}) - Usia : {self.hitung_usia()} tahun\"\n",
        "\n",
        "# Membuat objek dari kelas Mahasiswa\n",
        "mahasiswa1 = Mahasiswa(\"Agung Dwi Susilo\", \"G.231.22.0038\", datetime.date(1989, 12, 17))\n",
        "mahasiswa2 = Mahasiswa(\"Fitria Hanifa\", \"G.211.23.0023\", datetime.date(2000, 8, 30))\n",
        "\n",
        "# Menambahkan nilai tugas\n",
        "mahasiswa1.tambah_tugas(85)\n",
        "mahasiswa1.tambah_tugas(90)\n",
        "\n",
        "# Menampilkan data mahasiswa\n",
        "print(mahasiswa1)\n",
        "print(\"Rata-rata nilai tugas: \", mahasiswa1.hitung_rata_rata())\n",
        "\n",
        "# Menampilkan data mahasiswa2\n",
        "print(mahasiswa2)\n",
        "print(\"Rata-rata nilai tugas: \", mahasiswa2.hitung_rata_rata())\n"
      ],
      "metadata": {
        "colab": {
          "base_uri": "https://localhost:8080/"
        },
        "id": "adVRIWl5gnX9",
        "outputId": "6e2f3ca6-21d8-4282-ecd4-75bc6e39de1b"
      },
      "execution_count": 22,
      "outputs": [
        {
          "output_type": "stream",
          "name": "stdout",
          "text": [
            "Agung Dwi Susilo (G.231.22.0038) - Usia : 33 tahun\n",
            "Rata-rata nilai tugas:  87.5\n",
            "Fitria Hanifa (G.211.23.0023) - Usia : 23 tahun\n",
            "Rata-rata nilai tugas:  0\n"
          ]
        }
      ]
    },
    {
      "cell_type": "markdown",
      "source": [
        "**Tanpa Enkapsulasi**"
      ],
      "metadata": {
        "id": "Bf01jJmaf-HT"
      }
    },
    {
      "cell_type": "code",
      "source": [
        "class MahasiswaTanpaEnkapsulasi:\n",
        "  def __init__(self, nama, nim):\n",
        "    self.nama = nama\n",
        "    self.nim = nim\n",
        "    self.nilai_tugas = []\n",
        "    self.jumlah_tugas = 0\n",
        "\n",
        "  def tambah_tugas(self, nilai):\n",
        "    self.nilai_tugas.append(nilai)\n",
        "    self.jumlah_tugas += 1\n",
        "    print(f\"Nilai Tugas {nilai} berhasil ditambahkan.\")\n",
        "\n",
        "  def hitung_rata_rata(self):\n",
        "    if self.jumlah_tugas == 0:\n",
        "      return 0\n",
        "    return sum(self.nilai_tugas) / self.jumlah_tugas\n",
        "\n",
        "  def tampilkan_data(self):\n",
        "    print(f\"Nama : {self.nama}, NIM : {self.nim}, Rata-rata Nilai Tugas : {self.hitung_rata_rata()}\")\n",
        "\n",
        "\n",
        "#contoh penggunaan\n",
        "mahasiswa_tanpa_enkapsulasi = MahasiswaTanpaEnkapsulasi(\"Agung Dwi Susilo\", \"G.231.22.0038\")\n",
        "mahasiswa_tanpa_enkapsulasi.tambah_tugas(90)\n",
        "mahasiswa_tanpa_enkapsulasi.tambah_tugas(50)\n",
        "mahasiswa_tanpa_enkapsulasi.tambah_tugas(30)\n",
        "mahasiswa_tanpa_enkapsulasi.tampilkan_data()"
      ],
      "metadata": {
        "colab": {
          "base_uri": "https://localhost:8080/"
        },
        "id": "vUn4WZ1pGfy2",
        "outputId": "182372fc-7d3c-40cf-fb1b-4e6d7d6f9790"
      },
      "execution_count": 4,
      "outputs": [
        {
          "output_type": "stream",
          "name": "stdout",
          "text": [
            "Nilai Tugas 90 berhasil ditambahkan.\n",
            "Nilai Tugas 50 berhasil ditambahkan.\n",
            "Nilai Tugas 30 berhasil ditambahkan.\n",
            "Nama : Agung Dwi Susilo, NIM : G.231.22.0038, Rata-rata Nilai Tugas : 56.666666666666664\n"
          ]
        }
      ]
    },
    {
      "cell_type": "code",
      "execution_count": 11,
      "metadata": {
        "colab": {
          "base_uri": "https://localhost:8080/"
        },
        "id": "noLmVSzPvSTj",
        "outputId": "f4e03d01-5e29-49e2-cfd0-91750826915a"
      },
      "outputs": [
        {
          "output_type": "stream",
          "name": "stdout",
          "text": [
            "Nilai tugas 90 berhasil ditambahkan.\n",
            "Nama : Agung Dwi Susilo, NIM : G.231.22.0038, Rata-rata Nilai Tugas : 90.0\n"
          ]
        }
      ],
      "source": [
        "class MahasiswaTanpaEnkapsulasi:\n",
        "    def __init__(self, nama, nim):  # Konstruktor untuk menginisialisasi objek MahasiswaTanpaEnkapsulasi\n",
        "        self.nama = nama  # Inisialisasi atribut nama\n",
        "        self.nim = nim    # Inisialisasi atribut nim\n",
        "        self.nilai_tugas = []  # Inisialisasi daftar nilai tugas\n",
        "        self.jumlah_tugas = 0  # Inisialisasi jumlah tugas\n",
        "\n",
        "    def tambah_tugas(self, nilai): # Metode untuk menambahkan nilai tugas ke objek\n",
        "        self.nilai_tugas.append(nilai)  # Menambahkan nilai tugas ke daftar\n",
        "        self.jumlah_tugas += 1  # Menginkrementasi jumlah tugas\n",
        "        print(f\"Nilai tugas {nilai} berhasil ditambahkan.\")  # Menampilkan pesan\n",
        "\n",
        "    def hitung_rata_rata(self): # Metode untuk menghitung rata-rata nilai tugas\n",
        "        if self.jumlah_tugas == 0:\n",
        "            return 0  # Mengembalikan 0 jika tidak ada nilai tugas\n",
        "        return sum(self.nilai_tugas) / self.jumlah_tugas  # Menghitung rata-rata\n",
        "\n",
        "    def tampilkan_data(self): # Metode untuk menampilkan data mahasiswa\n",
        "        print(f\"Nama : {self.nama}, NIM : {self.nim}, Rata-rata Nilai Tugas : {self.hitung_rata_rata()}\")\n",
        "\n",
        "# Contoh penggunaan\n",
        "mahasiswa_tanpa_enkapsulasi = MahasiswaTanpaEnkapsulasi(\"Agung Dwi Susilo\", \"G.231.22.0038\")\n",
        "mahasiswa_tanpa_enkapsulasi.tambah_tugas(90)\n",
        "mahasiswa_tanpa_enkapsulasi.tampilkan_data()\n"
      ]
    },
    {
      "cell_type": "markdown",
      "source": [
        "**Dengan Enkapsulasi**"
      ],
      "metadata": {
        "id": "0JPhk3DrgHR7"
      }
    },
    {
      "cell_type": "code",
      "source": [
        "class MahasiswaDenganEnkapsulasi:\n",
        "    def __init__(self, nama, nim):\n",
        "        self.__nama = nama\n",
        "        self.__nim = nim\n",
        "        self.__nilai_tugas = []\n",
        "        self.__jumlah_tugas = 0\n",
        "\n",
        "    def tambah_tugas(self, nilai):\n",
        "        self.__nilai_tugas.append(nilai)\n",
        "        self.__jumlah_tugas += 1\n",
        "        print(f\"Nilai tugas {nilai} berhasil ditambahkan.\")\n",
        "\n",
        "    def hitung_rata_rata(self):\n",
        "        if self.__jumlah_tugas == 0:\n",
        "            return 0\n",
        "        return sum(self.__nilai_tugas) / self.__jumlah_tugas\n",
        "\n",
        "    @property\n",
        "    def nama(self):\n",
        "        return self.__nama\n",
        "\n",
        "    @nama.setter\n",
        "    def nama(self, nama_baru):\n",
        "        if isinstance(nama_baru, str):\n",
        "            self.__nama = nama_baru\n",
        "        else:\n",
        "            print(\"Nama harus berupa String\")\n",
        "\n",
        "    @property\n",
        "    def nim(self):\n",
        "        return self.__nim\n",
        "\n",
        "    @nim.setter\n",
        "    def nim(self, nim_baru):\n",
        "        if isinstance(nim_baru, str):\n",
        "            self.__nim = nim_baru\n",
        "\n",
        "    def tampilkan_data(self):\n",
        "        print(f\"Nama : {self.nama}, NIM : {self.nim}, Rata-rata Nilai Tugas : {self.hitung_rata_rata()}\")\n",
        "\n",
        "# Contoh penggunaan\n",
        "mahasiswa_dengan_enkapsulasi = MahasiswaDenganEnkapsulasi(\"Agung Dwi Susilo\", \"G.231.22.0038\")\n",
        "mahasiswa_dengan_enkapsulasi.tambah_tugas(90)\n",
        "mahasiswa_dengan_enkapsulasi.tampilkan_data()\n"
      ],
      "metadata": {
        "colab": {
          "base_uri": "https://localhost:8080/"
        },
        "id": "ApgGSWZb5VN8",
        "outputId": "b794df97-451c-46c4-feae-ef5ab6618c52"
      },
      "execution_count": 12,
      "outputs": [
        {
          "output_type": "stream",
          "name": "stdout",
          "text": [
            "Nilai tugas 90 berhasil ditambahkan.\n",
            "Nama : Agung Dwi Susilo, NIM : G.231.22.0038, Rata-rata Nilai Tugas : 90.0\n"
          ]
        }
      ]
    }
  ]
}