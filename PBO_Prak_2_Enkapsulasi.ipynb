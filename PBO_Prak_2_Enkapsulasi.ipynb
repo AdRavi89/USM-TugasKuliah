{
  "nbformat": 4,
  "nbformat_minor": 0,
  "metadata": {
    "colab": {
      "provenance": [],
      "authorship_tag": "ABX9TyPyoa32r7dLqattmrhVsZo+",
      "include_colab_link": true
    },
    "kernelspec": {
      "name": "python3",
      "display_name": "Python 3"
    },
    "language_info": {
      "name": "python"
    }
  },
  "cells": [
    {
      "cell_type": "markdown",
      "metadata": {
        "id": "view-in-github",
        "colab_type": "text"
      },
      "source": [
        "<a href=\"https://colab.research.google.com/github/AdRavi89/TugasKuliahUSM/blob/main/PBO_Prak_2_Enkapsulasi.ipynb\" target=\"_parent\"><img src=\"https://colab.research.google.com/assets/colab-badge.svg\" alt=\"Open In Colab\"/></a>"
      ]
    },
    {
      "cell_type": "markdown",
      "source": [
        "**Enkapsulasi**"
      ],
      "metadata": {
        "id": "kc5Hcl3m4kkx"
      }
    },
    {
      "cell_type": "code",
      "execution_count": 7,
      "metadata": {
        "colab": {
          "base_uri": "https://localhost:8080/"
        },
        "id": "noLmVSzPvSTj",
        "outputId": "e91ba130-aa91-420f-e49f-f3be00ca6887"
      },
      "outputs": [
        {
          "output_type": "stream",
          "name": "stdout",
          "text": [
            "Nilai tugas 90 berhasil ditambahkan.\n",
            "Nama : Agung Dwi Susilo, NIM : G.231.22.0038, Rata-rata Nilai Tugas : 90.0\n"
          ]
        }
      ],
      "source": [
        "class MahasiswaTanpaEnkapsulasi:\n",
        "    def __init__(self, nama, nim):  # Konstruktor untuk menginisialisasi objek MahasiswaTanpaEnkapsulasi\n",
        "        self.nama = nama  # Inisialisasi atribut nama\n",
        "        self.nim = nim    # Inisialisasi atribut nim\n",
        "        self.nilai_tugas = []  # Inisialisasi daftar nilai tugas\n",
        "        self.jumlah_tugas = 0  # Inisialisasi jumlah tugas\n",
        "\n",
        "    def tambah_tugas(self, nilai): # Metode untuk menambahkan nilai tugas ke objek\n",
        "        self.nilai_tugas.append(nilai)  # Menambahkan nilai tugas ke daftar\n",
        "        self.jumlah_tugas += 1  # Menginkrementasi jumlah tugas\n",
        "        print(f\"Nilai tugas {nilai} berhasil ditambahkan.\")  # Menampilkan pesan\n",
        "\n",
        "    def hitung_rata_rata(self): # Metode untuk menghitung rata-rata nilai tugas\n",
        "        if self.jumlah_tugas == 0:\n",
        "            return 0  # Mengembalikan 0 jika tidak ada nilai tugas\n",
        "        return sum(self.nilai_tugas) / self.jumlah_tugas  # Menghitung rata-rata\n",
        "\n",
        "    def tampilkan_data(self): # Metode untuk menampilkan data mahasiswa\n",
        "        print(f\"Nama : {self.nama}, NIM : {self.nim}, Rata-rata Nilai Tugas : {self.hitung_rata_rata()}\")\n",
        "\n",
        "# Contoh penggunaan\n",
        "mahasiswa_tanpa_enkapsulasi = MahasiswaTanpaEnkapsulasi(\"Agung Dwi Susilo\", \"G.231.22.0038\")\n",
        "mahasiswa_tanpa_enkapsulasi.tambah_tugas(90)\n",
        "mahasiswa_tanpa_enkapsulasi.tampilkan_data()\n"
      ]
    },
    {
      "cell_type": "code",
      "source": [
        "class MahasiswaDenganEnkapsulasi:\n",
        "    def __init__(self, nama, nim):\n",
        "        self.__nama = nama\n",
        "        self.__nim = nim\n",
        "        self.__nilai_tugas = []\n",
        "        self.__jumlah_tugas = 0\n",
        "\n",
        "    def tambah_tugas(self, nilai):\n",
        "        self.__nilai_tugas.append(nilai)\n",
        "        self.__jumlah_tugas += 1\n",
        "        print(f\"Nilai tugas {nilai} berhasil ditambahkan.\")\n",
        "\n",
        "    def hitung_rata_rata(self):\n",
        "        if self.__jumlah_tugas == 0:\n",
        "            return 0\n",
        "        return sum(self.__nilai_tugas) / self.__jumlah_tugas\n",
        "\n",
        "    @property\n",
        "    def nama(self):\n",
        "        return self.__nama\n",
        "\n",
        "    @nama.setter\n",
        "    def nama(self, nama_baru):\n",
        "        if isinstance(nama_baru, str):\n",
        "            self.__nama = nama_baru\n",
        "        else:\n",
        "            print(\"Nama harus berupa String\")\n",
        "\n",
        "    @property\n",
        "    def nim(self):\n",
        "        return self.__nim\n",
        "\n",
        "    @nim.setter\n",
        "    def nim(self, nim_baru):\n",
        "        if isinstance(nim_baru, str):\n",
        "            self.__nim = nim_baru\n",
        "\n",
        "    def tampilkan_data(self):\n",
        "        print(f\"Nama : {self.nama}, NIM : {self.nim}, Rata-rata Nilai Tugas : {self.hitung_rata_rata()}\")\n",
        "\n",
        "# Contoh penggunaan\n",
        "mahasiswa_dengan_enkapsulasi = MahasiswaDenganEnkapsulasi(\"Agung Dwi Susilo\", \"G.231.22.0038\")\n",
        "mahasiswa_dengan_enkapsulasi.tambah_tugas(90)\n",
        "mahasiswa_dengan_enkapsulasi.tampilkan_data()\n"
      ],
      "metadata": {
        "colab": {
          "base_uri": "https://localhost:8080/"
        },
        "id": "ApgGSWZb5VN8",
        "outputId": "260c3f18-f1f0-4c75-dbc8-516460bf4224"
      },
      "execution_count": 27,
      "outputs": [
        {
          "output_type": "stream",
          "name": "stdout",
          "text": [
            "Nilai tugas 90 berhasil ditambahkan.\n",
            "Nama : Agung Dwi Susilo, NIM : G.231.22.0038, Rata-rata Nilai Tugas : 90.0\n"
          ]
        }
      ]
    }
  ]
}