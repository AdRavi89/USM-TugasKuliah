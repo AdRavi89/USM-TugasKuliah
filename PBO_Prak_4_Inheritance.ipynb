{
  "nbformat": 4,
  "nbformat_minor": 0,
  "metadata": {
    "colab": {
      "provenance": [],
      "authorship_tag": "ABX9TyNdIJqeZ1l4MKOO/z7Ag8dT",
      "include_colab_link": true
    },
    "kernelspec": {
      "name": "python3",
      "display_name": "Python 3"
    },
    "language_info": {
      "name": "python"
    }
  },
  "cells": [
    {
      "cell_type": "markdown",
      "metadata": {
        "id": "view-in-github",
        "colab_type": "text"
      },
      "source": [
        "<a href=\"https://colab.research.google.com/github/AdRavi89/TugasKuliahUSM/blob/main/PBO_Prak_4_Inheritance.ipynb\" target=\"_parent\"><img src=\"https://colab.research.google.com/assets/colab-badge.svg\" alt=\"Open In Colab\"/></a>"
      ]
    },
    {
      "cell_type": "markdown",
      "source": [
        "#**Pewarisan**"
      ],
      "metadata": {
        "id": "QycnUA_qAXS5"
      }
    },
    {
      "cell_type": "markdown",
      "source": [
        "**1. Membuat Kelas induk Segitiga**"
      ],
      "metadata": {
        "id": "MGeXWz6BuT9q"
      }
    },
    {
      "cell_type": "code",
      "execution_count": null,
      "metadata": {
        "id": "t-t-dlNLAWEs"
      },
      "outputs": [],
      "source": [
        "class segitiga:\n",
        "  def __init__(self, sisi_a, sisi_b, sisi_c):\n",
        "    self.sisi_a = sisi_a\n",
        "    self.sisi_b = sisi_b\n",
        "    self.sisi_c = sisi_c\n",
        "\n",
        "  def hitung_keliling(self):\n",
        "    return self.sisi_a + self.sisi_b + self.sisi_c\n",
        "\n",
        "  def tampilkan_sisi(self):\n",
        "    print(f\"Sisi A : {self.sisi_a}, Sisi B : {self.sisi_b}, Sisi C : {self.sisi_c}\")"
      ]
    },
    {
      "cell_type": "markdown",
      "source": [
        "**2. Membuat Kelas Anak SegitigaSikuSiku**"
      ],
      "metadata": {
        "id": "q8_RYpR2udsd"
      }
    },
    {
      "cell_type": "code",
      "source": [
        "class SegitigaSikuSiku(segitiga):\n",
        "  def hitung_luas(self):\n",
        "    return 0.5 * self.sisi_a * self.sisi_b\n",
        "\n",
        "  def tampilkan_jenis(self):\n",
        "    print(\"Segitiga ini adalah segitiga siku-siku\")"
      ],
      "metadata": {
        "id": "aEHRZr5SCdd1"
      },
      "execution_count": null,
      "outputs": []
    },
    {
      "cell_type": "markdown",
      "source": [
        "**3. Mencoba Kelas Anak**"
      ],
      "metadata": {
        "id": "svOkod2pu62O"
      }
    },
    {
      "cell_type": "code",
      "source": [
        "segitiga_siku = SegitigaSikuSiku (3,4,5)\n",
        "segitiga_siku.tampilkan_sisi()\n",
        "segitiga_siku. tampilkan_jenis()\n",
        "keliling = segitiga_siku.hitung_keliling()\n",
        "luas = segitiga_siku.hitung_luas()\n",
        "\n",
        "print(f\"Keliling : {keliling}\")\n",
        "print (f\"luas : {luas}\")"
      ],
      "metadata": {
        "colab": {
          "base_uri": "https://localhost:8080/"
        },
        "id": "l9NfQZyyC5GZ",
        "outputId": "25b84eaa-ac40-4d59-99ab-1aff33359acc"
      },
      "execution_count": null,
      "outputs": [
        {
          "output_type": "stream",
          "name": "stdout",
          "text": [
            "Sisi A : 3, Sisi B : 4, Sisi C : 5\n",
            "Segitiga ini adalah segitiga siku-siku\n",
            "Keliling : 12\n",
            "luas : 6.0\n"
          ]
        }
      ]
    },
    {
      "cell_type": "markdown",
      "source": [
        "# **Contoh Lain**"
      ],
      "metadata": {
        "id": "vauDRYlXvCPP"
      }
    },
    {
      "cell_type": "markdown",
      "source": [
        "**1. Membuat Kelas Induk PersegiPanjang**"
      ],
      "metadata": {
        "id": "fUlnyqCKvG6X"
      }
    },
    {
      "cell_type": "code",
      "source": [
        "class PersegiPanjang:\n",
        "  def __init__ (self, panjang, lebar):\n",
        "    self.panjang = panjang\n",
        "    self.lebar = lebar\n",
        "\n",
        "  def hitung_keliling(self):\n",
        "    return 2* (self.panjang + self.lebar)\n",
        "\n",
        "  def hitung_luas(self):\n",
        "    return self.panjang * self.lebar\n",
        "\n",
        "  def tampilkan_dimensi(self):\n",
        "    print(f\"Panjang : {self.panjang}, Lebar : {self.lebar}\")"
      ],
      "metadata": {
        "id": "CbwbjzcJvFXE"
      },
      "execution_count": null,
      "outputs": []
    },
    {
      "cell_type": "markdown",
      "source": [
        "**2. Membuat Klas Anak Kotak**"
      ],
      "metadata": {
        "id": "WB4vaknSwEK0"
      }
    },
    {
      "cell_type": "code",
      "source": [
        "class Kotak(PersegiPanjang):\n",
        "  def __init__(self, sisi):\n",
        "    super().__init__(sisi, sisi) #memanggil konstruktor kelas induk\n",
        "\n",
        "  def tampilkan_jenis(self):\n",
        "    print(\"Bangunan ini adalah sebuah kotak\")"
      ],
      "metadata": {
        "id": "Q5NFJBNJwK7P"
      },
      "execution_count": null,
      "outputs": []
    },
    {
      "cell_type": "markdown",
      "source": [
        "**3. Mencoba kelas Anak**"
      ],
      "metadata": {
        "id": "DaeK5N0vxZdg"
      }
    },
    {
      "cell_type": "code",
      "source": [
        "kotak = Kotak(5)\n",
        "kotak.tampilkan_dimensi()\n",
        "kotak.tampilkan_jenis()\n",
        "keliling = kotak.hitung_keliling()\n",
        "luas = kotak.hitung_luas()\n",
        "\n",
        "print(f\"Keliling : {keliling}\")\n",
        "print(f\"Luas : {luas}\")"
      ],
      "metadata": {
        "colab": {
          "base_uri": "https://localhost:8080/"
        },
        "id": "NZuwszLpxc8x",
        "outputId": "7cdb192c-2625-4833-f3cb-583337b99542"
      },
      "execution_count": null,
      "outputs": [
        {
          "output_type": "stream",
          "name": "stdout",
          "text": [
            "Panjang : 5, Lebar : 5\n",
            "Bangunan ini adalah sebuah kotak\n",
            "Keliling : 20\n",
            "Luas : 25\n"
          ]
        }
      ]
    },
    {
      "cell_type": "markdown",
      "source": [
        "# **Contoh Lain**"
      ],
      "metadata": {
        "id": "bo5e9NNRyKbQ"
      }
    },
    {
      "cell_type": "markdown",
      "source": [
        "**1. Membuat Kelas induk**"
      ],
      "metadata": {
        "id": "OoWjqhy5yQWk"
      }
    },
    {
      "cell_type": "code",
      "source": [
        "class Mahasiswa :\n",
        "  def __init__(self, nama, nim):\n",
        "    self.__nama = nama\n",
        "    self.__nim = nim\n",
        "    self.__nilai_tugas = []\n",
        "    self.__jumlah_tugas = 0\n",
        "\n",
        "  @property\n",
        "  def nama(self):\n",
        "    return self.__nama\n",
        "\n",
        "  @nama.setter\n",
        "  def nama(self, nama_baru):\n",
        "    if isinstance(nama_baru, str):\n",
        "      self.__nama = nama_baru\n",
        "    else:\n",
        "      print(\"Nama harus berupa String\")\n",
        "\n",
        "  @property\n",
        "  def nim(self):\n",
        "    return self.__nim\n",
        "\n",
        "  @nim.setter\n",
        "  def nim(self, nim_baru):\n",
        "    if isinstance(nim_baru, str):\n",
        "      self.__nim = nim_baru\n",
        "    else:\n",
        "      print(\"NIM harus berupa String\")\n",
        "\n",
        "  def tambah_tugas(self, nilai):\n",
        "    self.__nilai_tugas.append(nilai)\n",
        "    self.__jumlah_tugas += 1\n",
        "    print(f\"Nilai tugas {nilai} berhasil ditambahkan.\")\n",
        "\n",
        "  def hitung_rata_rata(self):\n",
        "    if self.__jumlah_tugas == 0:\n",
        "      return 0\n",
        "    return sum(self.__nilai_tugas) / self.__jumlah_tugas\n",
        "\n",
        "  def tampilkan_data(self):\n",
        "    print(f\"Nama : {self.nama}, NIM : {self.nim}, Rata-rata Nilai Tugas : {self.hitung_rata_rata()}\")"
      ],
      "metadata": {
        "id": "0QKTYTvRyJbt"
      },
      "execution_count": null,
      "outputs": []
    },
    {
      "cell_type": "markdown",
      "source": [
        "**2. Membuat kelas Anak**"
      ],
      "metadata": {
        "id": "oefkHKxjV9sj"
      }
    },
    {
      "cell_type": "code",
      "source": [
        "class MahasiswaTeknik(Mahasiswa):\n",
        "  def __init__(self, nama, nim, jurusan='Teknik'):\n",
        "    super().__init__(nama, nim)\n",
        "    self.__jurusan = jurusan\n",
        "\n",
        "  @property\n",
        "  def jurusan(self):\n",
        "    return self.__jurusan\n",
        "\n",
        "  @jurusan.setter\n",
        "  def jurusan(self, jurusan_baru):\n",
        "    if isinstance(jurusan_baru, str):\n",
        "      self.__jurusan = jurusan_baru\n",
        "\n",
        "    else:\n",
        "      print(\"Jurusan harus berupa String\")\n",
        "\n",
        "  def tampilkan_data(self):\n",
        "    super().tampilkan_data()\n",
        "    print(f\"Jurusan : {self.jurusan}\")\n"
      ],
      "metadata": {
        "id": "_jKoLBU5WASL"
      },
      "execution_count": null,
      "outputs": []
    },
    {
      "cell_type": "markdown",
      "source": [
        "**3. Mencoba class anak**"
      ],
      "metadata": {
        "id": "OzMWcePFXM3D"
      }
    },
    {
      "cell_type": "code",
      "source": [
        "mahasiswa_teknik = MahasiswaTeknik (\"Agung Dwi Susilo\", \"G.231.22.0038\")\n",
        "mahasiswa_teknik.tambah_tugas(80)\n",
        "mahasiswa_teknik.tambah_tugas(90)\n",
        "mahasiswa_teknik.tampilkan_data() #ini akan menampilkan data mahasiswa beserta jurusannya\n"
      ],
      "metadata": {
        "colab": {
          "base_uri": "https://localhost:8080/"
        },
        "id": "c_hXXE-LXPyV",
        "outputId": "496bb667-2826-4b06-fc50-929a36958607"
      },
      "execution_count": null,
      "outputs": [
        {
          "output_type": "stream",
          "name": "stdout",
          "text": [
            "Nilai tugas 80 berhasil ditambahkan.\n",
            "Nilai tugas 90 berhasil ditambahkan.\n",
            "Nama : Agung Dwi Susilo, NIM : G.231.22.0038, Rata-rata Nilai Tugas : 85.0\n",
            "Jurusan : Teknik\n"
          ]
        }
      ]
    }
  ]
}