{
  "nbformat": 4,
  "nbformat_minor": 0,
  "metadata": {
    "colab": {
      "provenance": [],
      "authorship_tag": "ABX9TyMQb8p1bz8CQhv4fN38h7qT",
      "include_colab_link": true
    },
    "kernelspec": {
      "name": "python3",
      "display_name": "Python 3"
    },
    "language_info": {
      "name": "python"
    }
  },
  "cells": [
    {
      "cell_type": "markdown",
      "metadata": {
        "id": "view-in-github",
        "colab_type": "text"
      },
      "source": [
        "<a href=\"https://colab.research.google.com/github/AdRavi89/TugasKuliahUSM/blob/main/PBO_Prak_5_Polimorfisme.ipynb\" target=\"_parent\"><img src=\"https://colab.research.google.com/assets/colab-badge.svg\" alt=\"Open In Colab\"/></a>"
      ]
    },
    {
      "cell_type": "markdown",
      "source": [
        "#**POLIMORFISME**\n",
        "\n",
        "adalah konsep dalam OOP yang memungkinkan objek dari kelas yang berbeda untuk diakses melalui antar muka yang sama. dengan kata lain, polimorfisme memungkinkan metode dengan nama yang sama untuk melakukan tindakan yang berbeda berdasarkan objek apa yang mereka operasikan"
      ],
      "metadata": {
        "id": "P_Ar2lWjKOFO"
      }
    },
    {
      "cell_type": "markdown",
      "source": [
        "***1. Mendefinisikan Kelas Kelas berbeda***"
      ],
      "metadata": {
        "id": "vZbyvMr8Ky8A"
      }
    },
    {
      "cell_type": "code",
      "execution_count": null,
      "metadata": {
        "id": "QroVIzrNJT8C"
      },
      "outputs": [],
      "source": [
        "class anjing :\n",
        "  def suara(self):\n",
        "    return \"Guk Guk\"\n",
        "\n",
        "class kucing :\n",
        "  def suara(self):\n",
        "    return \"Meong\""
      ]
    },
    {
      "cell_type": "markdown",
      "source": [
        "**2. Mendemonstrasikan Polimorfisme***"
      ],
      "metadata": {
        "id": "bYluclCILLXJ"
      }
    },
    {
      "cell_type": "code",
      "source": [
        "def cetak_suara(hewan):\n",
        "  print(hewan.suara())"
      ],
      "metadata": {
        "id": "x4FvZsT9LK4t"
      },
      "execution_count": null,
      "outputs": []
    },
    {
      "cell_type": "markdown",
      "source": [
        "***3. Mencoba Kode***"
      ],
      "metadata": {
        "id": "H1q9GzrsLpYu"
      }
    },
    {
      "cell_type": "code",
      "source": [
        "anjing = anjing()\n",
        "kucing = kucing()\n",
        "\n",
        "cetak_suara(anjing) #output (Guk Guk)\n",
        "cetak_suara(kucing) #output (Meong)"
      ],
      "metadata": {
        "colab": {
          "base_uri": "https://localhost:8080/"
        },
        "id": "aHyQ52EuLvIe",
        "outputId": "d1398ca3-88fa-4614-f663-e7c6cc8e9b52"
      },
      "execution_count": null,
      "outputs": [
        {
          "output_type": "stream",
          "name": "stdout",
          "text": [
            "Guk Guk\n",
            "Meong\n"
          ]
        }
      ]
    },
    {
      "cell_type": "markdown",
      "source": [
        "# ***Contoh Lain :***"
      ],
      "metadata": {
        "id": "eCYhDK3XMSeo"
      }
    },
    {
      "cell_type": "markdown",
      "source": [
        "**1. Mendefinisikan kelas-kelas bentuk**"
      ],
      "metadata": {
        "id": "OEqii22pOLDJ"
      }
    },
    {
      "cell_type": "code",
      "source": [
        "import math\n",
        "\n",
        "class Persegi:\n",
        "  def __init__(self, sisi):\n",
        "    self.sisi = sisi\n",
        "\n",
        "  def keliling(self):\n",
        "    return 4 * self.sisi\n",
        "\n",
        "  def luas(self):\n",
        "    return self.sisi ** 2\n",
        "\n",
        "class Lingkaran:\n",
        "  def __init__(self, radius):\n",
        "    self.radius = radius\n",
        "\n",
        "  def keliling(self):\n",
        "    return 2 * math.pi * self.radius\n",
        "\n",
        "  def luas(self):\n",
        "    return math.pi * (self.radius ** 2)\n",
        "\n",
        "class Segitiga:\n",
        "  def __init__(self, alas, tinggi):\n",
        "    self.alas = alas\n",
        "    self.tinggi = tinggi\n",
        "\n",
        "  def keliling(self):\n",
        "    return \"Tidak diketahui tanpa informasi tambahan\"\n",
        "\n",
        "  def luas(self):\n",
        "    return 0.5 * self.alas * self.tinggi"
      ],
      "metadata": {
        "id": "CHOeiDhcMcpj"
      },
      "execution_count": null,
      "outputs": []
    },
    {
      "cell_type": "markdown",
      "source": [
        "**2. Mendemonstrasikan Polimorfisme**"
      ],
      "metadata": {
        "id": "gIBXuRp_OUqV"
      }
    },
    {
      "cell_type": "code",
      "source": [
        "def cetak_informasi(bentuk):\n",
        "  print(\"Keliling : \", bentuk.keliling())\n",
        "  print(\"Luas : \", bentuk.luas())\n",
        "  print()"
      ],
      "metadata": {
        "id": "lMPZ0zIAOVHx"
      },
      "execution_count": null,
      "outputs": []
    },
    {
      "cell_type": "markdown",
      "source": [
        "**3. Mencoba Kode**<br>\n",
        "Membuat instance dari Persegi, Lingkaran, dan Segitiga dan memberikannnya fungsi cetak_informasi"
      ],
      "metadata": {
        "id": "V2RJVWlHOw8F"
      }
    },
    {
      "cell_type": "code",
      "source": [
        "persegi = Persegi(4)\n",
        "lingkaran = Lingkaran(5)\n",
        "segitiga = Segitiga(6, 7)\n",
        "\n",
        "cetak_informasi(persegi)\n",
        "cetak_informasi(lingkaran)\n",
        "cetak_informasi(segitiga)"
      ],
      "metadata": {
        "colab": {
          "base_uri": "https://localhost:8080/"
        },
        "id": "vNPkrdWjO-rC",
        "outputId": "dfa44375-3d80-44d7-8cc5-c34ba02b5079"
      },
      "execution_count": null,
      "outputs": [
        {
          "output_type": "stream",
          "name": "stdout",
          "text": [
            "Keliling :  16\n",
            "Luas :  16\n",
            "\n",
            "Keliling :  31.41592653589793\n",
            "Luas :  78.53981633974483\n",
            "\n",
            "Keliling :  Tidak diketahui tanpa informasi tambahan\n",
            "Luas :  21.0\n",
            "\n"
          ]
        }
      ]
    },
    {
      "cell_type": "markdown",
      "source": [
        "# ***Contoh Lain :***"
      ],
      "metadata": {
        "id": "5kd1rdVjQlZ8"
      }
    },
    {
      "cell_type": "code",
      "source": [
        "class Persegi:\n",
        "  def __init__(self, sisi):\n",
        "    self.sisi = sisi\n",
        "\n",
        "  def hitung_keliling(self):\n",
        "    return 4 * self.sisi\n",
        "\n",
        "  def hitung_luas(self):\n",
        "    return self.sisi ** 2\n",
        "\n",
        "  def tampilkan_jenis(self):\n",
        "    print(\"Ini adalah Persegi\")\n",
        "\n",
        "class Lingkaran:\n",
        "  def __init__(self, radius):\n",
        "    self.radius = radius\n",
        "\n",
        "  def hitung_keliling(self):\n",
        "    return 2 * 3.14 * self.radius\n",
        "\n",
        "  def hitung_luas(self):\n",
        "    return 3.14* (self.radius ** 2)\n",
        "\n",
        "  def tampilkan_jenis(self):\n",
        "    print(\"Ini adalah Lingkaran\")\n",
        "\n",
        "class Segitiga:\n",
        "  def __init__(self, alas, tinggi):\n",
        "    self.alas = alas\n",
        "    self.tinggi = tinggi\n",
        "\n",
        "  def hitung_keliling(self):\n",
        "    return None #\"Tidak cukup informasi untuk menghitung keliling\"\n",
        "\n",
        "  def hitung_luas(self):\n",
        "    return 0.5 * self.alas * self.tinggi\n",
        "\n",
        "  def tampilkan_jenis(self):\n",
        "    print(\"Ini adalah Segitiga\")"
      ],
      "metadata": {
        "id": "rPP1fUiBQn-u"
      },
      "execution_count": null,
      "outputs": []
    },
    {
      "cell_type": "markdown",
      "source": [
        "**Mengimplementasikan**"
      ],
      "metadata": {
        "id": "WDEUPRe1Rt1u"
      }
    },
    {
      "cell_type": "code",
      "source": [
        "def tampilkan_info(bentuk):\n",
        "  bentuk.tampilkan_jenis()\n",
        "  print(\"Keliling : \", bentuk.hitung_keliling())\n",
        "  print(\"Luas : \", bentuk.hitung_luas())\n",
        "  print()\n",
        "\n",
        "persegi = Persegi(4)\n",
        "lingkaran = Lingkaran(5)\n",
        "segitiga = Segitiga(6, 7)\n",
        "\n",
        "tampilkan_info(persegi)\n",
        "tampilkan_info(lingkaran)\n",
        "tampilkan_info(segitiga)"
      ],
      "metadata": {
        "colab": {
          "base_uri": "https://localhost:8080/"
        },
        "id": "t6MKUfJSRxXp",
        "outputId": "2032870c-de2e-453f-8976-e0917a0bc48a"
      },
      "execution_count": null,
      "outputs": [
        {
          "output_type": "stream",
          "name": "stdout",
          "text": [
            "Ini adalah Persegi\n",
            "Keliling :  16\n",
            "Luas :  16\n",
            "\n",
            "Ini adalah Lingkaran\n",
            "Keliling :  31.400000000000002\n",
            "Luas :  78.5\n",
            "\n",
            "Ini adalah Segitiga\n",
            "Keliling :  None\n",
            "Luas :  21.0\n",
            "\n"
          ]
        }
      ]
    }
  ]
}