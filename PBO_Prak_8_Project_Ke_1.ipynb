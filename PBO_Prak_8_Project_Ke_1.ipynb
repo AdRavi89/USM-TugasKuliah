{
  "nbformat": 4,
  "nbformat_minor": 0,
  "metadata": {
    "colab": {
      "provenance": [],
      "authorship_tag": "ABX9TyPK8VDmS5FgtqpOh4CzKPhj",
      "include_colab_link": true
    },
    "kernelspec": {
      "name": "python3",
      "display_name": "Python 3"
    },
    "language_info": {
      "name": "python"
    }
  },
  "cells": [
    {
      "cell_type": "markdown",
      "metadata": {
        "id": "view-in-github",
        "colab_type": "text"
      },
      "source": [
        "<a href=\"https://colab.research.google.com/github/AdRavi89/TugasKuliahUSM/blob/main/PBO_Prak_8_Project_Ke_1.ipynb\" target=\"_parent\"><img src=\"https://colab.research.google.com/assets/colab-badge.svg\" alt=\"Open In Colab\"/></a>"
      ]
    },
    {
      "cell_type": "markdown",
      "source": [
        "#**PROYEK : Sistem Manajement Toko Buku**"
      ],
      "metadata": {
        "id": "lPZhJ9JzxpDJ"
      }
    },
    {
      "cell_type": "markdown",
      "source": [
        "**Tahap 1: Membuat Kelas Buku**"
      ],
      "metadata": {
        "id": "EdVKOGvRyd6d"
      }
    },
    {
      "cell_type": "code",
      "source": [
        "class Buku:\n",
        "  def __init__(self, judul, penulis, harga):\n",
        "      self.__judul = judul\n",
        "      self.__penulis = penulis\n",
        "      self.__harga = harga\n",
        "\n",
        "  def info(self):\n",
        "    return f\"Buku : {self.__judul} oleh {self.__penulis}, Harga : {self.__harga}\"\n",
        "\n",
        "\n",
        "  #enkapsulasi: Getter dan Setter\n",
        "  @property\n",
        "  def harga(self):\n",
        "    return self.__harga\n",
        "\n",
        "  @harga.setter\n",
        "  def harga(self, nilai):\n",
        "      if nilai < 0:\n",
        "          raise ValueError(\"Harga tidak boleh negatif\")\n",
        "      selft.__harga = nilai"
      ],
      "metadata": {
        "id": "TL7wiDvixosk"
      },
      "execution_count": 13,
      "outputs": []
    },
    {
      "cell_type": "markdown",
      "source": [
        "**Tahap 2 : Pewarisan dan Polimorfisme**"
      ],
      "metadata": {
        "id": "Rkk8yEKo0Aka"
      }
    },
    {
      "cell_type": "code",
      "execution_count": 14,
      "metadata": {
        "id": "wgv_m9sXxBoY"
      },
      "outputs": [],
      "source": [
        "class Majalah(Buku):\n",
        "    def __init__(self, judul, penulis, harga, edisi):\n",
        "        super().__init__(judul, penulis, harga)\n",
        "        self.__edisi = edisi\n",
        "\n",
        "    def info(self):\n",
        "        return super().info() + f\", Edisi : {self.__edisi}\""
      ]
    },
    {
      "cell_type": "markdown",
      "source": [
        "**Tahap 3 : Membuat Sistem Manajemen**"
      ],
      "metadata": {
        "id": "c7OyuO4y0ujK"
      }
    },
    {
      "cell_type": "markdown",
      "source": [
        "Membuat kelas ManajemenToko untuk mengelola buku dan majalah"
      ],
      "metadata": {
        "id": "sLKSTtFGCd9h"
      }
    },
    {
      "cell_type": "markdown",
      "source": [
        "Menambahkan Penanganan Pengecualian"
      ],
      "metadata": {
        "id": "9hlE4ytGCi3a"
      }
    },
    {
      "cell_type": "code",
      "source": [
        "class ManajemenToko:\n",
        "    def __init__(self):\n",
        "       self.stok = []\n",
        "\n",
        "    def tambah_produk(self, produk):\n",
        "        if not isinstance(produk, Buku):\n",
        "            raise TypeError(\"Produk harus merupakan instance dari Buku atau Turunannya\")\n",
        "        self.stok.append(produk)\n",
        "\n",
        "    def tampilkan_produk(self):\n",
        "        for produk in self.stok:\n",
        "            print(produk.info())"
      ],
      "metadata": {
        "id": "_jF3iwFtCcJ6"
      },
      "execution_count": 15,
      "outputs": []
    },
    {
      "cell_type": "markdown",
      "source": [
        "**Tahap 4: Implementasi dan Pengujian**"
      ],
      "metadata": {
        "id": "ht9WdsUzDXEY"
      }
    },
    {
      "cell_type": "markdown",
      "source": [
        "Menciptakan Objek dan Menjalankan Sistem Manajement"
      ],
      "metadata": {
        "id": "zJbnadJ4DcBx"
      }
    },
    {
      "cell_type": "code",
      "source": [
        "manajemen = ManajemenToko()\n",
        "\n",
        "# Membuat beberapa buku dan majalah\n",
        "buku1 = Buku(\"Belajar Pyton Dasar\", \"Agung Dwi Susilo\", 95000)\n",
        "majalah1 = Majalah(\"Majalah Teknologi Kecerdasan Buatan\", \"Bard Gemini\", 50000, \"Januari 2024\")\n",
        "\n",
        "# Menambahkan buku dan majalah ke sistem manajemen\n",
        "manajemen.tambah_produk(buku1)\n",
        "manajemen.tambah_produk(majalah1)\n",
        "\n",
        "# Menampilkan Produk\n",
        "manajemen.tampilkan_produk()"
      ],
      "metadata": {
        "colab": {
          "base_uri": "https://localhost:8080/"
        },
        "id": "ilD7ORiW013c",
        "outputId": "d35d8d58-d493-472a-89ff-62cec94e142b"
      },
      "execution_count": 16,
      "outputs": [
        {
          "output_type": "stream",
          "name": "stdout",
          "text": [
            "Buku : Belajar Pyton Dasar oleh Agung Dwi Susilo, Harga : 95000\n",
            "Buku : Majalah Teknologi Kecerdasan Buatan oleh Bard Gemini, Harga : 50000, Edisi : Januari 2024\n"
          ]
        }
      ]
    }
  ]
}