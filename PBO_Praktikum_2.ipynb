{
  "cells": [
    {
      "cell_type": "markdown",
      "metadata": {
        "id": "view-in-github",
        "colab_type": "text"
      },
      "source": [
        "<a href=\"https://colab.research.google.com/github/AdRavi89/TugasKuliahUSM/blob/main/PBO_Praktikum_2.ipynb\" target=\"_parent\"><img src=\"https://colab.research.google.com/assets/colab-badge.svg\" alt=\"Open In Colab\"/></a>"
      ]
    },
    {
      "cell_type": "markdown",
      "metadata": {
        "id": "MtllAYluqJh4"
      },
      "source": [
        "# [Dictionaries](https://docs.python.org/3/library/stdtypes.html#dict)\n",
        "Collections of `key`-`value` pairs."
      ]
    },
    {
      "cell_type": "code",
      "execution_count": 1,
      "metadata": {
        "colab": {
          "base_uri": "https://localhost:8080/"
        },
        "id": "pWCAKaouqJic",
        "outputId": "09737d49-cf6e-4d07-ec2e-345f3e57a661"
      },
      "outputs": [
        {
          "output_type": "stream",
          "name": "stdout",
          "text": [
            "dict: {}, type: <class 'dict'>\n"
          ]
        }
      ],
      "source": [
        "my_empty_dict = {}  # alternative: my_empty_dict = dict()\n",
        "print(f\"dict: {my_empty_dict}, type: {type(my_empty_dict)}\")"
      ]
    },
    {
      "cell_type": "markdown",
      "metadata": {
        "id": "l5PHNimEqJij"
      },
      "source": [
        "## Initialization"
      ]
    },
    {
      "cell_type": "code",
      "execution_count": 16,
      "metadata": {
        "colab": {
          "base_uri": "https://localhost:8080/"
        },
        "id": "uh1RyWCrqJil",
        "outputId": "b046cf65-bf00-444b-c96c-303c49aee877"
      },
      "outputs": [
        {
          "output_type": "stream",
          "name": "stdout",
          "text": [
            "{'value1': 1.6, 'value2': 10, 'name': 'John Doe'}\n",
            "{'value1': 1.6, 'value2': 10, 'name': 'John Doe'}\n",
            "equals: True\n",
            "length: 3\n"
          ]
        }
      ],
      "source": [
        "dict1 = {\"value1\": 1.6, \"value2\": 10, \"name\": \"John Doe\"}\n",
        "dict2 = dict(value1=1.6, value2=10, name=\"John Doe\")\n",
        "\n",
        "print(dict1)\n",
        "print(dict2)\n",
        "\n",
        "print(f\"equals: {dict1 == dict2}\")\n",
        "print(f\"length: {len(dict1)}\")"
      ]
    },
    {
      "cell_type": "markdown",
      "metadata": {
        "id": "rPV2VBsnqJim"
      },
      "source": [
        "## `dict.keys(), dict.values(), dict.items()`"
      ]
    },
    {
      "cell_type": "code",
      "execution_count": 3,
      "metadata": {
        "colab": {
          "base_uri": "https://localhost:8080/"
        },
        "id": "GvBv7c36qJin",
        "outputId": "ee144a6c-6fac-4312-b82b-e3eb4f31d8fd"
      },
      "outputs": [
        {
          "output_type": "stream",
          "name": "stdout",
          "text": [
            "keys: dict_keys(['value1', 'value2', 'name'])\n",
            "values: dict_values([1.6, 10, 'John Doe'])\n",
            "items: dict_items([('value1', 1.6), ('value2', 10), ('name', 'John Doe')])\n"
          ]
        }
      ],
      "source": [
        "print(f\"keys: {dict1.keys()}\")\n",
        "print(f\"values: {dict1.values()}\")\n",
        "print(f\"items: {dict1.items()}\")"
      ]
    },
    {
      "cell_type": "markdown",
      "metadata": {
        "id": "sGaBP2OBqJio"
      },
      "source": [
        "## Accessing and setting values"
      ]
    },
    {
      "cell_type": "code",
      "execution_count": 4,
      "metadata": {
        "colab": {
          "base_uri": "https://localhost:8080/"
        },
        "id": "FpJoU3ABqJiq",
        "outputId": "31efc4c2-9a45-4236-e960-0895a0959210"
      },
      "outputs": [
        {
          "output_type": "stream",
          "name": "stdout",
          "text": [
            "{'key1': 'new value', 'key2': 99}\n",
            "value of key1: new value\n"
          ]
        }
      ],
      "source": [
        "my_dict = {}\n",
        "my_dict[\"key1\"] = \"value1\"\n",
        "my_dict[\"key2\"] = 99\n",
        "my_dict[\"key1\"] = \"new value\"  # overriding existing value\n",
        "print(my_dict)\n",
        "print(f\"value of key1: {my_dict['key1']}\")"
      ]
    },
    {
      "cell_type": "markdown",
      "metadata": {
        "id": "jCUdxZEBqJir"
      },
      "source": [
        "Accessing a nonexistent key will raise `KeyError` (see [`dict.get()`](#dict_get) for workaround):"
      ]
    },
    {
      "cell_type": "code",
      "execution_count": 5,
      "metadata": {
        "id": "uISEvWwhqJis"
      },
      "outputs": [],
      "source": [
        "# print(my_dict['nope'])"
      ]
    },
    {
      "cell_type": "markdown",
      "metadata": {
        "id": "Ri4PM0aFqJit"
      },
      "source": [
        "## Deleting"
      ]
    },
    {
      "cell_type": "code",
      "execution_count": 6,
      "metadata": {
        "colab": {
          "base_uri": "https://localhost:8080/"
        },
        "id": "IiQ_AkJgqJit",
        "outputId": "a170e6ca-1822-4aa3-a3d3-a5ab953b4efa"
      },
      "outputs": [
        {
          "output_type": "stream",
          "name": "stdout",
          "text": [
            "{'key1': 'value1', 'key2': 99}\n",
            "my_key is not in {'key1': 'value1', 'key2': 99}\n"
          ]
        }
      ],
      "source": [
        "my_dict = {\"key1\": \"value1\", \"key2\": 99, \"keyX\": \"valueX\"}\n",
        "del my_dict[\"keyX\"]\n",
        "print(my_dict)\n",
        "\n",
        "# Usually better to make sure that the key exists (see also pop() and popitem())\n",
        "key_to_delete = \"my_key\"\n",
        "if key_to_delete in my_dict:\n",
        "    del my_dict[key_to_delete]\n",
        "else:\n",
        "    print(f\"{key_to_delete} is not in {my_dict}\")"
      ]
    },
    {
      "cell_type": "markdown",
      "metadata": {
        "id": "2gyZ_kQMqJiu"
      },
      "source": [
        "## Dictionaries are mutable"
      ]
    },
    {
      "cell_type": "code",
      "execution_count": 7,
      "metadata": {
        "colab": {
          "base_uri": "https://localhost:8080/"
        },
        "id": "_7ftkuTpqJiu",
        "outputId": "17ef9fa2-9e67-4832-baf2-26b8e807930e"
      },
      "outputs": [
        {
          "output_type": "stream",
          "name": "stdout",
          "text": [
            "my_dict={'ham': 'good', 'carrot': 'super tasty', 'sausage': 'best ever'}\n",
            "other: {'ham': 'good', 'carrot': 'super tasty', 'sausage': 'best ever'}\n",
            "equals: True\n"
          ]
        }
      ],
      "source": [
        "my_dict = {\"ham\": \"good\", \"carrot\": \"semi good\"}\n",
        "my_other_dict = my_dict\n",
        "my_other_dict[\"carrot\"] = \"super tasty\"\n",
        "my_other_dict[\"sausage\"] = \"best ever\"\n",
        "print(f\"{my_dict=}\\nother: {my_other_dict}\")\n",
        "print(f\"equals: {my_dict == my_other_dict}\")"
      ]
    },
    {
      "cell_type": "markdown",
      "metadata": {
        "id": "Yr-wyihoqJiv"
      },
      "source": [
        "**Create a new `dict` if you want to have a copy:**"
      ]
    },
    {
      "cell_type": "code",
      "execution_count": 8,
      "metadata": {
        "colab": {
          "base_uri": "https://localhost:8080/"
        },
        "id": "1RlxeQO-qJiv",
        "outputId": "550ae731-d891-48a6-95b6-f070b5af9d61"
      },
      "outputs": [
        {
          "output_type": "stream",
          "name": "stdout",
          "text": [
            "my_dict={'ham': 'good', 'carrot': 'semi good'}\n",
            "other: {'ham': 'good', 'carrot': 'semi good', 'beer': 'decent'}\n",
            "equals: False\n"
          ]
        }
      ],
      "source": [
        "my_dict = {\"ham\": \"good\", \"carrot\": \"semi good\"}\n",
        "my_other_dict = dict(my_dict)\n",
        "my_other_dict[\"beer\"] = \"decent\"\n",
        "print(f\"{my_dict=}\\nother: {my_other_dict}\")\n",
        "print(f\"equals: {my_dict == my_other_dict}\")"
      ]
    },
    {
      "cell_type": "markdown",
      "metadata": {
        "id": "DZM2wK0aqJiw"
      },
      "source": [
        "<a id='dict_get'></a>\n",
        "## `dict.get()`\n",
        "Returns `None` if `key` is not in `dict`. However, you can also specify `default` return value which will be returned if `key` is not present in the `dict`."
      ]
    },
    {
      "cell_type": "code",
      "execution_count": 9,
      "metadata": {
        "colab": {
          "base_uri": "https://localhost:8080/"
        },
        "id": "bSk7ZigVqJix",
        "outputId": "9cdb8f78-d356-4ede-ac16-9a820d47141b"
      },
      "outputs": [
        {
          "output_type": "stream",
          "name": "stdout",
          "text": [
            "d: None\n",
            "d: my default value\n"
          ]
        }
      ],
      "source": [
        "my_dict = {\"a\": 1, \"b\": 2, \"c\": 3}\n",
        "value_of_d = my_dict.get(\"d\")A\n",
        "print(f\"d: {value_of_d}\")\n",
        "\n",
        "value_of_d = my_dict.get(\"d\", \"my default value\")\n",
        "print(f\"d: {value_of_d}\")"
      ]
    },
    {
      "cell_type": "markdown",
      "metadata": {
        "id": "W2ZQxsC9qJix"
      },
      "source": [
        "## `dict.pop()`"
      ]
    },
    {
      "cell_type": "code",
      "execution_count": 10,
      "metadata": {
        "colab": {
          "base_uri": "https://localhost:8080/"
        },
        "id": "MMDvl8BIqJiy",
        "outputId": "84416541-b676-483c-fc18-3a0d232a1b7c"
      },
      "outputs": [
        {
          "output_type": "stream",
          "name": "stdout",
          "text": [
            "dict before pops: {'food': 'ham', 'drink': 'beer', 'sport': 'football'}\n",
            "food: ham\n",
            "dict after popping food: {'drink': 'beer', 'sport': 'football'}\n",
            "food again: default value for food\n",
            "dict after popping food again: {'drink': 'beer', 'sport': 'football'}\n"
          ]
        }
      ],
      "source": [
        "my_dict = dict(food=\"ham\", drink=\"beer\", sport=\"football\")\n",
        "print(f\"dict before pops: {my_dict}\")\n",
        "\n",
        "food = my_dict.pop(\"food\")\n",
        "print(f\"food: {food}\")\n",
        "print(f\"dict after popping food: {my_dict}\")\n",
        "\n",
        "food_again = my_dict.pop(\"food\", \"default value for food\")\n",
        "print(f\"food again: {food_again}\")\n",
        "print(f\"dict after popping food again: {my_dict}\")"
      ]
    },
    {
      "cell_type": "markdown",
      "metadata": {
        "id": "OECytz_fqJiy"
      },
      "source": [
        "## `dict.setdefault()`\n",
        "Returns the `value` of `key` defined as first parameter. If the `key` is not present in the dict, adds `key` with default value (second parameter)."
      ]
    },
    {
      "cell_type": "code",
      "execution_count": 11,
      "metadata": {
        "colab": {
          "base_uri": "https://localhost:8080/"
        },
        "id": "RJMwWsVBqJiz",
        "outputId": "32000c5d-c472-4a02-ac6f-189043372037"
      },
      "outputs": [
        {
          "output_type": "stream",
          "name": "stdout",
          "text": [
            "a: 1\n",
            "d: my default value\n",
            "my_dict: {'a': 1, 'b': 2, 'c': 3, 'd': 'my default value'}\n"
          ]
        }
      ],
      "source": [
        "my_dict = {\"a\": 1, \"b\": 2, \"c\": 3}\n",
        "a = my_dict.setdefault(\"a\", \"my default value\")\n",
        "d = my_dict.setdefault(\"d\", \"my default value\")\n",
        "print(f\"a: {a}\\nd: {d}\\nmy_dict: {my_dict}\")"
      ]
    },
    {
      "cell_type": "markdown",
      "metadata": {
        "id": "sWYgIdAuqJiz"
      },
      "source": [
        "## `dict.update()`\n",
        "Merge two `dict`s"
      ]
    },
    {
      "cell_type": "code",
      "execution_count": 12,
      "metadata": {
        "colab": {
          "base_uri": "https://localhost:8080/"
        },
        "id": "MjWlHY3GqJiz",
        "outputId": "53ea8cac-7653-42ae-94f0-cee155984d14"
      },
      "outputs": [
        {
          "output_type": "stream",
          "name": "stdout",
          "text": [
            "{'a': 1, 'b': 2, 'c': 3}\n",
            "{'a': 1, 'b': 2, 'c': 4}\n"
          ]
        }
      ],
      "source": [
        "dict1 = {\"a\": 1, \"b\": 2}\n",
        "dict2 = {\"c\": 3}\n",
        "dict1.update(dict2)\n",
        "print(dict1)\n",
        "\n",
        "# If they have same keys:\n",
        "dict1.update({\"c\": 4})\n",
        "print(dict1)"
      ]
    },
    {
      "cell_type": "markdown",
      "metadata": {
        "id": "wkfzGGuDqJiz"
      },
      "source": [
        "## The keys of a `dict` have to be immutable"
      ]
    },
    {
      "cell_type": "markdown",
      "metadata": {
        "id": "mPMs6G6GqJi0"
      },
      "source": [
        "Thus you can not use e.g. a `list` or a `dict` as key because they are mutable types\n",
        ":"
      ]
    },
    {
      "cell_type": "code",
      "execution_count": 13,
      "metadata": {
        "id": "48qy-E46qJi0"
      },
      "outputs": [],
      "source": [
        "# bad_dict = {['my_list'], 'value'}  # Raises TypeError"
      ]
    },
    {
      "cell_type": "markdown",
      "metadata": {
        "id": "iMLCzUYCqJi0"
      },
      "source": [
        "Values can be mutable"
      ]
    },
    {
      "cell_type": "code",
      "execution_count": 15,
      "metadata": {
        "colab": {
          "base_uri": "https://localhost:8080/"
        },
        "id": "qTfBn7C1qJi0",
        "outputId": "9f215e0a-30b6-44f3-f6c1-baf362acf929"
      },
      "outputs": [
        {
          "output_type": "stream",
          "name": "stdout",
          "text": [
            "{'my key': ['Python', 'is', 'still', 'cool']}\n"
          ]
        }
      ],
      "source": [
        "good_dict = {\"my key\": [\"Python\", \"is\", \"still\", \"cool\"]}\n",
        "print(good_dict)"
      ]
    },
    {
      "cell_type": "markdown",
      "source": [],
      "metadata": {
        "id": "JuYTPV12yuF4"
      }
    },
    {
      "cell_type": "markdown",
      "source": [],
      "metadata": {
        "id": "aj92Oq6tyuuc"
      }
    }
  ],
  "metadata": {
    "kernelspec": {
      "display_name": "Python 3 (ipykernel)",
      "language": "python",
      "name": "python3"
    },
    "language_info": {
      "codemirror_mode": {
        "name": "ipython",
        "version": 3
      },
      "file_extension": ".py",
      "mimetype": "text/x-python",
      "name": "python",
      "nbconvert_exporter": "python",
      "pygments_lexer": "ipython3",
      "version": "3.11.0"
    },
    "colab": {
      "provenance": [],
      "include_colab_link": true
    }
  },
  "nbformat": 4,
  "nbformat_minor": 0
}