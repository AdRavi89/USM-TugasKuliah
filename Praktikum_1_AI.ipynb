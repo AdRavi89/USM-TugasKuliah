{
  "nbformat": 4,
  "nbformat_minor": 0,
  "metadata": {
    "colab": {
      "provenance": [],
      "authorship_tag": "ABX9TyOE6ttnhOAXIgZIXeUPyZhs",
      "include_colab_link": true
    },
    "kernelspec": {
      "name": "python3",
      "display_name": "Python 3"
    },
    "language_info": {
      "name": "python"
    }
  },
  "cells": [
    {
      "cell_type": "markdown",
      "metadata": {
        "id": "view-in-github",
        "colab_type": "text"
      },
      "source": [
        "<a href=\"https://colab.research.google.com/github/AdRavi89/Tugas-Kuliah/blob/main/Praktikum_1_AI.ipynb\" target=\"_parent\"><img src=\"https://colab.research.google.com/assets/colab-badge.svg\" alt=\"Open In Colab\"/></a>"
      ]
    },
    {
      "cell_type": "markdown",
      "source": [
        "Input : Masukan nilai\n",
        "if nilai >= 85, huruf = \"A\"\n",
        "if nilai >= 75, huruf = \"B\"\n",
        "if nilai >= 65, huruf = \"C\"\n",
        "if nilai >= 55, huruf = \"D\"\n",
        "if nilai < 55, huruf = \"E\""
      ],
      "metadata": {
        "id": "tr9y0okjGLPS"
      }
    },
    {
      "cell_type": "code",
      "execution_count": null,
      "metadata": {
        "colab": {
          "base_uri": "https://localhost:8080/"
        },
        "id": "2t0kXVACGCP4",
        "outputId": "344b7b96-2e6a-4567-e861-e775014c09a6"
      },
      "outputs": [
        {
          "output_type": "stream",
          "name": "stdout",
          "text": [
            "Masukkan nilai: 102\n",
            "Nilai 102.0 setara dengan huruf Eror\n"
          ]
        }
      ],
      "source": [
        "nilai = float(input(\"Masukkan nilai: \"))\n",
        "\n",
        "if nilai >= 85:\n",
        "    huruf = \"A\"\n",
        "elif nilai >= 75:\n",
        "    huruf = \"B\"\n",
        "elif nilai >= 65:\n",
        "    huruf = \"C\"\n",
        "elif nilai >= 55:\n",
        "    huruf = \"D\"\n",
        "else:\n",
        "    huruf = \"E\"\n",
        "\n",
        "print(f\"Nilai {nilai} setara dengan huruf {huruf}\")"
      ]
    },
    {
      "cell_type": "markdown",
      "source": [
        "Dari Dosen"
      ],
      "metadata": {
        "id": "JqzTx9B4GJWe"
      }
    },
    {
      "cell_type": "code",
      "source": [
        "nilai = int(input(\"Masukan nilai mhs : \"))\n",
        "if (nilai >= 85 ) :\n",
        "  print(\"Huruf A\")\n",
        "elif nilai >= 75 :\n",
        "  print (\"Huruf B\")\n",
        "elif nilai >= 65 :\n",
        "  print (\"Huruf C\")\n",
        "elif nilai >= 55 :\n",
        "  print (\"Huruf D\")\n",
        "else :\n",
        "  print (\"Huruf E\")"
      ],
      "metadata": {
        "colab": {
          "base_uri": "https://localhost:8080/"
        },
        "id": "jtpJUY3-H7w8",
        "outputId": "95241e02-8cea-4731-8b10-8e880db50b8d"
      },
      "execution_count": null,
      "outputs": [
        {
          "output_type": "stream",
          "name": "stdout",
          "text": [
            "Masukan nilai mhs : 99\n",
            "Huruf A\n"
          ]
        }
      ]
    },
    {
      "cell_type": "code",
      "source": [
        "angka = 0\n",
        "while (angka < 5):\n",
        "  print(\"Data ke+\", angka)\n",
        "  angka = angka + 1\n",
        "print(\"data lengkap!! selesai\")"
      ],
      "metadata": {
        "colab": {
          "base_uri": "https://localhost:8080/"
        },
        "id": "7xP3wJ6xIwp5",
        "outputId": "432c9f30-4fea-4be5-8304-a0bcbb242840"
      },
      "execution_count": null,
      "outputs": [
        {
          "output_type": "stream",
          "name": "stdout",
          "text": [
            "Data ke+ 0\n",
            "Data ke+ 1\n",
            "Data ke+ 2\n",
            "Data ke+ 3\n",
            "Data ke+ 4\n",
            "data lengkap!! selesai\n"
          ]
        }
      ]
    },
    {
      "cell_type": "code",
      "source": [
        "def cetakString(varNim, varNama):\n",
        "  print(\"NIM  : \", varNim)\n",
        "  print(\"Nama : \", varNama)\n",
        "\n",
        "def hitung(a, b):\n",
        "  print(\"hasil kali\", a,\" x \",b, \" : \", (a*b))\n",
        "\n",
        "nim  = input(\"NIM anda  : \")\n",
        "nama = input(\"Nama anda  : \")\n",
        "cetakString(nim, nama)\n",
        "bil1=5\n",
        "bil2=8\n",
        "hitung(bil1,bil2)"
      ],
      "metadata": {
        "colab": {
          "base_uri": "https://localhost:8080/"
        },
        "id": "RI7K-Ec7JdiY",
        "outputId": "03f4e9bf-10d2-4a88-b7e8-be23d2792d5e"
      },
      "execution_count": null,
      "outputs": [
        {
          "output_type": "stream",
          "name": "stdout",
          "text": [
            "NIM anda  : G.231.22.0038\n",
            "Nama anda  : Agung Dwi Susilo\n",
            "NIM  :  G.231.22.0038\n",
            "Nama :  Agung Dwi Susilo\n",
            "hasil kali 5  x  8  :  40\n"
          ]
        }
      ]
    },
    {
      "cell_type": "code",
      "source": [
        "peta = {'A':set(['B']),\n",
        " 'B':set(['C','A']),\n",
        " 'C':set(['H','B','I','D']),\n",
        " 'D':set(['C','E','H','F']),\n",
        " 'E':set(['D']),\n",
        " 'F':set(['D','G']),\n",
        " 'G':set(['F','H']),\n",
        " 'H':set(['L','C','G','D']),\n",
        " 'I':set(['C','J','K']),\n",
        " 'J':set(['I']),\n",
        " 'K':set(['L','I']),\n",
        " 'L':set(['K','H'])}"
      ],
      "metadata": {
        "id": "HalG03voLQ6x"
      },
      "execution_count": null,
      "outputs": []
    },
    {
      "cell_type": "code",
      "source": [
        "def bfs_lintasan_terpedek(graph, mulai, goal):\n",
        "  # mengecek semua node\n",
        "  explored = []\n",
        "  # mengecek semua jalur\n",
        "  queue = [[mulai]]\n",
        "\n",
        "  # kembali ke jalr apabila awal adalah tujuan\n",
        "  if mulai == goal:\n",
        "    return \"Awal adalah Tujuan\"\n",
        "\n",
        "  # perulangan sampai dengan semua jalur telah diperiksa\n",
        "  while queue:\n",
        "    # masukan antrian paling depan ke variable jalur\n",
        "    jalur = queue.pop(0)\n",
        "    # ambil node terakhir dari jalur\n",
        "    node = jalur[-1]\n",
        "    # jika node tidak sama dengan tujuan, maka cek apakah node tidak ada di explored\n",
        "    if node not in explored:\n",
        "      neighbours = graph[node] # memasukan semua isi graph node ke dalam neighbours\n",
        "      # buat jalur masukan baru dan\n",
        "      # masukan ke dalam queue\n",
        "      for neighbour in neighbours: # cek semua neighbour dari graph node\n",
        "        jalur_baru = list(jalur) # Memasukan isi dari variable jalur ke variable jalur baru\n",
        "        jalur_baru.append(neighbour) # update/tambah isi dari jalur baru dengan neighbour\n",
        "        queue.append(jalur_baru) # update/tambah isi dari queue dengan jalur baru\n",
        "        #cek apakah neighbour sama dengan tujuan, jika ya maka return jalur baru\n",
        "        if neighbour == goal:\n",
        "          return jalur_baru # kembali ke jalur baru apa bila neighbour benar\n",
        "  explored.append(node) #update/tambah isi dari explored dengan node\n",
        "\n",
        "  #dalam kasus ini  tidak ada node yang diinputkan\n",
        "  return \"Mohon maaf node yang kalian pilih tidak ada\"\n",
        "\n",
        "awal = input (\"Masukan Awal :\")\n",
        "tujuan  = input(\"Masukan Akhir :\")\n",
        "\n",
        "print(bfs_lintasan_terpedek(peta, awal, tujuan)) #contoh kasus dari C ke L"
      ],
      "metadata": {
        "colab": {
          "base_uri": "https://localhost:8080/"
        },
        "id": "Mqgq2930MylO",
        "outputId": "27edb9b2-dee5-4640-f4a7-5eea9004272c"
      },
      "execution_count": null,
      "outputs": [
        {
          "output_type": "stream",
          "name": "stdout",
          "text": [
            "Masukan Awal :A\n",
            "Masukan Akhir :H\n",
            "['A', 'B', 'C', 'H']\n"
          ]
        }
      ]
    },
    {
      "cell_type": "markdown",
      "source": [
        "Tugas Praktikum 1 - BFS"
      ],
      "metadata": {
        "id": "FE_Dn8B1WoMg"
      }
    },
    {
      "cell_type": "code",
      "source": [
        "peta = {'A':set(['B','H']),\n",
        " 'B':set(['A','C','H']),\n",
        " 'C':set(['B','E','D']),\n",
        " 'D':set(['C','E','H','F','G']),\n",
        " 'E':set(['D','C']),\n",
        " 'F':set(['D','G']),\n",
        " 'G':set(['F','H','D']),\n",
        " 'H':set(['A','B','G','D'])}"
      ],
      "metadata": {
        "id": "7XNc_iMSVKwC"
      },
      "execution_count": 2,
      "outputs": []
    },
    {
      "cell_type": "code",
      "source": [
        "def bfs_lintasan_terpedek(graph, mulai, goal):\n",
        "  # mengecek semua node\n",
        "  explored = []\n",
        "  # mengecek semua jalur\n",
        "  queue = [[mulai]]\n",
        "\n",
        "  # kembali ke jalr apabila awal adalah tujuan\n",
        "  if mulai == goal:\n",
        "    return \"Awal adalah Tujuan\"\n",
        "\n",
        "  # perulangan sampai dengan semua jalur telah diperiksa\n",
        "  while queue:\n",
        "    # masukan antrian paling depan ke variable jalur\n",
        "    jalur = queue.pop(0)\n",
        "    # ambil node terakhir dari jalur\n",
        "    node = jalur[-1]\n",
        "    # jika node tidak sama dengan tujuan, maka cek apakah node tidak ada di explored\n",
        "    if node not in explored:\n",
        "      neighbours = graph[node] # memasukan semua isi graph node ke dalam neighbours\n",
        "      # buat jalur masukan baru dan masukan ke dalam queue\n",
        "      for neighbour in neighbours: # cek semua neighbour dari graph node\n",
        "        jalur_baru = list(jalur) # Memasukan isi dari variable jalur ke variable jalur baru\n",
        "        jalur_baru.append(neighbour) # update/tambah isi dari jalur baru dengan neighbour\n",
        "        queue.append(jalur_baru) # update/tambah isi dari queue dengan jalur baru\n",
        "        #cek apakah neighbour sama dengan tujuan, jika ya maka return jalur baru\n",
        "        if neighbour == goal:\n",
        "          return jalur_baru # kembali ke jalur baru apa bila neighbour benar\n",
        "  explored.append(node) #update/tambah isi dari explored dengan node\n",
        "\n",
        "  #dalam kasus ini  tidak ada node yang diinputkan\n",
        "  return \"Mohon maaf node yang kalian pilih tidak ada\"\n",
        "\n",
        "awal = input (\"Masukan Awal :\")\n",
        "tujuan  = input(\"Masukan Akhir :\")\n",
        "\n",
        "print(bfs_lintasan_terpedek(peta, awal, tujuan)) #contoh kasus dari C ke L"
      ],
      "metadata": {
        "colab": {
          "base_uri": "https://localhost:8080/"
        },
        "id": "rT0rBqJbWsFG",
        "outputId": "bb12a2a2-4f46-4e54-a1e3-1f3b77f4e2bf"
      },
      "execution_count": 3,
      "outputs": [
        {
          "output_type": "stream",
          "name": "stdout",
          "text": [
            "Masukan Awal :A\n",
            "Masukan Akhir :F\n",
            "['A', 'H', 'D', 'F']\n"
          ]
        }
      ]
    },
    {
      "cell_type": "code",
      "source": [
        "def bfs_jarak_terpendek(graph, start, goal):\n",
        "    explored = []  # Menyimpan node yang telah dieksplorasi\n",
        "    queue = [[start]]  # Menyimpan jalur yang akan dieksplorasi\n",
        "\n",
        "    # Cek apakah titik awal sama dengan tujuan\n",
        "    if start == goal:\n",
        "        return \"Titik awal dan tujuan sama.\"\n",
        "\n",
        "    while queue:\n",
        "        path = queue.pop(0)  # Ambil jalur pertama dari antrian\n",
        "        node = path[-1]  # Ambil node terakhir dari jalur\n",
        "\n",
        "        if node not in explored:\n",
        "            neighbors = graph[node]  # Ambil semua tetangga dari node\n",
        "\n",
        "            for neighbor in neighbors:\n",
        "                new_path = list(path)  # Salin jalur saat ini ke jalur baru\n",
        "                new_path.append(neighbor)  # Tambahkan tetangga ke jalur baru\n",
        "                queue.append(new_path)  # Tambahkan jalur baru ke antrian\n",
        "\n",
        "                if neighbor == goal:\n",
        "                    return new_path  # Kembalikan jalur jika tetangga adalah tujuan\n",
        "\n",
        "            explored.append(node)  # Tandai node sebagai sudah dieksplorasi\n",
        "\n",
        "    return \"Tidak ada jalur yang menghubungkan titik awal dan tujuan.\"\n",
        "\n",
        "# Definisikan graf Anda\n",
        "peta = {\n",
        "    'A': {'B', 'H'},\n",
        "    'B': {'A', 'C', 'H'},\n",
        "    'C': {'B', 'E', 'D'},\n",
        "    'D': {'C', 'E', 'H', 'F', 'G'},\n",
        "    'E': {'D', 'C'},\n",
        "    'F': {'D', 'G'},\n",
        "    'G': {'F', 'H', 'D'},\n",
        "    'H': {'A', 'B', 'G', 'D'}\n",
        "}\n",
        "\n",
        "awal = input(\"Masukkan titik awal: \")\n",
        "tujuan = input(\"Masukkan titik tujuan: \")\n",
        "\n",
        "hasil = bfs_jarak_terpendek(peta, awal, tujuan)\n",
        "\n",
        "if isinstance(hasil, list):\n",
        "    print(\"Jarak terpendek:\", len(hasil) - 1)\n",
        "    print(\"Lintasan terpendek:\", ' -> '.join(hasil))\n",
        "else:\n",
        "    print(hasil)"
      ],
      "metadata": {
        "colab": {
          "base_uri": "https://localhost:8080/"
        },
        "id": "LwCFO6laXW61",
        "outputId": "e020f887-c4de-4ca4-df56-f03e655739f3"
      },
      "execution_count": null,
      "outputs": [
        {
          "output_type": "stream",
          "name": "stdout",
          "text": [
            "Masukkan titik awal: A\n",
            "Masukkan titik tujuan: H\n",
            "Jarak terpendek: 1\n",
            "Lintasan terpendek: A -> H\n"
          ]
        }
      ]
    }
  ]
}