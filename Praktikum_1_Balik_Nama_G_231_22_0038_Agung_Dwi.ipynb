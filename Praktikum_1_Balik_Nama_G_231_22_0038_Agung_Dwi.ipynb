{
  "nbformat": 4,
  "nbformat_minor": 0,
  "metadata": {
    "colab": {
      "provenance": [],
      "authorship_tag": "ABX9TyMRhQyqcSXK2nSHuZBveVuK",
      "include_colab_link": true
    },
    "kernelspec": {
      "name": "python3",
      "display_name": "Python 3"
    },
    "language_info": {
      "name": "python"
    }
  },
  "cells": [
    {
      "cell_type": "markdown",
      "metadata": {
        "id": "view-in-github",
        "colab_type": "text"
      },
      "source": [
        "<a href=\"https://colab.research.google.com/github/AdRavi89/TugasKuliahUSM/blob/main/Praktikum_1_Balik_Nama_G_231_22_0038_Agung_Dwi.ipynb\" target=\"_parent\"><img src=\"https://colab.research.google.com/assets/colab-badge.svg\" alt=\"Open In Colab\"/></a>"
      ]
    },
    {
      "cell_type": "code",
      "execution_count": 5,
      "metadata": {
        "id": "s1MIuhpvVbUc",
        "colab": {
          "base_uri": "https://localhost:8080/"
        },
        "outputId": "22808b74-2972-4274-8251-9676a9e4d76e"
      },
      "outputs": [
        {
          "output_type": "stream",
          "name": "stdout",
          "text": [
            "Masukan teks : Semangat Yah Buat Kamu\n",
            "Hasil :  umaK tauB haY tagnameS\n"
          ]
        }
      ],
      "source": [
        "def pembalik(teks) :               # Definisikan fungsi pembalik dengan satu parameter teks\n",
        "    list = []                      # Buat list kosong untuk menyimpan karakter teks secara terbalik\n",
        "    hasil = ''                     # Buat string kosong untuk menyimpan hasil terbalik\n",
        "    for i in range (len (teks)):   # Loop melalui karakter dalam teks\n",
        "        list.append(teks[i])       # Tambahkan karakter ke dalam list\n",
        "    while list != []:              # Selama list tidak kosong, lakukan:\n",
        "        hasil += list.pop()        # Hapus karakter dari list dan tambahkan ke hasil secara terbalik\n",
        "    return hasil                   # Kembalikan hasil teks yang telah dibalik\n",
        "a = input(\"Masukan teks : \")       # Mintalah pengguna untuk memasukkan teks\n",
        "print(\"Hasil : \", pembalik (a))    # Cetak hasil teks yang telah dibalik"
      ]
    }
  ]
}