{
  "nbformat": 4,
  "nbformat_minor": 0,
  "metadata": {
    "colab": {
      "provenance": [],
      "authorship_tag": "ABX9TyMnQMuUW5o0Qb8CHzx4aBz+",
      "include_colab_link": true
    },
    "kernelspec": {
      "name": "python3",
      "display_name": "Python 3"
    },
    "language_info": {
      "name": "python"
    }
  },
  "cells": [
    {
      "cell_type": "markdown",
      "metadata": {
        "id": "view-in-github",
        "colab_type": "text"
      },
      "source": [
        "<a href=\"https://colab.research.google.com/github/AdRavi89/TugasKuliahUSM/blob/main/Praktikum_2_AI_Encoded_%26_Confusion_Matrix.ipynb\" target=\"_parent\"><img src=\"https://colab.research.google.com/assets/colab-badge.svg\" alt=\"Open In Colab\"/></a>"
      ]
    },
    {
      "cell_type": "markdown",
      "source": [
        "**Contoh Label Encoding**"
      ],
      "metadata": {
        "id": "pZLWmr2IJGMn"
      }
    },
    {
      "cell_type": "code",
      "source": [
        "import numpy as np\n",
        "from sklearn import preprocessing\n",
        "\n",
        "# Import data\n",
        "input_labels = ['red', 'black', 'red', 'green', 'black', 'yellow', 'white']\n",
        "\n",
        "# Fit the label encoder\n",
        "encoder = preprocessing.LabelEncoder()\n",
        "encoder.fit(input_labels)\n",
        "\n",
        "# Print the label mapping\n",
        "print(\"\\nLabel mapping:\")\n",
        "for i, item in enumerate(encoder.classes_):\n",
        "  print(item, '-->', i)\n",
        "\n",
        "# Encode the test labels\n",
        "test_labels = ['green', 'red', 'black']\n",
        "encoded_values = encoder.transform(test_labels)\n",
        "\n",
        "# Print the original and encoded labels\n",
        "print(\"\\nLabels =\", test_labels)\n",
        "print(\"Encoded values =\", list(encoded_values))\n",
        "\n",
        "# Decode the encoded values\n",
        "decoded_list = encoder.inverse_transform(encoded_values)\n",
        "\n",
        "# Print the encoded and decoded labels\n",
        "print(\"\\nEncoded values =\", encoded_values)\n",
        "print(\"Decoded labels =\", list(decoded_list))\n"
      ],
      "metadata": {
        "colab": {
          "base_uri": "https://localhost:8080/"
        },
        "id": "_ZHjB66zHdiz",
        "outputId": "9642d3df-9830-4a1c-cb76-d1804a3d5ba3"
      },
      "execution_count": 7,
      "outputs": [
        {
          "output_type": "stream",
          "name": "stdout",
          "text": [
            "\n",
            "Label mapping:\n",
            "black --> 0\n",
            "green --> 1\n",
            "red --> 2\n",
            "white --> 3\n",
            "yellow --> 4\n",
            "\n",
            "Labels = ['green', 'red', 'black']\n",
            "Encoded values = [1, 2, 0]\n",
            "\n",
            "Encoded values = [1 2 0]\n",
            "Decoded labels = ['green', 'red', 'black']\n"
          ]
        }
      ]
    },
    {
      "cell_type": "markdown",
      "source": [
        "**Soal Label Encoded**\n",
        "\n",
        "A. buatlah Label mapping daftar matakuliah:\n",
        "\n",
        "basis data --> 0\n",
        "data mining --> 1\n",
        "pbo --> 2\n",
        "rekayasa web --> 3\n",
        "1. ujilah label mapping yang anda buat dengan data label sbb:\n",
        "\n",
        "Label kata = data mining, basisdata, pbo, rekayasa web\n",
        "\n",
        "maka nilai Encoded yang diperoleh = [1, 0, 2, 3]\n",
        "\n",
        "2. ujilah kode label dengan data kode sbb:\n",
        "\n",
        "kode label = [3, 2, 1, 0]\n",
        "\n",
        "maka label kata yang diperoleh = rekayasa web, pbo, data mining', 'basisdata']\n",
        "\n",
        "\n",
        "\n",
        "B. cermati skrip anda, jika mapping label ditambahkan kata citra digital dan flutter. analisalah index mapping label kata yang baru! Jelaskan"
      ],
      "metadata": {
        "id": "Bf2dqfJDGzcY"
      }
    },
    {
      "cell_type": "code",
      "source": [
        "import numpy as np\n",
        "from sklearn import preprocessing\n",
        "\n",
        "input_makul = ['basis data', 'data mining', 'pbo', 'rekayasa web']\n",
        "encoder = preprocessing.LabelEncoder()\n",
        "encoder.fit(input_makul)  # Change 'input_makuls' to 'input_makul'\n",
        "\n",
        "print(\"\\nLabel mapping:\")\n",
        "for i, item in enumerate(encoder.classes_):\n",
        "    print(item, '-->', i)\n",
        "\n",
        "test_labels = ['data mining', 'basis data', 'pbo', 'rekayasa web']\n",
        "encoded_values = encoder.transform(test_labels)\n",
        "print(\"\\nLabels =\", test_labels)\n",
        "print(\"Encoded values =\", list(encoded_values))\n",
        "\n",
        "encoded_values = [3, 2, 1, 0]\n",
        "decoded_list = encoder.inverse_transform(encoded_values)\n",
        "print(\"\\nEncoded values =\", encoded_values)\n",
        "print(\"Decoded labels =\", list(decoded_list))\n"
      ],
      "metadata": {
        "colab": {
          "base_uri": "https://localhost:8080/"
        },
        "id": "Ee3pIoN9G6LA",
        "outputId": "69b7de74-7f37-40f0-828d-4ccfd5a8f702"
      },
      "execution_count": 4,
      "outputs": [
        {
          "output_type": "stream",
          "name": "stdout",
          "text": [
            "\n",
            "Label mapping:\n",
            "basis data --> 0\n",
            "data mining --> 1\n",
            "pbo --> 2\n",
            "rekayasa web --> 3\n",
            "\n",
            "Labels = ['data mining', 'basis data', 'pbo', 'rekayasa web']\n",
            "Encoded values = [1, 0, 2, 3]\n",
            "\n",
            "Encoded values = [3, 2, 1, 0]\n",
            "Decoded labels = ['rekayasa web', 'pbo', 'data mining', 'basis data']\n"
          ]
        }
      ]
    },
    {
      "cell_type": "markdown",
      "source": [
        "\n",
        "\n",
        "---\n",
        "\n"
      ],
      "metadata": {
        "id": "7uw3jvSJJSgb"
      }
    },
    {
      "cell_type": "markdown",
      "source": [
        "**Contoh Confusion Matrik**"
      ],
      "metadata": {
        "id": "hxc9VbxRJV_W"
      }
    },
    {
      "cell_type": "code",
      "source": [
        "import numpy as np\n",
        "import matplotlib.pyplot as plt\n",
        "from sklearn.metrics import confusion_matrix\n",
        "from sklearn.metrics import classification_report\n",
        "\n",
        "true_labels = [2, 0, 0, 2, 4, 4, 1, 0, 3, 3, 3]\n",
        "pred_labels = [2, 1, 0, 2, 4, 3, 1, 0, 1, 3, 3]\n",
        "\n",
        "confusion_mat = confusion_matrix(true_labels, pred_labels)\n",
        "\n",
        "plt.imshow(confusion_mat, interpolation='nearest', cmap=plt.cm.gray)\n",
        "plt.title('Confusion matrix')\n",
        "plt.colorbar()\n",
        "ticks = np.arange(5)\n",
        "plt.xticks(ticks, ticks)\n",
        "plt.yticks(ticks, ticks)\n",
        "plt.ylabel('True labels')\n",
        "plt.xlabel('Predicted labels')\n",
        "plt.show()\n",
        "\n",
        "targets = ['Class-0', 'Class-1', 'Class-2', 'Class-3', 'Class-4']\n",
        "print('\\n', classification_report(true_labels, pred_labels,\n",
        "target_names=targets))"
      ],
      "metadata": {
        "colab": {
          "base_uri": "https://localhost:8080/",
          "height": 698
        },
        "id": "4Jna_PptJW5D",
        "outputId": "ba383a38-ec4c-4251-ee6e-de46797cd509"
      },
      "execution_count": 5,
      "outputs": [
        {
          "output_type": "display_data",
          "data": {
            "text/plain": [
              "<Figure size 640x480 with 2 Axes>"
            ],
            "image/png": "[encoded data removed]"
          },
          "metadata": {}
        },
        {
          "output_type": "stream",
          "name": "stdout",
          "text": [
            "\n",
            "               precision    recall  f1-score   support\n",
            "\n",
            "     Class-0       1.00      0.67      0.80         3\n",
            "     Class-1       0.33      1.00      0.50         1\n",
            "     Class-2       1.00      1.00      1.00         2\n",
            "     Class-3       0.67      0.67      0.67         3\n",
            "     Class-4       1.00      0.50      0.67         2\n",
            "\n",
            "    accuracy                           0.73        11\n",
            "   macro avg       0.80      0.77      0.73        11\n",
            "weighted avg       0.85      0.73      0.75        11\n",
            "\n"
          ]
        }
      ]
    },
    {
      "cell_type": "markdown",
      "source": [
        "**Soal CONFUSION MATRIX.**\n",
        "\n",
        "C. Confusion matrix digunakan untuk menghitung akurasi dari klasifikasi yang dilakukan. Latihan pada modul AI menunjukkan klasiifkasi data training memiliki perbedaan dengan klasifikasi data testing dengan nilai akurasi 73%. Ubahlah data tersebut sehingga memberikan nilai akurasi 100%!\n",
        "\n",
        "\n",
        "\n",
        "kumpulkan script python anda di sini."
      ],
      "metadata": {
        "id": "OMuhYZq6G9fH"
      }
    },
    {
      "cell_type": "code",
      "source": [
        "import numpy as np\n",
        "import matplotlib.pyplot as plt\n",
        "from sklearn.metrics import confusion_matrix\n",
        "from sklearn.metrics import classification_report\n",
        "\n",
        "true_labels = [0, 1, 2, 3, 4, 4, 1, 0, 3, 3, 3]  # Modified true labels\n",
        "pred_labels = [0, 1, 2, 3, 4, 4, 1, 0, 3, 3, 3]  # Modified predicted labels\n",
        "\n",
        "confusion_mat = confusion_matrix(true_labels, pred_labels)\n",
        "\n",
        "plt.imshow(confusion_mat, interpolation='nearest', cmap=plt.cm.gray)\n",
        "plt.title('Confusion matrix')\n",
        "plt.colorbar()\n",
        "ticks = np.arange(5)\n",
        "plt.xticks(ticks, ticks)\n",
        "plt.yticks(ticks, ticks)\n",
        "plt.ylabel('True labels')\n",
        "plt.xlabel('Predicted labels')\n",
        "plt.show()\n",
        "\n",
        "targets = ['Class-0', 'Class-1', 'Class-2', 'Class-3', 'Class-4']\n",
        "print('\\n', classification_report(true_labels, pred_labels, target_names=targets))\n"
      ],
      "metadata": {
        "colab": {
          "base_uri": "https://localhost:8080/",
          "height": 698
        },
        "id": "UHBeXB5dJ0mD",
        "outputId": "051f9410-58a2-477a-8827-32a726cdb30c"
      },
      "execution_count": 6,
      "outputs": [
        {
          "output_type": "display_data",
          "data": {
            "text/plain": [
              "<Figure size 640x480 with 2 Axes>"
            ],
            "image/png": "[encoded data removed]"
          },
          "metadata": {}
        },
        {
          "output_type": "stream",
          "name": "stdout",
          "text": [
            "\n",
            "               precision    recall  f1-score   support\n",
            "\n",
            "     Class-0       1.00      1.00      1.00         2\n",
            "     Class-1       1.00      1.00      1.00         2\n",
            "     Class-2       1.00      1.00      1.00         1\n",
            "     Class-3       1.00      1.00      1.00         4\n",
            "     Class-4       1.00      1.00      1.00         2\n",
            "\n",
            "    accuracy                           1.00        11\n",
            "   macro avg       1.00      1.00      1.00        11\n",
            "weighted avg       1.00      1.00      1.00        11\n",
            "\n"
          ]
        }
      ]
    },
    {
      "cell_type": "code",
      "source": [],
      "metadata": {
        "id": "-EjWkx1AJ0hl"
      },
      "execution_count": null,
      "outputs": []
    }
  ]
}