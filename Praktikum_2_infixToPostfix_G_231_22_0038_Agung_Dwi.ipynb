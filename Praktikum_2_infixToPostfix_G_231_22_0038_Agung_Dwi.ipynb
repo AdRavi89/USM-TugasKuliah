{
  "nbformat": 4,
  "nbformat_minor": 0,
  "metadata": {
    "colab": {
      "provenance": [],
      "authorship_tag": "ABX9TyP7U2Asn2UrvMAobJXdtjPD",
      "include_colab_link": true
    },
    "kernelspec": {
      "name": "python3",
      "display_name": "Python 3"
    },
    "language_info": {
      "name": "python"
    }
  },
  "cells": [
    {
      "cell_type": "markdown",
      "metadata": {
        "id": "view-in-github",
        "colab_type": "text"
      },
      "source": [
        "<a href=\"https://colab.research.google.com/github/AdRavi89/TugasKuliahUSM/blob/main/Praktikum_2_infixToPostfix_G_231_22_0038_Agung_Dwi.ipynb\" target=\"_parent\"><img src=\"https://colab.research.google.com/assets/colab-badge.svg\" alt=\"Open In Colab\"/></a>"
      ]
    },
    {
      "cell_type": "markdown",
      "source": [
        "**InfixToPostfix**"
      ],
      "metadata": {
        "id": "VnF2B04uO-sH"
      }
    },
    {
      "cell_type": "code",
      "execution_count": 2,
      "metadata": {
        "colab": {
          "base_uri": "https://localhost:8080/"
        },
        "id": "_lODgduLMr4X",
        "outputId": "a5ddb1ee-678d-4124-ac50-a1a70ea3ad5c"
      },
      "outputs": [
        {
          "output_type": "stream",
          "name": "stdout",
          "text": [
            "A B * C D * -\n"
          ]
        }
      ],
      "source": [
        "class Stack:\n",
        "    def __init__(self):\n",
        "        self.items = []  # Inisialisasi tumpukan dengan list kosong\n",
        "\n",
        "    def isEmpty(self):\n",
        "        return self.items == []  # Mengembalikan True jika tumpukan kosong\n",
        "\n",
        "    def push(self, items):\n",
        "        self.items.append(items)  # Menambahkan elemen ke tumpukan\n",
        "\n",
        "    def pop(self):\n",
        "        return self.items.pop()  # Menghapus dan mengembalikan elemen teratas tumpukan\n",
        "\n",
        "    def peek(self):\n",
        "        return self.items[len(self.items) - 1]  # Mengembalikan elemen teratas tumpukan\n",
        "\n",
        "# Fungsi untuk mengonversi ekspresi infix ke postfix\n",
        "def infixToPostfix(infixexpr):\n",
        "    prec = {}  # Kamus yang berisi prioritas operator\n",
        "    prec[\"*\"] = 3\n",
        "    prec[\"/\"] = 3\n",
        "    prec[\"+\"] = 2\n",
        "    prec[\"-\"] = 2\n",
        "    prec[\"(\"] = 1\n",
        "\n",
        "    opStack = Stack()  # Membuat instance dari kelas Stack untuk menyimpan operator sementara\n",
        "    postfixList = []   # List untuk menyimpan ekspresi dalam notasi postfix\n",
        "    tokenList = infixexpr.split()  # Memecah ekspresi infix menjadi token-token\n",
        "\n",
        "    for token in tokenList:\n",
        "        if token in \"ABCDEFGHIJKLMNOPQRSTUVWXYZ\" or token in \"0123456789\":\n",
        "            postfixList.append(token)  # Jika token adalah operand, tambahkan ke postfixList\n",
        "        elif token == '(':\n",
        "            opStack.push(token)  # Jika token adalah kurung buka, push ke opStack\n",
        "        elif token == ')':\n",
        "            topToken = opStack.pop()\n",
        "            while topToken != '(':\n",
        "                postfixList.append(topToken)  # Pop operator dari opStack ke postfixList hingga menemukan kurung buka yang sesuai\n",
        "                topToken = opStack.pop()\n",
        "        else:\n",
        "            while (not opStack.isEmpty()) and (prec[opStack.peek()] >= prec[token]):\n",
        "                postfixList.append(opStack.pop())  # Pop operator dari opStack ke postfixList berdasarkan prioritasnya\n",
        "            opStack.push(token)  # Push operator saat ini ke opStack\n",
        "\n",
        "    while not opStack.isEmpty():\n",
        "        postfixList.append(opStack.pop())  # Pop operator yang tersisa dari opStack ke postfixList\n",
        "    return \" \".join(postfixList)  # Menggabungkan elemen-elemen postfixList menjadi string\n",
        "\n",
        "# Mengonversi ekspresi infix menjadi postfix dan mencetak hasilnya\n",
        "print(infixToPostfix(\"A * B - C * D\"))"
      ]
    }
  ]
}