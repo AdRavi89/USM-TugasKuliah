{
  "nbformat": 4,
  "nbformat_minor": 0,
  "metadata": {
    "colab": {
      "provenance": [],
      "authorship_tag": "ABX9TyM6yrq5g4EBXaxD50MgIFVQ",
      "include_colab_link": true
    },
    "kernelspec": {
      "name": "python3",
      "display_name": "Python 3"
    },
    "language_info": {
      "name": "python"
    }
  },
  "cells": [
    {
      "cell_type": "markdown",
      "metadata": {
        "id": "view-in-github",
        "colab_type": "text"
      },
      "source": [
        "<a href=\"https://colab.research.google.com/github/AdRavi89/TugasKuliahUSM/blob/main/Praktikum_4_AI_Multy_Variable_Regressor.ipynb\" target=\"_parent\"><img src=\"https://colab.research.google.com/assets/colab-badge.svg\" alt=\"Open In Colab\"/></a>"
      ]
    },
    {
      "cell_type": "code",
      "execution_count": 1,
      "metadata": {
        "colab": {
          "base_uri": "https://localhost:8080/"
        },
        "id": "cZI66O9CeyRl",
        "outputId": "53ea809e-cb19-4450-b9e7-886b5513664e"
      },
      "outputs": [
        {
          "output_type": "stream",
          "name": "stdout",
          "text": [
            "Linear Regressor performance:\n",
            "Mean absolute error = 3.58\n",
            "Mean squared error = 20.31\n",
            "Median absolute error = 2.99\n",
            "Explained variance score = 0.86\n",
            "R2 score = 0.86\n",
            "\n",
            "Linear regression:\n",
            " [36.05286276]\n",
            "\n",
            "Polynomial regression:\n",
            " [41.46319764]\n"
          ]
        }
      ],
      "source": [
        "import numpy as np\n",
        "from sklearn import linear_model\n",
        "import sklearn.metrics as sm\n",
        "from sklearn.preprocessing import PolynomialFeatures\n",
        "\n",
        "# Input file containing data\n",
        "input_file = 'data_multivar_regr.txt'\n",
        "\n",
        "# Load the data from the input file\n",
        "data = np.loadtxt(input_file, delimiter=',')\n",
        "X, y = data[:, :-1], data[:, -1]\n",
        "\n",
        "# Split data into training and testing\n",
        "num_training = int(0.8 * len(X))\n",
        "num_test = len(X) - num_training\n",
        "\n",
        "# Training data\n",
        "X_train, y_train = X[:num_training], y[:num_training]\n",
        "\n",
        "# Test data\n",
        "X_test, y_test = X[num_training:], y[num_training:]\n",
        "\n",
        "# Create the linear regressor model\n",
        "linear_regressor = linear_model.LinearRegression()\n",
        "\n",
        "# Train the model using the training sets\n",
        "linear_regressor.fit(X_train, y_train)\n",
        "\n",
        "# Predict the output\n",
        "y_test_pred = linear_regressor.predict(X_test)\n",
        "\n",
        "# Measure performance\n",
        "print(\"Linear Regressor performance:\")\n",
        "# (MAE): Mengukur rata-rata dari selisih absolut antara prediksi dan nilai sebenarnya\n",
        "print(\"Mean absolute error =\", round(sm.mean_absolute_error(y_test, y_test_pred), 2))\n",
        "#(MSE): Mengukur rata-rata dari kuadrat selisih antara prediksi dan nilai sebenarnya.\n",
        "print(\"Mean squared error =\", round(sm.mean_squared_error(y_test, y_test_pred), 2))\n",
        "#Nilai tengah dari seluruh selisih absolut antara prediksi dan nilai sebenarnya\n",
        "print(\"Median absolute error =\", round(sm.median_absolute_error(y_test, y_test_pred), 2))\n",
        "#Mengukur seberapa baik model dapat menjelaskan variasi dari data sebenarnya\n",
        "print(\"Explained variance score =\", round(sm.explained_variance_score(y_test, y_test_pred), 2))\n",
        "#Mengukur seberapa baik variabilitas dari variabel dependen dapat dijelaskan oleh model.\n",
        "print(\"R2 score =\", round(sm.r2_score(y_test, y_test_pred), 2))\n",
        "\n",
        "# Polynomial regression\n",
        "polynomial = PolynomialFeatures(degree=10)\n",
        "X_train_transformed = polynomial.fit_transform(X_train)\n",
        "datapoint = [[7.75, 6.35, 5.56]]\n",
        "poly_datapoint = polynomial.fit_transform(datapoint)\n",
        "\n",
        "poly_linear_model = linear_model.LinearRegression()\n",
        "poly_linear_model.fit(X_train_transformed, y_train)\n",
        "print(\"\\nLinear regression:\\n\", linear_regressor.predict(datapoint))\n",
        "print(\"\\nPolynomial regression:\\n\", poly_linear_model.predict(poly_datapoint))\n"
      ]
    },
    {
      "cell_type": "markdown",
      "source": [
        "# **Penjelasan tiap Proses**"
      ],
      "metadata": {
        "id": "MHKJwPhRiuyd"
      }
    },
    {
      "cell_type": "code",
      "source": [
        "# Input file containing data\n",
        "input_file = 'data_multivar_regr.txt'\n",
        "\n",
        "# Load the data from the input file\n",
        "data = np.loadtxt(input_file, delimiter=',')\n",
        "X, y = data[:, :-1], data[:, -1]\n",
        "len(X)"
      ],
      "metadata": {
        "colab": {
          "base_uri": "https://localhost:8080/"
        },
        "id": "RuEE0jNCiuY8",
        "outputId": "40033ae9-f293-42c9-da17-fed4c2724005"
      },
      "execution_count": 5,
      "outputs": [
        {
          "output_type": "execute_result",
          "data": {
            "text/plain": [
              "700"
            ]
          },
          "metadata": {},
          "execution_count": 5
        }
      ]
    },
    {
      "cell_type": "markdown",
      "source": [
        "**Memisahkan data training dan data testing**"
      ],
      "metadata": {
        "id": "YTuHWW_MjZKJ"
      }
    },
    {
      "cell_type": "code",
      "source": [
        "#data training\n",
        "num_training = int(0.8 * len(X))\n",
        "num_training"
      ],
      "metadata": {
        "colab": {
          "base_uri": "https://localhost:8080/"
        },
        "id": "mzTIyT27jf4m",
        "outputId": "2aad977d-8b2f-40ce-bd03-d3642f6b319b"
      },
      "execution_count": 6,
      "outputs": [
        {
          "output_type": "execute_result",
          "data": {
            "text/plain": [
              "560"
            ]
          },
          "metadata": {},
          "execution_count": 6
        }
      ]
    },
    {
      "cell_type": "code",
      "source": [
        "#data training\n",
        "X_train, y_train = X[:num_training], y[:num_training]\n",
        "#data testing\n",
        "X_test, y_test = X[num_training:], y[num_training:]\n",
        "#membuat objek linier regresi\n",
        "regressor = linear_model.LinearRegression()\n",
        "y_test"
      ],
      "metadata": {
        "colab": {
          "base_uri": "https://localhost:8080/"
        },
        "id": "HQZl8gPKkOFx",
        "outputId": "4f08840f-7c2b-435a-be02-d9a6651b9d7a"
      },
      "execution_count": 7,
      "outputs": [
        {
          "output_type": "execute_result",
          "data": {
            "text/plain": [
              "array([26.42, 18.99, 12.63, 22.02, 29.66, 30.36, 18.87, 15.63, 12.53,\n",
              "        2.82, 38.22, 35.05, 25.77,  8.01, 47.31, 20.47, -7.8 , 23.21,\n",
              "       20.  , 37.76, 10.68, 50.56,  9.23, 12.31, 10.84,  7.18,  7.94,\n",
              "       38.62, 32.24, 16.96, 11.78, 27.98, 19.51, 26.33, 30.4 , 16.55,\n",
              "       16.1 , 13.97, 11.99, 42.36, 27.7 , 46.43, 21.47, 42.74, 10.53,\n",
              "        3.32, 32.24, 14.01, 14.34,  8.67, 27.28, 35.55, 28.68, 31.55,\n",
              "       34.86, 28.31, 29.02, 41.31, 14.97, 29.43, 24.66, 14.14, 19.03,\n",
              "       23.4 , 31.36,  3.14, 20.62,  2.06, 12.81,  8.59, 28.99, -1.21,\n",
              "       23.7 , 20.7 ,  9.06, 43.34, 29.74,  2.02, -8.77, -0.99,  0.51,\n",
              "       33.91, 22.09, 26.33,  9.48, 23.51, 16.35, 16.65, 12.69, 38.45,\n",
              "       29.36, 25.08, 24.04, 24.15,  7.42, 23.  , -6.79, 19.21, 21.32,\n",
              "       17.27, 19.77, 36.88,  6.5 , 20.65, 26.53, 23.05, 33.92, -2.08,\n",
              "       28.3 , 24.79, 16.94,  5.41, 20.84, 40.43,  8.06, 17.76, 38.66,\n",
              "       17.26, 17.45, 35.67, 46.62, 23.33, 30.41, 27.37, 18.44, -0.85,\n",
              "       18.78, 22.75, 38.65, 10.02, 19.13, 31.67, 27.14, 36.44, 18.06,\n",
              "       15.95,  5.24,  6.33, 26.66, 25.13])"
            ]
          },
          "metadata": {},
          "execution_count": 7
        }
      ]
    },
    {
      "cell_type": "code",
      "source": [
        "#pengujian model menggunakan data training\n",
        "regressor.fit(X_train, y_train)\n",
        "#prediksi menggunakan data testing\n",
        "y_test_pred = regressor.predict(X_test)\n",
        "y_test_pred"
      ],
      "metadata": {
        "colab": {
          "base_uri": "https://localhost:8080/"
        },
        "id": "NiofqFjMk9fG",
        "outputId": "d75346b8-aa54-4b49-8401-369144247a9b"
      },
      "execution_count": 8,
      "outputs": [
        {
          "output_type": "execute_result",
          "data": {
            "text/plain": [
              "array([22.78528425, 16.82615492, 14.61860452, 29.15747178, 27.11046316,\n",
              "       31.60389496, 13.30237996, 11.62661759,  8.09481811, 11.74077081,\n",
              "       39.1172444 , 30.75566379, 23.12708627,  7.54754464, 39.68774379,\n",
              "       26.79760655, -5.49898186, 31.96936837, 18.50323204, 44.46319974,\n",
              "       14.02992617, 49.71403291, 13.48833047, 12.23909495, 10.79418467,\n",
              "        9.86453024,  0.89678562, 39.69226772, 33.45925578, 11.6979999 ,\n",
              "       10.35184515, 26.90632702, 20.01567015, 28.98379301, 30.65506823,\n",
              "       19.35301741, 22.31530172, 14.25620284, 10.99409811, 35.09346744,\n",
              "       30.00775077, 36.21559786, 26.23248215, 42.11677633,  6.52328431,\n",
              "       13.22753197, 24.77023526, 18.42542752, 11.21896719,  9.23494141,\n",
              "       22.16784074, 35.77027227, 28.77520234, 29.47559595, 23.70063008,\n",
              "       27.34671914, 33.25028313, 34.2199932 , 22.95784584, 26.2276629 ,\n",
              "       23.50486349, 13.60577206, 17.81571653, 17.08732013, 23.20119427,\n",
              "        1.47188655, 19.54608392,  4.14593076, 16.5246694 , 11.75637552,\n",
              "       28.8172124 , -5.44453279, 25.89798674, 15.03980709,  3.14820948,\n",
              "       34.51583832, 25.50942402,  9.79152074, -2.78482427,  5.16885712,\n",
              "        8.10478245, 33.87876229, 22.04126106, 25.7093832 ,  8.81911122,\n",
              "       17.22582598, 26.13629468, 14.06802004,  9.33969876, 36.74710523,\n",
              "       32.39331372, 27.78585896, 25.97233088, 26.10474941, 11.62007764,\n",
              "       18.81276638, -1.35673328, 18.5567753 , 21.59348969, 17.60650898,\n",
              "       18.72014657, 37.45823514,  6.29446027, 22.04766174, 21.17924029,\n",
              "       22.19278243, 29.15656461, -7.20210586, 30.28882347, 30.11770001,\n",
              "       16.73927611,  3.52477612, 16.89569732, 45.16753066, 18.17876096,\n",
              "       23.46573854, 38.33117231, 21.35094596, 18.8268652 , 26.81007036,\n",
              "       48.11508124, 30.17626677, 24.06283022, 24.08198461, 19.21498012,\n",
              "        3.8122925 , 20.59338234, 19.68249551, 35.70749797, 11.89415034,\n",
              "       20.58263719, 28.97710763, 24.34174235, 31.67206088, 20.32556345,\n",
              "       11.46135231, 12.98738876, 11.45959202, 19.68672977, 26.93680259])"
            ]
          },
          "metadata": {},
          "execution_count": 8
        }
      ]
    },
    {
      "cell_type": "code",
      "source": [
        "# Measure performance\n",
        "print(\"Linear Regressor performance:\")\n",
        "# (MAE): Mengukur rata-rata dari selisih absolut antara prediksi dan nilai sebenarnya\n",
        "print(\"Mean absolute error =\", round(sm.mean_absolute_error(y_test, y_test_pred), 2))\n",
        "#(MSE): Mengukur rata-rata dari kuadrat selisih antara prediksi dan nilai sebenarnya.\n",
        "print(\"Mean squared error =\", round(sm.mean_squared_error(y_test, y_test_pred), 2))\n",
        "#Nilai tengah dari seluruh selisih absolut antara prediksi dan nilai sebenarnya\n",
        "print(\"Median absolute error =\", round(sm.median_absolute_error(y_test, y_test_pred), 2))\n",
        "#Mengukur seberapa baik model dapat menjelaskan variasi dari data sebenarnya\n",
        "print(\"Explained variance score =\", round(sm.explained_variance_score(y_test, y_test_pred), 2))\n",
        "#Mengukur seberapa baik variabilitas dari variabel dependen dapat dijelaskan oleh model.\n",
        "print(\"R2 score =\", round(sm.r2_score(y_test, y_test_pred), 2))"
      ],
      "metadata": {
        "colab": {
          "base_uri": "https://localhost:8080/"
        },
        "id": "Cr_dLxYDlWeQ",
        "outputId": "0a6f4c66-bcf6-4f22-8f52-d7dc3e0e3131"
      },
      "execution_count": 9,
      "outputs": [
        {
          "output_type": "stream",
          "name": "stdout",
          "text": [
            "Linear Regressor performance:\n",
            "Mean absolute error = 3.58\n",
            "Mean squared error = 20.31\n",
            "Median absolute error = 2.99\n",
            "Explained variance score = 0.86\n",
            "R2 score = 0.86\n"
          ]
        }
      ]
    },
    {
      "cell_type": "code",
      "source": [
        "# Polynomial regression\n",
        "#Membuat objek PolynomialFeatures yang akan mengubah fitur-fitur asli menjadi polinomial hingga derajat 10\n",
        "polynomial = PolynomialFeatures(degree=10)\n",
        "#Menggunakan objek PolynomialFeatures yang telah dibuat sebelumnya\n",
        "X_train_transformed = polynomial.fit_transform(X_train)\n",
        "# Menginisialisasi sebuah titik data\n",
        "datapoint = [[7.75, 6.35, 5.56]]\n",
        "#Transformasi titik data tersebut ke dalam bentuk polinomial yang sesuai.\n",
        "poly_datapoint = polynomial.fit_transform(datapoint)\n",
        "#Membuat model regresi linear baru yang akan mempelajari pola\n",
        "poly_linear_model = linear_model.LinearRegression()\n",
        "#Melatih model regresi linear pada data latih yang sudah diubah ke dalam bentuk polinomial.\n",
        "poly_linear_model.fit(X_train_transformed, y_train)\n",
        "\n",
        "print(\"\\nLinear regression:\\n\", linear_regressor.predict(datapoint))\n",
        "print(\"\\nPolynomial regression:\\n\", poly_linear_model.predict(poly_datapoint))"
      ],
      "metadata": {
        "colab": {
          "base_uri": "https://localhost:8080/"
        },
        "id": "FZIemKl4lcIL",
        "outputId": "35a36fdc-7a72-48ed-e459-30cbb987511a"
      },
      "execution_count": 10,
      "outputs": [
        {
          "output_type": "stream",
          "name": "stdout",
          "text": [
            "\n",
            "Linear regression:\n",
            " [36.05286276]\n",
            "\n",
            "Polynomial regression:\n",
            " [41.46319764]\n"
          ]
        }
      ]
    }
  ]
}