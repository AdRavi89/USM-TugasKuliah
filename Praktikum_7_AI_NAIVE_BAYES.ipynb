{
  "nbformat": 4,
  "nbformat_minor": 0,
  "metadata": {
    "colab": {
      "provenance": [],
      "authorship_tag": "ABX9TyMKVzox+DZrM4tvLXzFpZxn",
      "include_colab_link": true
    },
    "kernelspec": {
      "name": "python3",
      "display_name": "Python 3"
    },
    "language_info": {
      "name": "python"
    }
  },
  "cells": [
    {
      "cell_type": "markdown",
      "metadata": {
        "id": "view-in-github",
        "colab_type": "text"
      },
      "source": [
        "<a href=\"https://colab.research.google.com/github/AdRavi89/TugasKuliahUSM/blob/main/Praktikum_7_AI_NAIVE_BAYES.ipynb\" target=\"_parent\"><img src=\"https://colab.research.google.com/assets/colab-badge.svg\" alt=\"Open In Colab\"/></a>"
      ]
    },
    {
      "cell_type": "code",
      "execution_count": null,
      "metadata": {
        "colab": {
          "base_uri": "https://localhost:8080/"
        },
        "id": "db7fmq3w62iq",
        "outputId": "477f6ed3-e9a6-4e89-b796-2b6549741056"
      },
      "outputs": [
        {
          "output_type": "stream",
          "name": "stdout",
          "text": [
            "[0 1 1 1 0 0 1 0 0 0 1 0 0 0 1 0 1 0 0 1 1 1 1 0 0 0 0 0 1 1 0 1 0 1 1 1 1\n",
            " 1 0 1 0 0 1 1 1 1 1 1 1 1]\n",
            "Hasil Prediksi Kelulusan :  Terlambat\n",
            "Hasil Prediksi Kelulusan :  Tepat\n",
            "Nilai akurasi = 0.70\n",
            "              precision    recall  f1-score   support\n",
            "\n",
            "           0       0.73      0.64      0.68        25\n",
            "           1       0.68      0.76      0.72        25\n",
            "\n",
            "    accuracy                           0.70        50\n",
            "   macro avg       0.70      0.70      0.70        50\n",
            "weighted avg       0.70      0.70      0.70        50\n",
            "\n"
          ]
        }
      ],
      "source": [
        "#Memanggil library\n",
        "import pandas as pd\n",
        "import numpy as np\n",
        "\n",
        "# Membaca data kelulusan Mahasiswa\n",
        "mhs = pd.read_excel('Data Kelulusan Mahasiswa.xlsx')\n",
        "mhs.head(10)\n",
        "\n",
        "#membuat atribut reguler\n",
        "x = mhs.drop(['StatusKelulusan'],axis = 1)\n",
        "x.head()\n",
        "\n",
        "#membuat atribut target/ class\n",
        "y = mhs['StatusKelulusan']\n",
        "y.head()\n",
        "\n",
        "#import gausian naive bayes model\n",
        "from sklearn.naive_bayes import GaussianNB\n",
        "\n",
        "#memanggil fungsi Gaussian Naive Bayes\n",
        "nbc = GaussianNB()\n",
        "\n",
        "#Memasukkan data training ke dalam fungsi klassifikasi naive bayes\n",
        "data_training = nbc.fit(x.values,y)\n",
        "data_training\n",
        "\n",
        "#melakukan prediksi pada data training\n",
        "y_predict = data_training.predict(x.values)\n",
        "print(y_predict)\n",
        "\n",
        "#melakukan prediksi pada data input --> data yang akan diprediksi\n",
        "Jenis_Kelamin = 1 #1 = Pria\n",
        "Status_Kerja = 0 # 0 = Mahasiswa\n",
        "Umur = 25\n",
        "Status_Nikah = 1 # 1 = Menikah\n",
        "IPS1 = 3.12\n",
        "IPS2 = 2.75\n",
        "IPS3 = 2.05\n",
        "IPS4 = 3.01\n",
        "IPS5 = 2.56\n",
        "IPS6 = 3.67\n",
        "IPS7 = 2.75\n",
        "IPS8 = 3.45\n",
        "IPK = np.average([IPS1,IPS2,IPS3,IPS4,IPS5,IPS6,IPS7,IPS8])\n",
        "Data_testing1 = [[Jenis_Kelamin, Status_Kerja, Umur, Status_Nikah,IPS1,IPS2,IPS3,IPS4,IPS5,IPS6,IPS7,IPS8,IPK]]\n",
        "Data_testing1\n",
        "\n",
        "#melakukan prediksi pada data input --> data yang akan diprediksi\n",
        "Jenis_Kelamin = 1 #1 = Pria\n",
        "Status_Kerja = 0 # 0 = Mahasiswa\n",
        "Umur = 25\n",
        "Status_Nikah = 1 # 1 = Menikah\n",
        "IPS1 = 3.12\n",
        "IPS2 = 3.75\n",
        "IPS3 = 3.05\n",
        "IPS4 = 3.01\n",
        "IPS5 = 3.56\n",
        "IPS6 = 3.67\n",
        "IPS7 = 3.75\n",
        "IPS8 = 3.45\n",
        "IPK = np.average([IPS1,IPS2,IPS3,IPS4,IPS5,IPS6,IPS7,IPS8])\n",
        "Data_testing2 = [[Jenis_Kelamin, Status_Kerja, Umur, Status_Nikah,IPS1,IPS2,IPS3,IPS4,IPS5,IPS6,IPS7,IPS8,IPK]]\n",
        "Data_testing2\n",
        "\n",
        "#Melakukan prediksi berdasarkan data input\n",
        "y_pred1 =data_training.predict(Data_testing1)\n",
        "y_pred1\n",
        "#Mencetak hasil prediksi kelulusan\n",
        "# hasil 0 = Terlambat, 1 = tepat\n",
        "if y_pred1 ==0:\n",
        "  hasil = 'Terlambat'\n",
        "elif y_pred1 == 1:\n",
        "  hasil = 'Tepat'\n",
        "else :\n",
        "  hasil = 'Error'\n",
        "print('Hasil Prediksi Kelulusan : ', hasil)\n",
        "\n",
        "y_pred1\n",
        "\n",
        "y_pred2 =data_training.predict(Data_testing2)\n",
        "y_pred2\n",
        "\n",
        "#Mencetak hasil prediksi kelulusan\n",
        "# hasil 0 = Terlambat, 1 = tepat\n",
        "if y_pred2 ==0:\n",
        "  hasil = 'Terlambat'\n",
        "elif y_pred2 == 1:\n",
        "  hasil = 'Tepat'\n",
        "else :\n",
        "  hasil = 'Error'\n",
        "print('Hasil Prediksi Kelulusan : ', hasil)\n",
        "\n",
        "#menghitung akurasi --> melihat skor akurasi\n",
        "from sklearn.metrics import accuracy_score\n",
        "print('Nilai akurasi = %0.2f' % accuracy_score(y,y_predict))\n",
        "\n",
        "# Mencetak laporan hasil klasifikasi\n",
        "from sklearn.metrics import classification_report\n",
        "print(classification_report(y,y_predict))"
      ]
    }
  ]
}