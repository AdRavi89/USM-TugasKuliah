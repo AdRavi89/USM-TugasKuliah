{
  "nbformat": 4,
  "nbformat_minor": 0,
  "metadata": {
    "colab": {
      "provenance": [],
      "authorship_tag": "ABX9TyPuJAZ/koapBz8hheonV1H6",
      "include_colab_link": true
    },
    "kernelspec": {
      "name": "python3",
      "display_name": "Python 3"
    },
    "language_info": {
      "name": "python"
    }
  },
  "cells": [
    {
      "cell_type": "markdown",
      "metadata": {
        "id": "view-in-github",
        "colab_type": "text"
      },
      "source": [
        "<a href=\"https://colab.research.google.com/github/AdRavi89/TugasKuliahUSM/blob/main/Praktikum_Algoritma_App_kasir_tugas_A1.ipynb\" target=\"_parent\"><img src=\"https://colab.research.google.com/assets/colab-badge.svg\" alt=\"Open In Colab\"/></a>"
      ]
    },
    {
      "cell_type": "code",
      "execution_count": null,
      "metadata": {
        "colab": {
          "base_uri": "https://localhost:8080/"
        },
        "id": "fKcQWxHMT_ol",
        "outputId": "3a558258-2969-4342-94bb-bddd96383f87"
      },
      "outputs": [
        {
          "output_type": "stream",
          "name": "stdout",
          "text": [
            "masukan username         : kasdus\n",
            "masukan password         : admin\n",
            "password salah\n",
            "masukan username         : kasirku\n",
            "masukan password         : admin\n",
            "password benar\n",
            "Masukkan Nomor Transaksi : 456789\n",
            "Masukkan Nama Barang     : pensil\n",
            "Masukkan Jumlah Beli     : 40\n",
            "Member  ( Y / N )        : y\n",
            "==============================================================\n",
            "=================== STRUK PEMBELIAN BARANG ===================\n",
            "==============================================================\n",
            "Nomor Transaksi       = 456789\n",
            "Nama Barang           = pensil\n",
            "Harga Satuan          = Rp 2.000\n",
            "Jumlah Beli           = 40 pcs\n",
            "Total                 = Rp 80.000\n",
            "==============================================================\n",
            "Diskon Member 5%      = Rp 4.000\n",
            "==============================================================\n",
            "Total Harga           = Rp 76.000\n",
            "==============================================================\n",
            "==============================================================\n"
          ]
        }
      ],
      "source": [
        "#Nama : Agung Dwi Susilo\n",
        "#NIM : G.231.22.0038\n",
        "\n",
        "from IPython.display import clear_output\n",
        "nama = \"kasirku\"\n",
        "kunci = \"admin\"\n",
        "input_ke=0\n",
        "while input_ke!=2 :\n",
        "  username = input (\"masukan username         : \")\n",
        "  password = input (\"masukan password         : \")\n",
        "  if username == nama and password == kunci :\n",
        "    print (\"password benar\")\n",
        "    break\n",
        "  else :\n",
        "    print (\"password salah\")\n",
        "    input_ke += 1\n",
        "if input_ke==2:\n",
        "  clear_output()\n",
        "  print('Maaf anda 2 kali salah password/username, Login Gagal')\n",
        "else :\n",
        "  nomor_transaksi = int(input('Masukkan Nomor Transaksi : '))\n",
        "  nama_barang = input('Masukkan Nama Barang     : ').lower()\n",
        "  jumlah_beli = float(input('Masukkan Jumlah Beli     : '))\n",
        "  member = input('Member  ( Y / N )        : ').lower()\n",
        "  if(nama_barang == 'buku') :\n",
        "    harga = 5000\n",
        "  elif (nama_barang == 'pensil') :\n",
        "    harga = 2000\n",
        "  elif (nama_barang == 'pulpen') :\n",
        "    harga = 4000\n",
        "  if (member == 'y') :\n",
        "    diskon = 5\n",
        "  elif (member == 'n') :\n",
        "    diskon = 0\n",
        "  total = harga * jumlah_beli\n",
        "  diskon_rupiah = total * diskon/100\n",
        "  total_bayar = total - diskon_rupiah\n",
        "  # print\n",
        "  print('==============================================================')\n",
        "  print('=================== STRUK PEMBELIAN BARANG ===================')\n",
        "  print('==============================================================')\n",
        "  print(f'Nomor Transaksi       = {nomor_transaksi}')\n",
        "  print(f'Nama Barang           = {nama_barang}')\n",
        "  print(\"Harga Satuan          = Rp {:,}\".format(int(harga)).replace(',','.'))\n",
        "  print(f'Jumlah Beli           = {int(jumlah_beli)} pcs')\n",
        "  print(\"Total                 = Rp {:,}\".format(int(total)).replace(',','.'))\n",
        "  print(f'==============================================================')\n",
        "  print(\"Diskon Member 5%      = Rp {:,}\".format(int(diskon_rupiah)).replace(',','.'))\n",
        "  print(f'==============================================================')\n",
        "  print(\"Total Harga           = Rp {:,}\".format(int(total_bayar)).replace(',','.'))\n",
        "  print(f'==============================================================')\n",
        "  print(f'==============================================================')"
      ]
    }
  ]
}