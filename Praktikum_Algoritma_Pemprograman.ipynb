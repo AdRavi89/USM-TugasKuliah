{
  "cells": [
    {
      "cell_type": "markdown",
      "metadata": {
        "id": "view-in-github",
        "colab_type": "text"
      },
      "source": [
        "<a href=\"https://colab.research.google.com/github/AdRavi89/TugasKuliahUSM/blob/main/Praktikum_Algoritma_Pemprograman.ipynb\" target=\"_parent\"><img src=\"https://colab.research.google.com/assets/colab-badge.svg\" alt=\"Open In Colab\"/></a>"
      ]
    },
    {
      "cell_type": "markdown",
      "metadata": {
        "id": "o3N6l6UcX_qk"
      },
      "source": [
        "A. Pengenalan Phyton"
      ]
    },
    {
      "cell_type": "code",
      "execution_count": null,
      "metadata": {
        "id": "jETwBm3OYOgL"
      },
      "outputs": [],
      "source": [
        "print (\"Python itu sangat simple broo\");"
      ]
    },
    {
      "cell_type": "markdown",
      "metadata": {
        "id": "N4Pe7D-EdI0w"
      },
      "source": [
        "D. Tipe Data Phyton"
      ]
    },
    {
      "cell_type": "markdown",
      "metadata": {
        "id": "d3tsCvBzgwWp"
      },
      "source": []
    },
    {
      "cell_type": "code",
      "execution_count": null,
      "metadata": {
        "id": "uaxNXbKUYe_E"
      },
      "outputs": [],
      "source": [
        "from pickle import FALSE\n",
        "#tipe data Boolean\n",
        "print (True)\n",
        "print (False)\n",
        "\n",
        "#tipe data String (karakter)\n",
        "print (\"FTIK USM, Progdi Teknik Informatika\")\n",
        "print ('FTIK USM, Progdi Teknik Informatika')\n",
        "\n",
        "#tipe data Integer (Bilangan Bulat Positif)\n",
        "print (80)\n",
        "\n",
        "#tipe data float (Tipe Data Biangan Desimal)\n",
        "print (3.14)\n",
        "\n",
        "#tipe data Complex (menyatakan pasangan angka real dan imajiner)\n",
        "print (5j)\n",
        "\n",
        "#tipe data List (data yang menyimpan beda kurung siku)\n",
        "print ([1,2,3,4,5])\n",
        "print ((\"satu\", \"dua\", \"tiga\"))\n",
        "\n",
        "#tipe data Tuple (selalu memakai kurung buka tutup)\n",
        "print ((1,2,3,4,5))\n",
        "print ((\"satu\", \"dua\", \"tiga\"))\n",
        "\n",
        "#tipe data Dictionary (selalu memakai kurung kurawal)\n",
        "print({\"nama\":\"Joko\", 'umur':22})\n",
        "\n",
        "#type data Dictionary dimasukan ke dalam variable biodata\n",
        "biodata = {\"nama\":\"Ani\", 'umur' :20} #proses inisialisasi variabel biodata\n",
        "print (biodata)\n",
        "#fungsi untuk mengecek jenis tipe data. akan tampil <class 'dict'>\n",
        "#yang berarti dict adalah type data dictionary\n",
        "type (biodata)\n"
      ]
    },
    {
      "cell_type": "markdown",
      "metadata": {
        "id": "JNfGlaIsdced"
      },
      "source": [
        "E. Variabel Python"
      ]
    },
    {
      "cell_type": "code",
      "execution_count": null,
      "metadata": {
        "id": "Jfd2Z8OXdkRX"
      },
      "outputs": [],
      "source": [
        "#proses memasukan data ke dalam variabel\n",
        "nama = \"Universitas Semarang\"\n",
        "#proses mencetak variabel\n",
        "print (nama)\n",
        "\n",
        "#nilai dan tipe data dalam variabel dapat diubah\n",
        "umur = 20                 #nilai awal\n",
        "print (umur)              #mencetak nilai umur\n",
        "type (umur)               #mencetak tipe data umur\n",
        "umur = \"dua puluh satu\"   #nilai setelah diubah\n",
        "print (umur)              #mencetak nilai umur\n",
        "type (umur)               #mengecek tipe data umur\n",
        "\n",
        "namaDepan =\"Rudin\"\n",
        "namaBelakang=\"Ndeso\"\n",
        "nama = namaDepan + \" \" + namaBelakang\n",
        "umur = 29\n",
        "hobi = \"Badminton\"\n",
        "print (\"Biodata\\n\", nama, \"\\n\", umur, \"\\n\", hobi)\n",
        "\n",
        "#contoh variable lainnya\n",
        "inivariabel = \"Halo\"\n",
        "ini_juga_variabel = \"Hai\"\n",
        "_inivariabeljuga = \"Hi\"\n",
        "inivariabel222 = \"Bye\"\n",
        "\n",
        "panjang = 10\n",
        "lebar = 5\n",
        "luas = panjang * lebar\n",
        "print(luas)"
      ]
    },
    {
      "cell_type": "markdown",
      "metadata": {
        "id": "InaP_rmEtYkL"
      },
      "source": [
        "note \"\\n\" artinya pindah baris ke bawah"
      ]
    },
    {
      "cell_type": "markdown",
      "metadata": {
        "id": "9tdImYWrkD3b"
      },
      "source": [
        "BAB 2. OPERATOR"
      ]
    },
    {
      "cell_type": "markdown",
      "metadata": {
        "id": "-2M2d0vCLpIV"
      },
      "source": [
        "A. OPERATOR ARITMATIKA"
      ]
    },
    {
      "cell_type": "markdown",
      "metadata": {
        "id": "P8-_cZgWL_qD"
      },
      "source": [
        "PENJUMLAHAAN"
      ]
    },
    {
      "cell_type": "code",
      "execution_count": null,
      "metadata": {
        "id": "iD4JJdUbL8pj"
      },
      "outputs": [],
      "source": [
        "#Penjumlahan\n",
        "print(13+2)\n",
        "apel = 7\n",
        "jeruk = 9\n",
        "buah = apel + jeruk #\n",
        "print (buah)"
      ]
    },
    {
      "cell_type": "markdown",
      "metadata": {
        "id": "dskHO8NlMzcK"
      },
      "source": [
        "PENGURANGAN"
      ]
    },
    {
      "cell_type": "code",
      "execution_count": null,
      "metadata": {
        "colab": {
          "base_uri": "https://localhost:8080/"
        },
        "id": "0qsbprJMM5Em",
        "outputId": "56e9a82c-be60-4b3c-9475-7f875102bb4d"
      },
      "outputs": [
        {
          "name": "stdout",
          "output_type": "stream",
          "text": [
            "Sisa hutang kita adalah 5000\n"
          ]
        }
      ],
      "source": [
        "#Pengurangan\n",
        "hutang = 10000\n",
        "bayar = 5000\n",
        "sisaHutang = hutang - bayar\n",
        "print (\"Sisa hutang kita adalah\", sisaHutang)"
      ]
    },
    {
      "cell_type": "markdown",
      "metadata": {
        "id": "1aeMbDqGNvH-"
      },
      "source": [
        "PERKALIAN"
      ]
    },
    {
      "cell_type": "code",
      "execution_count": null,
      "metadata": {
        "id": "441PjOWfNywS"
      },
      "outputs": [],
      "source": [
        "#Perkalian\n",
        "panjang = 15\n",
        "lebar = 8\n",
        "luas = panjang * lebar\n",
        "print(luas)"
      ]
    },
    {
      "cell_type": "markdown",
      "metadata": {
        "id": "fwaLb8NLOydv"
      },
      "source": [
        "PEMBAGIAN"
      ]
    },
    {
      "cell_type": "code",
      "execution_count": null,
      "metadata": {
        "id": "qTWJKsE-O0u5"
      },
      "outputs": [],
      "source": [
        "#Pembagian\n",
        "kue = 16\n",
        "anak = 4\n",
        "KuePerAnak = kue / anak\n",
        "print (\"Setiap anak akan mendapatkan bagian kue sebanyak\", KuePerAnak)"
      ]
    },
    {
      "cell_type": "markdown",
      "metadata": {
        "id": "kyML0eiHPOzX"
      },
      "source": [
        "SISA BAGI %"
      ]
    },
    {
      "cell_type": "code",
      "execution_count": null,
      "metadata": {
        "colab": {
          "base_uri": "https://localhost:8080/"
        },
        "id": "Fi91ObGFPR18",
        "outputId": "2f26add3-84a5-49fc-ab74-d2491791c1e1"
      },
      "outputs": [
        {
          "name": "stdout",
          "output_type": "stream",
          "text": [
            "Sisa bagi dari bilangan 14 dan 5 adalah 4\n"
          ]
        }
      ],
      "source": [
        "#Sisa Bagi / Modulus\n",
        "bilangan1 = 14\n",
        "bilangan2 = 5\n",
        "hasil = bilangan1 % bilangan2\n",
        "print (\"Sisa bagi dari bilangan\", bilangan1, \"dan\", bilangan2, \"adalah\", hasil)"
      ]
    },
    {
      "cell_type": "markdown",
      "metadata": {
        "id": "hfb3jAQBQIuA"
      },
      "source": [
        "PANGKAT **"
      ]
    },
    {
      "cell_type": "code",
      "execution_count": null,
      "metadata": {
        "id": "XyxMfhJTQKuc"
      },
      "outputs": [],
      "source": [
        "#Pangkat\n",
        "bilangan3 = 8\n",
        "bilangan4 = 2\n",
        "hasilPangkat = bilangan3 ** bilangan4\n",
        "print (hasilPangkat)"
      ]
    },
    {
      "cell_type": "markdown",
      "metadata": {
        "id": "-wrrWL_EQoVT"
      },
      "source": [
        "PEMBAGIAN BULAT //"
      ]
    },
    {
      "cell_type": "code",
      "execution_count": null,
      "metadata": {
        "id": "6p6vGCITQsJA"
      },
      "outputs": [],
      "source": [
        "#Pembagian Bulat\n",
        "print (10//3)\n",
        "#10 dibagi 3 adalah 3.3333 Karena dibulatkan maka akan menghasilkan nilai 3"
      ]
    },
    {
      "cell_type": "markdown",
      "metadata": {
        "id": "UEPeYYcHRn3R"
      },
      "source": [
        "**D. OPERATOR LOGIKA (Logical Operator)**"
      ]
    },
    {
      "cell_type": "markdown",
      "metadata": {
        "id": "1c4wdMQTRwkn"
      },
      "source": [
        "AND"
      ]
    },
    {
      "cell_type": "code",
      "execution_count": null,
      "metadata": {
        "id": "3_mpx-BCR5Wq"
      },
      "outputs": [],
      "source": [
        "a, b = True, True\n",
        "#hasil akan True\n",
        "print (a and b)"
      ]
    },
    {
      "cell_type": "markdown",
      "metadata": {
        "id": "eNvehclqSrtc"
      },
      "source": [
        "OR"
      ]
    },
    {
      "cell_type": "code",
      "execution_count": null,
      "metadata": {
        "id": "SHxfXLUZSvns"
      },
      "outputs": [],
      "source": [
        "a, b = True, False\n",
        "#hasil akan True\n",
        "print (a or b)\n",
        "print (b or a)\n",
        "print (a or a)\n",
        "#hasil akan False\n",
        "print (b or b)"
      ]
    },
    {
      "cell_type": "markdown",
      "metadata": {
        "id": "r3qSOb5ITi_u"
      },
      "source": [
        "NOT"
      ]
    },
    {
      "cell_type": "code",
      "execution_count": null,
      "metadata": {
        "colab": {
          "base_uri": "https://localhost:8080/"
        },
        "id": "puZRclZOTlA9",
        "outputId": "1ce7b109-fd6e-47a4-eff0-d67b64ed8889"
      },
      "outputs": [
        {
          "name": "stdout",
          "output_type": "stream",
          "text": [
            "False\n",
            "True\n"
          ]
        }
      ],
      "source": [
        "a, b = True, False\n",
        "#hasil akan True\n",
        "print (not a)\n",
        "print (not b)"
      ]
    },
    {
      "cell_type": "code",
      "execution_count": null,
      "metadata": {
        "colab": {
          "base_uri": "https://localhost:8080/"
        },
        "id": "LuLgskMekME4",
        "outputId": "441a2895-8296-480e-a686-b1c832fe5051"
      },
      "outputs": [
        {
          "name": "stdout",
          "output_type": "stream",
          "text": [
            "**********************************************************\n",
            "         APLIKASI LUAS dan KELILING RUANG BANGUN          \n",
            "**********************************************************\n",
            "masukan sisi persegi                       = 7\n",
            "masukan alas segitiga                      = 0\n",
            "masukan sisi miring segitiga               = 0\n",
            "masukan sisi miring segitiga               = 0\n",
            "masukan tinggi segitiga                    = 0\n",
            "masukan alas jajar genjang                 = 0\n",
            "masukan sisi miring sejajar jajar genjang  = 0\n",
            "masukan tinggi jajar genjang               = 0\n",
            "\n",
            "**********************************************************\n",
            "            HASIL PERHITUNGAN RUANG BANGUN                \n",
            "**********************************************************\n",
            "                   LUAS RUANG BANGUN                      \n",
            "==========================================================\n",
            "Luas Persegi            = 49.0\n",
            "Luas Segitiga           = 0.0\n",
            "Luas Jajar Genjang      = 0.0\n",
            "\n",
            "                  KELILING RUANG BANGUN                      \n",
            "==========================================================\n",
            "Keliling Persegi        = 28.0\n",
            "Keliling Segitiga       = 0.0\n",
            "Keliling Jajar Genjang  = 0.0\n",
            "**********************************************************\n"
          ]
        }
      ],
      "source": [
        "print (\"**********************************************************\")\n",
        "print (\"         APLIKASI LUAS dan KELILING RUANG BANGUN          \")\n",
        "print (\"**********************************************************\")\n",
        "\n",
        "s=float(input(\"masukan sisi persegi                       = \"))\n",
        "a=float(input(\"masukan alas segitiga                      = \"))\n",
        "c=float(input(\"masukan sisi miring segitiga               = \"))\n",
        "d=float(input(\"masukan sisi miring segitiga               = \"))\n",
        "t=float(input(\"masukan tinggi segitiga                    = \"))\n",
        "b=float(input(\"masukan alas jajar genjang                 = \"))\n",
        "m=float(input(\"masukan sisi miring sejajar jajar genjang  = \"))\n",
        "h=float(input(\"masukan tinggi jajar genjang               = \"))\n",
        "L1=s**(2)\n",
        "L2=(a*t)/2\n",
        "L3=b*h\n",
        "K1=4*s\n",
        "K2=c+d+a\n",
        "K3=(2*b)+(2*m)\n",
        "print ()\n",
        "print (\"**********************************************************\")\n",
        "print (\"            HASIL PERHITUNGAN RUANG BANGUN                \")\n",
        "print (\"**********************************************************\")\n",
        "\n",
        "print (\"                   LUAS RUANG BANGUN                      \")\n",
        "print (\"==========================================================\")\n",
        "print (\"Luas Persegi            =\",L1)\n",
        "print (\"Luas Segitiga           =\",L2)\n",
        "print (\"Luas Jajar Genjang      =\",L3)\n",
        "print ()\n",
        "\n",
        "print (\"                  KELILING RUANG BANGUN                      \")\n",
        "print (\"==========================================================\")\n",
        "print (\"Keliling Persegi        =\",K1)\n",
        "print (\"Keliling Segitiga       =\",K2)\n",
        "print (\"Keliling Jajar Genjang  =\",K3)\n",
        "print (\"**********************************************************\")\n"
      ]
    },
    {
      "cell_type": "markdown",
      "metadata": {
        "id": "cQl_bn3yxPtE"
      },
      "source": [
        "proses input output tanpa proses\n",
        "\n",
        "selama memakai kata input dianggap sebagai karakter walaupun itu angka\n",
        "\n",
        "kalau memakai fload input di anggap numerik / desimal"
      ]
    },
    {
      "cell_type": "markdown",
      "metadata": {
        "id": "A84nfhZ0kigf"
      },
      "source": [
        "BAB. 3 SEKSI KONDISI"
      ]
    },
    {
      "cell_type": "markdown",
      "metadata": {
        "id": "qXIcmawjlNDM"
      },
      "source": [
        "A. Kondisi if"
      ]
    },
    {
      "cell_type": "code",
      "execution_count": null,
      "metadata": {
        "colab": {
          "base_uri": "https://localhost:8080/"
        },
        "id": "pBrELSfglK0e",
        "outputId": "81e07d9a-96ec-47dc-fbc8-5bbd5cf79472"
      },
      "outputs": [
        {
          "name": "stdout",
          "output_type": "stream",
          "text": [
            "Selamat kita Lulus\n",
            "Selamat Kita Lulus\n"
          ]
        }
      ],
      "source": [
        "#sample if 1\n",
        "\n",
        "nilai = 11\n",
        "#jika kondisi benar/TRUE maka program akan mengeksekusi perintah dibawahnya\n",
        "if(nilai > 7):\n",
        "  print (\"Selamat kita Lulus\")\n",
        "#jika kondisi perintah salah/FALSE maka program tidak akan mengeksekusi perintah dibawahnya\n",
        "if(nilai > 10):\n",
        "  print (\"Selamat Kita Lulus\")"
      ]
    },
    {
      "cell_type": "markdown",
      "metadata": {
        "id": "aw89I9OdkLTb"
      },
      "source": [
        "**Kondisi If Else **"
      ]
    },
    {
      "cell_type": "code",
      "execution_count": null,
      "metadata": {
        "id": "WfUiTCI5my6h"
      },
      "outputs": [],
      "source": [
        "#Sample IF Else 1, if.py\n",
        "\n",
        "nilai =\n",
        "#jika pernyataan pada if bernilai TRUE maka if akan di eksekusi tetapi jika FALSE kode pada else yang akan dieksekusi\n",
        "if(nilai > 7):\n",
        "  print (\"Selamat Kita Lulus\")\n",
        "else:\n",
        "  print (\"Maaf Kita Tidak Lulus\")"
      ]
    },
    {
      "cell_type": "code",
      "execution_count": null,
      "metadata": {
        "id": "MRulXn9hqQuV"
      },
      "outputs": [],
      "source": [
        "#Sample If Else 2, if2.py\n",
        "\n",
        "kunci=\"keren\"\n",
        "password=input(\"masukan password = \")\n",
        "if password==kunci :\n",
        "  print (\"Password Benar\")\n",
        "else :\n",
        "  print (\"password Salah\")"
      ]
    },
    {
      "cell_type": "code",
      "execution_count": null,
      "metadata": {
        "id": "1jIKqSQCrp_n"
      },
      "outputs": [],
      "source": [
        "#Sampe IF Else 3, if3.py\n",
        "\n",
        "angka = input (\"masukan Suatu Bilangan = \")\n",
        "if angka > \"0\" :\n",
        "  print (\"Bilangan Positif\")\n",
        "elif angka < \"0\":\n",
        "  print (\"Biangan Negatif\")\n",
        "else :\n",
        "  print (\"Merupakan 0\")"
      ]
    },
    {
      "cell_type": "code",
      "execution_count": null,
      "metadata": {
        "id": "wXqe-pqjsZrd"
      },
      "outputs": [],
      "source": [
        "#Sample If Else 4, if4.py\n",
        "#fload dianggap desimal\n",
        "#int dianggap bilangan bulat\n",
        "#nested atau bersarang = program didalam program\n",
        "\n",
        "i= float (input (\"masukan bilangan : \"))\n",
        "if i%2 == 0:\n",
        "    if i != 0 :\n",
        "        print (i,\"adalah bilangan genap\")\n",
        "    else :\n",
        "        print (\"angka 0\")\n",
        "else :\n",
        "    print (\"adalah bilangan ganjil\")\n",
        "\n",
        "    #jika 0 tidak sama dengan 0 maka bilangan genap"
      ]
    },
    {
      "cell_type": "code",
      "execution_count": null,
      "metadata": {
        "colab": {
          "base_uri": "https://localhost:8080/"
        },
        "id": "8p3FwlvW2_ST",
        "outputId": "f368832f-b4b1-4143-a23e-f2f1b21d8c22"
      },
      "outputs": [
        {
          "name": "stdout",
          "output_type": "stream",
          "text": [
            "masukan bilangan : 0\n",
            "0.0 adalah bilangan nol\n"
          ]
        }
      ],
      "source": [
        "i= float (input (\"masukan bilangan : \"))\n",
        "if i%2 == 0:\n",
        "    if i == 0 :\n",
        "        print (i,\"adalah bilangan nol\")\n",
        "    else :\n",
        "        print (\"bilangan genap\")\n",
        "else :\n",
        "    print (\"adalah bilangan ganjil\")"
      ]
    },
    {
      "cell_type": "markdown",
      "metadata": {
        "id": "I_8XtQsQWqhV"
      },
      "source": [
        "C. KONDISI ELIF\n",
        "\n"
      ]
    },
    {
      "cell_type": "code",
      "execution_count": null,
      "metadata": {
        "id": "a4T5xkphWw21"
      },
      "outputs": [],
      "source": [
        "#SAMPLE ELIF 1 : if5.py\n",
        "\n",
        "#input (\"hari_ini = \")\n",
        "hari_ini = \"Minggu\"\n",
        "\n",
        "\n",
        "if(hari_ini == \"Senin\") :\n",
        "    print (\"Saya akan kuliah\")\n",
        "elif(hari_ini == \"Selasa\") :\n",
        "    print (\"Saya akan kuliah\")\n",
        "elif(hari_ini == \"Rabu\"):\n",
        "    print(\"Saya akan kuliah\")\n",
        "elif(hari_ini == \"Kamis\"):\n",
        "    print(\"Saya akan kuliah\")\n",
        "elif(hari_ini == \"Jumat\"):\n",
        "    print(\"Saya akan kuliah\")\n",
        "elif(hari_ini == \"Sabtu\"):\n",
        "    print(\"Saya akan kuliah\")\n",
        "elif(hari_ini == \"Minggu\"):\n",
        "    print(\"Saya akan libur\")"
      ]
    },
    {
      "cell_type": "code",
      "execution_count": null,
      "metadata": {
        "colab": {
          "base_uri": "https://localhost:8080/"
        },
        "id": "aGczYqdYZ9wu",
        "outputId": "9d5286e2-6714-40ba-9c08-252499b433ab"
      },
      "outputs": [
        {
          "name": "stdout",
          "output_type": "stream",
          "text": [
            "masukan angka = 11\n",
            "11 lebih kecil dari 10\n"
          ]
        }
      ],
      "source": [
        "x = input(\"masukan angka = \")\n",
        "if x < \"5\" :\n",
        "  print (x, \"lebih kecil dari 5\")\n",
        "elif x == \"5\" :\n",
        "  print (x, \"sama dengan 5\")\n",
        "else :\n",
        "    print (x, \"lebih besar dari 5\")"
      ]
    },
    {
      "cell_type": "markdown",
      "metadata": {
        "id": "AtcauuQjcBJG"
      },
      "source": [
        "**BAB 4 PENGULANGAN**"
      ]
    },
    {
      "cell_type": "markdown",
      "metadata": {
        "id": "vD6_xevkcLNA"
      },
      "source": [
        "**A. WHILE**"
      ]
    },
    {
      "cell_type": "code",
      "execution_count": null,
      "metadata": {
        "colab": {
          "base_uri": "https://localhost:8080/"
        },
        "id": "pvktLtaecD5M",
        "outputId": "edcf25ea-015d-4586-9e6f-4e8c8eee4794"
      },
      "outputs": [
        {
          "output_type": "stream",
          "name": "stdout",
          "text": [
            "Mari berhitung kakak : 0\n",
            "Mari berhitung kakak : 1\n",
            "Sampai Jumpa!\n"
          ]
        }
      ],
      "source": [
        "#Contoh penggunaan While Loop\n",
        "\n",
        "#syrat ( Nilai awal, nilai akhir, increament(nilai akhir lebih besar dari awal/Decreament nilai akhir lebih besar dari awal)\n",
        "hitung = 0\n",
        "while (hitung < 2):\n",
        "    print ('Mari berhitung kakak :', hitung)\n",
        "    hitung = hitung + 1\n",
        "print (\"Sampai Jumpa!\")"
      ]
    },
    {
      "cell_type": "markdown",
      "metadata": {
        "id": "gbcCzgMcc8MN"
      },
      "source": [
        "**B. FOR**"
      ]
    },
    {
      "cell_type": "code",
      "execution_count": null,
      "metadata": {
        "colab": {
          "base_uri": "https://localhost:8080/"
        },
        "id": "--Kw1HL_dNNA",
        "outputId": "2427b8c1-78f1-4e9a-d9c6-e673971f5674"
      },
      "outputs": [
        {
          "name": "stdout",
          "output_type": "stream",
          "text": [
            "1\n",
            "2\n",
            "3\n",
            "4\n",
            "5\n",
            "6\n"
          ]
        }
      ],
      "source": [
        "#Contoh perulangan for sederhana, for.py\n",
        "angka = [1,2,3,4,5,6]\n",
        "for x in angka:\n",
        "    print(x)\n"
      ]
    },
    {
      "cell_type": "code",
      "execution_count": null,
      "metadata": {
        "colab": {
          "base_uri": "https://localhost:8080/"
        },
        "id": "vzTU9-H95QE4",
        "outputId": "89ee87ca-9aaf-4d77-9b59-61b699316bb3"
      },
      "outputs": [
        {
          "name": "stdout",
          "output_type": "stream",
          "text": [
            "inside loop\n",
            "inside else\n"
          ]
        }
      ],
      "source": [
        "#salah satu contoh perulangan dengan else\n",
        "counter = 2\n",
        "while counter < 3:\n",
        "  print(\"inside loop\")\n",
        "  counter = counter + 1\n",
        "else :\n",
        "    print(\"inside else\")"
      ]
    },
    {
      "cell_type": "code",
      "execution_count": null,
      "metadata": {
        "id": "uMYmnOujdYvc"
      },
      "outputs": [],
      "source": [
        "#Contoh perulangan for, for2.py\n",
        "buah = [\"nanas\", \"apel\", \"jeruk\"]\n",
        "for makanan in buah:\n",
        "    print(\"Saya suka makan\", makanan)"
      ]
    },
    {
      "cell_type": "code",
      "execution_count": null,
      "metadata": {
        "id": "YFwVYqco7g2g"
      },
      "outputs": [],
      "source": [
        "student_name = \"soyuj\"\n",
        "mark = {'james':90, 'Jules':55, 'Arthur':77}\n",
        "for student in mark\n",
        "    if student == student_name:\n",
        "\n",
        "\n",
        ""
      ]
    },
    {
      "cell_type": "markdown",
      "metadata": {
        "id": "kE38xRAA6s7_"
      },
      "source": [
        "catatan khusus\n",
        "for it (i=1 (nilai awal) i>10 (niai akhir), i++(increment))\n",
        "\n",
        "list []\n",
        "tuple {}\n",
        "dictionary ()"
      ]
    },
    {
      "cell_type": "markdown",
      "metadata": {
        "id": "Ga7ohlMudkfW"
      },
      "source": [
        "**C. NESTED**"
      ]
    },
    {
      "cell_type": "code",
      "execution_count": null,
      "metadata": {
        "colab": {
          "base_uri": "https://localhost:8080/"
        },
        "id": "DJ-I4KFLdoqy",
        "outputId": "d835f5d6-4c0f-4d7d-dc52-5cc410ad4074"
      },
      "outputs": [
        {
          "name": "stdout",
          "output_type": "stream",
          "text": [
            "2  FTIK USM\n",
            "3  FTIK USM\n",
            "5  FTIK USM\n",
            "7  FTIK USM\n",
            "11  FTIK USM\n",
            "13  FTIK USM\n",
            "17  FTIK USM\n",
            "19  FTIK USM\n",
            "23  FTIK USM\n",
            "29  FTIK USM\n",
            "31  FTIK USM\n",
            "37  FTIK USM\n",
            "41  FTIK USM\n",
            "43  FTIK USM\n",
            "47  FTIK USM\n",
            "53  FTIK USM\n",
            "59  FTIK USM\n",
            "61  FTIK USM\n",
            "67  FTIK USM\n",
            "71  FTIK USM\n",
            "73  FTIK USM\n",
            "79  FTIK USM\n",
            "83  FTIK USM\n",
            "89  FTIK USM\n",
            "97  FTIK USM\n",
            "Mari Bergabung Bersama FTIK USM, FTIK..Joss!\n"
          ]
        }
      ],
      "source": [
        "#Contoh penggunaan Nested Loop, while.py\n",
        "i = 2\n",
        "while(i < 100):\n",
        "    j = 2\n",
        "    while(j <= (i/j)):\n",
        "        if not(i%j): break\n",
        "        j = j + 1\n",
        "    if (j > i/j) : print(i, \" FTIK USM\")\n",
        "    i = i + 1\n",
        "\n",
        "print (\"Mari Bergabung Bersama FTIK USM, FTIK..Joss!\")"
      ]
    },
    {
      "cell_type": "markdown",
      "metadata": {
        "id": "UCLvsKf4eHOd"
      },
      "source": [
        "D. SAMPLE PROGRAM"
      ]
    },
    {
      "cell_type": "code",
      "execution_count": null,
      "metadata": {
        "colab": {
          "background_save": true,
          "base_uri": "https://localhost:8080/"
        },
        "id": "UAY81SK4eL1w",
        "outputId": "8f3f4868-5e9f-473f-9c36-5001824b655d"
      },
      "outputs": [
        {
          "name": "stdout",
          "output_type": "stream",
          "text": [
            "user or password error\n",
            "user or password error\n"
          ]
        }
      ],
      "source": [
        "#Contoh 1, whileIf.py:\n",
        "nama = \"rudin\"\n",
        "kunci = \"ndeso\"\n",
        "a=0\n",
        "while a!=3 :\n",
        "    username = input (\"masukan username : \")\n",
        "    password = input (\"masukan password : \")\n",
        "    if username == nama and password == kunci :\n",
        "        print (\"password benar\")\n",
        "        break\n",
        "    elif username == nama or password == kunci:\n",
        "        print (\"user or password error\")\n",
        "    else :\n",
        "        print (\"password salah\")\n",
        "    a=a+1\n",
        "if a==3:\n",
        "    print (\"sudah 3x input\")"
      ]
    },
    {
      "cell_type": "code",
      "execution_count": null,
      "metadata": {
        "colab": {
          "base_uri": "https://localhost:8080/"
        },
        "id": "w3rFfgd-epYj",
        "outputId": "5a62837b-b5b8-4d7a-f731-7a422e7a8056"
      },
      "outputs": [
        {
          "name": "stdout",
          "output_type": "stream",
          "text": [
            "jari-jari lingkaran=4\n",
            "Luas lingkaran= 50.26548245743669\n"
          ]
        }
      ],
      "source": [
        "#Contoh 2:\n",
        "\n",
        "#Contoh math.py\n",
        "import math\n",
        "r=float(input(\"jari-jari lingkaran=\"))\n",
        "luas=math.pi*r*r\n",
        "print (\"Luas lingkaran=\",luas)"
      ]
    },
    {
      "cell_type": "markdown",
      "metadata": {
        "id": "dB9RCGR0kePc"
      },
      "source": [
        "**BAB 5. NUMBER, STRING, TANGGAL DAN WAKTU**"
      ]
    },
    {
      "cell_type": "code",
      "execution_count": null,
      "metadata": {
        "id": "UdS0Jmcxs2U7"
      },
      "outputs": [],
      "source": []
    },
    {
      "cell_type": "markdown",
      "metadata": {
        "id": "uUDtcVY3k8r2"
      },
      "source": [
        "B. STRING"
      ]
    },
    {
      "cell_type": "markdown",
      "metadata": {
        "id": "MdVPhjKaudsc"
      },
      "source": [
        "1. mengakses niai dalam string"
      ]
    },
    {
      "cell_type": "code",
      "execution_count": null,
      "metadata": {
        "colab": {
          "base_uri": "https://localhost:8080/"
        },
        "id": "c3ZY1T6Uk7pW",
        "outputId": "807c5a17-afcf-41e2-b08a-f12da51ca3dd"
      },
      "outputs": [
        {
          "name": "stdout",
          "output_type": "stream",
          "text": [
            "Nama [0]:  F\n",
            "Pesan [1:4]:  ela\n"
          ]
        }
      ],
      "source": [
        "nama    = 'FTIK USM'\n",
        "pesan   = \"Belajar bahasa Python di FTIK USM\"\n",
        "print (\"Nama [0]: \", nama [0])\n",
        "print (\"Pesan [1:4]: \", pesan [1:4])"
      ]
    },
    {
      "cell_type": "markdown",
      "metadata": {
        "id": "_LrvYNqLq1OI"
      },
      "source": [
        "2. Mengupdate String"
      ]
    },
    {
      "cell_type": "code",
      "execution_count": null,
      "metadata": {
        "colab": {
          "base_uri": "https://localhost:8080/"
        },
        "id": "3I07OJ3Rq2WH",
        "outputId": "aecb2502-9dd0-409e-b460-feff8a2bd1ff"
      },
      "outputs": [
        {
          "name": "stdout",
          "output_type": "stream",
          "text": [
            "Perbarui data tipe string :- FTIK UPython\n"
          ]
        }
      ],
      "source": [
        "pesan   = 'FTIK USM'\n",
        "print (\"Perbarui data tipe string :-\", pesan[:6] + 'Python' )"
      ]
    },
    {
      "cell_type": "markdown",
      "metadata": {
        "id": "G6RJeoFQWkCw"
      },
      "source": [
        "Operator Spesial String Python"
      ]
    },
    {
      "cell_type": "code",
      "execution_count": null,
      "metadata": {
        "colab": {
          "base_uri": "https://localhost:8080/"
        },
        "id": "t3z9q-h4WiX-",
        "outputId": "9a31da96-54ba-4aaa-e13e-372184d24971"
      },
      "outputs": [
        {
          "name": "stdout",
          "output_type": "stream",
          "text": [
            "BelajarPython\n",
            "BelajarBelajar\n",
            "e\n",
            "ela\n"
          ]
        }
      ],
      "source": [
        "a = \"Belajar\"\n",
        "b = \"Python\"\n",
        "\n",
        "print (a+b)\n",
        "\n",
        "print (a*2)\n",
        "\n",
        "print (a[1])\n",
        "\n",
        "print (a[1:4])\n",
        "\n",
        "#print (B in a)\n",
        "\n",
        "#print z not in a\n",
        "\n",
        "#print (r'\\n'prints\\n dan print R'\\n' prints \\n)"
      ]
    },
    {
      "cell_type": "markdown",
      "metadata": {
        "id": "_EbowabwaBgO"
      },
      "source": [
        "Operator Format String Python"
      ]
    },
    {
      "cell_type": "markdown",
      "metadata": {
        "id": "xbnoq_-0bXGl"
      },
      "source": []
    },
    {
      "cell_type": "code",
      "execution_count": null,
      "metadata": {
        "colab": {
          "base_uri": "https://localhost:8080/"
        },
        "id": "cVxdZfm5aDPP",
        "outputId": "099682ef-ee47-44b3-8879-82d4c94929a7"
      },
      "outputs": [
        {
          "name": "stdout",
          "output_type": "stream",
          "text": [
            "My name is Zara and weight is 21 kg!\n"
          ]
        }
      ],
      "source": [
        "print (\"My name is %s and weight is %d kg!\" % ('Zara', 21))"
      ]
    },
    {
      "cell_type": "markdown",
      "metadata": {
        "id": "UKY03SRbacaU"
      },
      "source": [
        "Triple Quote Python"
      ]
    },
    {
      "cell_type": "code",
      "execution_count": null,
      "metadata": {
        "colab": {
          "base_uri": "https://localhost:8080/"
        },
        "id": "t95oztWIadqo",
        "outputId": "39ab3f92-8f49-4a16-82d5-1b9e0046b72b"
      },
      "outputs": [
        {
          "name": "stdout",
          "output_type": "stream",
          "text": [
            "ini adalah string panjang yang terdiri dari beberapa baris dan karakter yang tidak dapat dicetak seperti TAB (\\ t) dan mereka akan muncul seperti itu ketika ditampilkan.\n",
            "NEWLINE di dalam string, baik secara eksplisit diberikan seperti ini di dalam kurung [\\ n], atau hanya NEWLINE di dalam penugasan variabel juga\n",
            "akan muncul.\n"
          ]
        }
      ],
      "source": [
        "kutipantiga = \"\"\"ini adalah string panjang yang terdiri dari beberapa baris dan karakter yang tidak dapat dicetak seperti TAB (\\ t) dan mereka akan muncul seperti itu ketika ditampilkan.\n",
        "NEWLINE di dalam string, baik secara eksplisit diberikan seperti ini di dalam kurung [\\ n], atau hanya NEWLINE di dalam penugasan variabel juga\n",
        "akan muncul.\"\"\"\n",
        "print (kutipantiga)"
      ]
    },
    {
      "cell_type": "markdown",
      "metadata": {
        "id": "5IZ8_8WEbeLw"
      },
      "source": [
        "C. Tanggal dan Waktu  "
      ]
    },
    {
      "cell_type": "markdown",
      "metadata": {
        "id": "xwJgE_hIbgqV"
      },
      "source": [
        "1. apa itu tick"
      ]
    },
    {
      "cell_type": "code",
      "execution_count": null,
      "metadata": {
        "colab": {
          "base_uri": "https://localhost:8080/"
        },
        "id": "pSJtRpdUbfij",
        "outputId": "99eaaad0-b132-4d58-9579-20e8efda0c67"
      },
      "outputs": [
        {
          "name": "stdout",
          "output_type": "stream",
          "text": [
            "Berjalan sejak 1.00am, 1 Desember 2019: 1666287023.0133662\n"
          ]
        }
      ],
      "source": [
        "import time;  # Digunakan untuk meng-import modul time\n",
        "\n",
        "ticks = time.time()\n",
        "print (\"Berjalan sejak 1.00am, 1 Desember 2019:\", ticks)\n",
        "\n",
        "\n"
      ]
    },
    {
      "cell_type": "markdown",
      "metadata": {
        "id": "lL6y-2NNcmXh"
      },
      "source": [
        " 2.Apa itu TimeTuple Python?"
      ]
    },
    {
      "cell_type": "markdown",
      "metadata": {
        "id": "JX4QwKnDcy6P"
      },
      "source": [
        "3. Mendapatkan Waktu dengan Python"
      ]
    },
    {
      "cell_type": "code",
      "execution_count": null,
      "metadata": {
        "colab": {
          "base_uri": "https://localhost:8080/"
        },
        "id": "BV_eHVGOcz6K",
        "outputId": "bb0d980b-c4b8-4053-d1b5-abbb988bba2c"
      },
      "outputs": [
        {
          "name": "stdout",
          "output_type": "stream",
          "text": [
            "Waktu Kita saat ini adalah : time.struct_time(tm_year=2022, tm_mon=10, tm_mday=20, tm_hour=17, tm_min=32, tm_sec=1, tm_wday=3, tm_yday=293, tm_isdst=0)\n"
          ]
        }
      ],
      "source": [
        "#waktu Saat ini\n",
        "import time;\n",
        "\n",
        "localtime = time.localtime(time.time())\n",
        "print (\"Waktu Kita saat ini adalah :\", localtime)"
      ]
    },
    {
      "cell_type": "code",
      "execution_count": null,
      "metadata": {
        "colab": {
          "base_uri": "https://localhost:8080/"
        },
        "id": "Zbk1aCs2dCvq",
        "outputId": "2a3aadbe-f2e0-4e9f-d67a-e666dcda365a"
      },
      "outputs": [
        {
          "name": "stdout",
          "output_type": "stream",
          "text": [
            "Waktu Kita saat ini adalah : Thu Oct 20 17:32:57 2022\n"
          ]
        }
      ],
      "source": [
        "# Waktu yang berformat\n",
        "import time;\n",
        "\n",
        "localtime = time.asctime( time.localtime(time.time()) )\n",
        "print (\"Waktu Kita saat ini adalah :\", localtime)"
      ]
    },
    {
      "cell_type": "code",
      "execution_count": null,
      "metadata": {
        "colab": {
          "base_uri": "https://localhost:8080/"
        },
        "id": "lnKrFdHRdNR7",
        "outputId": "ec367fd1-a3d1-4b08-f7ea-8ef8f9d5e813"
      },
      "outputs": [
        {
          "name": "stdout",
          "output_type": "stream",
          "text": [
            "Dibawah ini adalah kalender:\n",
            "   December 2019\n",
            "Mo Tu We Th Fr Sa Su\n",
            "                   1\n",
            " 2  3  4  5  6  7  8\n",
            " 9 10 11 12 13 14 15\n",
            "16 17 18 19 20 21 22\n",
            "23 24 25 26 27 28 29\n",
            "30 31\n",
            "\n"
          ]
        }
      ],
      "source": [
        "# Kalender Sebulan\n",
        "import calendar\n",
        "\n",
        "cal = calendar.month(2019, 12)\n",
        "print (\"Dibawah ini adalah kalender:\")\n",
        "print (cal)"
      ]
    },
    {
      "cell_type": "markdown",
      "metadata": {
        "id": "bUguzkcjyDOJ"
      },
      "source": [
        "LATIHAN BAB 5."
      ]
    },
    {
      "cell_type": "markdown",
      "metadata": {
        "id": "1x55uaKKaXA6"
      },
      "source": [
        "**BAB 6  FUNGSI DAN MODUL**"
      ]
    },
    {
      "cell_type": "code",
      "execution_count": null,
      "metadata": {
        "colab": {
          "base_uri": "https://localhost:8080/"
        },
        "id": "-Ee-ZrDkaavj",
        "outputId": "4861ff49-f898-4fc1-ad04-6e6a7f889244"
      },
      "outputs": [
        {
          "name": "stdout",
          "output_type": "stream",
          "text": [
            "Masukan NIM Anda = agung\n",
            "Masukan Nama Anda = 2aaa\n",
            "NIM Anda adalah =  agung\n",
            "Nama Anda adalah =  2aaa\n",
            "Hasil penjumlahan  10 + 12 adalah 22\n"
          ]
        }
      ],
      "source": [
        "#contoh 1\n",
        "def cetak_string (par1, par2) :\n",
        "  print (\"NIM Anda adalah = \", par1)\n",
        "  print (\"Nama Anda adalah = \", par2)\n",
        "\n",
        "def hitung (a, b) :\n",
        "  print (\"Hasil penjumlahan \",a,\"+\",b,\"adalah\", (a+b))\n",
        "\n",
        "#main program\n",
        "nama = input (\"Masukan NIM Anda = \")\n",
        "nim = input (\"Masukan Nama Anda = \")\n",
        "cetak_string (nama,nim)\n",
        "bil1=10\n",
        "bil2=12\n",
        "hitung (bil1, bil2)"
      ]
    },
    {
      "cell_type": "code",
      "execution_count": null,
      "metadata": {
        "colab": {
          "base_uri": "https://localhost:8080/"
        },
        "id": "S_tNDG9IhIgJ",
        "outputId": "2c76c145-9c39-4b3a-a240-c82c19e81a32"
      },
      "outputs": [
        {
          "name": "stdout",
          "output_type": "stream",
          "text": [
            "ini adalah fungsi cetak string\n",
            "silahkan masukan data\n",
            "Masukan Nama : agung dwi\n",
            "Masukan NIM   : dfljfsihf\n"
          ]
        }
      ],
      "source": [
        "#Contoh 2\n",
        "\n",
        "def input_data ():\n",
        "  \"fungsi pertama\"\n",
        "  nama = input (\"Masukan Nama : \")\n",
        "  nim = input (\"Masukan NIM   : \")\n",
        "\n",
        "def cetak_string () :\n",
        "  print (\"ini adalah fungsi cetak string\")\n",
        "  print (\"silahkan masukan data\")\n",
        "  input_data ()\n",
        "\n",
        "cetak_string ()"
      ]
    },
    {
      "cell_type": "markdown",
      "metadata": {
        "id": "uY-cIhW6lCMF"
      },
      "source": [
        "B. MODUL"
      ]
    },
    {
      "cell_type": "code",
      "execution_count": null,
      "metadata": {
        "id": "plS5UmYSlE6D"
      },
      "outputs": [],
      "source": [
        "def cetak_fungsi ( par ) :\n",
        "  print (\"Selamat datang di FTIK USM : \", par)\n",
        "  return"
      ]
    },
    {
      "cell_type": "code",
      "execution_count": null,
      "metadata": {
        "colab": {
          "base_uri": "https://localhost:8080/",
          "height": 373
        },
        "id": "6V05nSSgmtBA",
        "outputId": "7ba5a514-1d27-4a5a-8191-0af1702b4a0b"
      },
      "outputs": [
        {
          "ename": "ModuleNotFoundError",
          "evalue": "ignored",
          "output_type": "error",
          "traceback": [
            "\u001b[0;31m---------------------------------------------------------------------------\u001b[0m",
            "\u001b[0;31mModuleNotFoundError\u001b[0m                       Traceback (most recent call last)",
            "\u001b[0;32m<ipython-input-11-15cb929a93f5>\u001b[0m in \u001b[0;36m<module>\u001b[0;34m\u001b[0m\n\u001b[1;32m      1\u001b[0m \u001b[0;31m#Import module fungsi1\u001b[0m\u001b[0;34m\u001b[0m\u001b[0;34m\u001b[0m\u001b[0;34m\u001b[0m\u001b[0m\n\u001b[0;32m----> 2\u001b[0;31m \u001b[0;32mimport\u001b[0m \u001b[0mfungsi1\u001b[0m\u001b[0;34m\u001b[0m\u001b[0;34m\u001b[0m\u001b[0m\n\u001b[0m\u001b[1;32m      3\u001b[0m \u001b[0;34m\u001b[0m\u001b[0m\n\u001b[1;32m      4\u001b[0m \u001b[0;31m#kita bisa memanggil fungsi defined sebagai berikut\u001b[0m\u001b[0;34m\u001b[0m\u001b[0;34m\u001b[0m\u001b[0;34m\u001b[0m\u001b[0m\n\u001b[1;32m      5\u001b[0m \u001b[0mfungsi1\u001b[0m\u001b[0;34m.\u001b[0m \u001b[0mcetak_fungsi\u001b[0m \u001b[0;34m(\u001b[0m\u001b[0;34m\"Andy\"\u001b[0m\u001b[0;34m)\u001b[0m\u001b[0;34m\u001b[0m\u001b[0;34m\u001b[0m\u001b[0m\n",
            "\u001b[0;31mModuleNotFoundError\u001b[0m: No module named 'fungsi1'",
            "",
            "\u001b[0;31m---------------------------------------------------------------------------\u001b[0;32m\nNOTE: If your import is failing due to a missing package, you can\nmanually install dependencies using either !pip or !apt.\n\nTo view examples of installing some common dependencies, click the\n\"Open Examples\" button below.\n\u001b[0;31m---------------------------------------------------------------------------\u001b[0m\n"
          ]
        }
      ],
      "source": [
        "#Import module fungsi1\n",
        "import fungsi1\n",
        "\n",
        "#kita bisa memanggil fungsi defined sebagai berikut\n",
        "fungsi1. cetak_fungsi (\"Andy\")"
      ]
    },
    {
      "cell_type": "markdown",
      "metadata": {
        "id": "5CwaZrXAn4dd"
      },
      "source": [
        "BAB 7 : BAB 7  LIST, TUPLE, DICTIONARY,\n",
        "OBJECK, DAN CLASS"
      ]
    },
    {
      "cell_type": "markdown",
      "metadata": {
        "id": "ajwJP2L0rL5k"
      },
      "source": [
        "A. LIST\n",
        "1. Membuat List"
      ]
    },
    {
      "cell_type": "code",
      "execution_count": null,
      "metadata": {
        "id": "IEBrH71upaQW"
      },
      "outputs": [],
      "source": [
        "list1 = ['TI', 'SI', 'ILKOM', 2010, 2006]\n",
        "list2 = [1, 2, 3, 4, 5]\n",
        "list3 = [\"x\", \"y\", \"z\", \"w\"]"
      ]
    },
    {
      "cell_type": "markdown",
      "metadata": {
        "id": "g6FRrJcMr65R"
      },
      "source": [
        "2. Akses Nilai dalam List\n"
      ]
    },
    {
      "cell_type": "code",
      "execution_count": null,
      "metadata": {
        "colab": {
          "base_uri": "https://localhost:8080/"
        },
        "id": "Vp6DG9YPr6UC",
        "outputId": "ced4e67b-5640-42ef-feae-321f4e7e2f47"
      },
      "outputs": [
        {
          "name": "stdout",
          "output_type": "stream",
          "text": [
            "listl[0]:  TI\n",
            "list2 [1:5]:  ['y', 'z', 'w']\n"
          ]
        }
      ],
      "source": [
        "#Cara mengakses nilai di dalam list Python\n",
        "list1 = ['TI', 'SI', 'ILKOM', 2010, 2006]\n",
        "list2 = [\"x\", \"y\", \"z\", \"w\"]\n",
        "\n",
        "print (\"listl[0]: \", list1 [0])\n",
        "#jika angka diganti akan berbeda nilai yang keluar,\n",
        "#0 urutan pertama, 1 urutan kedua\n",
        "print (\"list2 [1:5]: \", list2 [1:5])"
      ]
    },
    {
      "cell_type": "markdown",
      "metadata": {
        "id": "WbVhWkQNtbmX"
      },
      "source": [
        "3. Update Nilai dalam List\n"
      ]
    },
    {
      "cell_type": "code",
      "execution_count": null,
      "metadata": {
        "colab": {
          "base_uri": "https://localhost:8080/"
        },
        "id": "MT390c18tdMu",
        "outputId": "eca78527-0573-4cc4-bd72-c0b375784f1e"
      },
      "outputs": [
        {
          "name": "stdout",
          "output_type": "stream",
          "text": [
            "Nilai ada pada index 2 :  ILKOM\n",
            "nilai baru ada pada index 2 :  2001\n"
          ]
        }
      ],
      "source": [
        "list1 = ['TI', 'SI', 'ILKOM', 2010, 2006]\n",
        "print (\"Nilai ada pada index 2 : \", list1[2])\n",
        "\n",
        "list1[2] = 2001\n",
        "print (\"nilai baru ada pada index 2 : \", list1[2])"
      ]
    },
    {
      "cell_type": "markdown",
      "metadata": {
        "id": "qSF7BekWuh6O"
      },
      "source": [
        "4. Hapus Nilai dalam List\n"
      ]
    },
    {
      "cell_type": "code",
      "execution_count": null,
      "metadata": {
        "colab": {
          "base_uri": "https://localhost:8080/"
        },
        "id": "iEVDFb9lu1CG",
        "outputId": "af0e0de7-e118-461d-f695-ce019102dad2"
      },
      "outputs": [
        {
          "name": "stdout",
          "output_type": "stream",
          "text": [
            "['TI', 'SI', 2010, 2006]\n",
            "Setelah dihapus nilai pada index 2 : ['TI', 'SI', 2006]\n"
          ]
        }
      ],
      "source": [
        "#Contoh cara menghapus nilai pada list phyton\n",
        "list1 = ['TI', 'SI', 'ILKOM', 2010, 2006]\n",
        "print (list)\n",
        "del list[2]\n",
        "print (\"Setelah dihapus nilai pada index 2 :\", list)"
      ]
    },
    {
      "cell_type": "markdown",
      "metadata": {
        "id": "0g_gP7SnwAOr"
      },
      "source": [
        "5. Operasi Dasar pada List\n"
      ]
    },
    {
      "cell_type": "code",
      "execution_count": null,
      "metadata": {
        "colab": {
          "base_uri": "https://localhost:8080/"
        },
        "id": "aTzCR4rfwCcr",
        "outputId": "8f185485-ac77-4b72-ed15-5b72b98c47f6"
      },
      "outputs": [
        {
          "data": {
            "text/plain": [
              "4"
            ]
          },
          "execution_count": 30,
          "metadata": {},
          "output_type": "execute_result"
        }
      ],
      "source": [
        "len([1,2,3,4])\n",
        "#lenght"
      ]
    },
    {
      "cell_type": "code",
      "execution_count": null,
      "metadata": {
        "colab": {
          "base_uri": "https://localhost:8080/"
        },
        "id": "XY2oC3AjwSFG",
        "outputId": "ea63695d-e923-42a3-c450-2389a505c9a8"
      },
      "outputs": [
        {
          "data": {
            "text/plain": [
              "[1, 2, 3, 4, 5, 6]"
            ]
          },
          "execution_count": 34,
          "metadata": {},
          "output_type": "execute_result"
        }
      ],
      "source": [
        "[1,2,3]+[4,5,6]\n",
        "#concatenation"
      ]
    },
    {
      "cell_type": "code",
      "execution_count": null,
      "metadata": {
        "colab": {
          "base_uri": "https://localhost:8080/"
        },
        "id": "TkA7laiIwR7G",
        "outputId": "192055e4-d271-4990-894a-7d081a691732"
      },
      "outputs": [
        {
          "data": {
            "text/plain": [
              "['Halo', 'Halo', 'Halo', 'Halo']"
            ]
          },
          "execution_count": 36,
          "metadata": {},
          "output_type": "execute_result"
        }
      ],
      "source": [
        "['Halo']*4\n",
        "#Repetition"
      ]
    },
    {
      "cell_type": "code",
      "execution_count": null,
      "metadata": {
        "colab": {
          "base_uri": "https://localhost:8080/"
        },
        "id": "7oRGBBIwwRo_",
        "outputId": "ca0edd65-9a02-4c23-c88c-9c0cceebaf8f"
      },
      "outputs": [
        {
          "data": {
            "text/plain": [
              "True"
            ]
          },
          "execution_count": 6,
          "metadata": {},
          "output_type": "execute_result"
        }
      ],
      "source": [
        "2in[1, 2, 3]"
      ]
    },
    {
      "cell_type": "code",
      "execution_count": null,
      "metadata": {
        "colab": {
          "base_uri": "https://localhost:8080/"
        },
        "id": "NPpy1HexwQty",
        "outputId": "8d5950f1-9e34-4490-dfbc-0426fce15a63"
      },
      "outputs": [
        {
          "name": "stdout",
          "output_type": "stream",
          "text": [
            "123"
          ]
        }
      ],
      "source": [
        "for x in [1,2,3] : print (x, end='')"
      ]
    },
    {
      "cell_type": "markdown",
      "metadata": {
        "id": "OwS0q5AJzinY"
      },
      "source": [
        "6. Indexing, Slicing dan Matrix pada List"
      ]
    },
    {
      "cell_type": "code",
      "execution_count": null,
      "metadata": {
        "colab": {
          "base_uri": "https://localhost:8080/",
          "height": 35
        },
        "id": "I3OFISHRzvZQ",
        "outputId": "d75b237e-43a4-4d4d-b912-b0baf0646155"
      },
      "outputs": [
        {
          "data": {
            "application/vnd.google.colaboratory.intrinsic+json": {
              "type": "string"
            },
            "text/plain": [
              "'Python'"
            ]
          },
          "execution_count": 14,
          "metadata": {},
          "output_type": "execute_result"
        }
      ],
      "source": [
        "L = ['C++', 'Java', 'Python']\n",
        "\n",
        "L [2]\n"
      ]
    },
    {
      "cell_type": "code",
      "execution_count": null,
      "metadata": {
        "colab": {
          "base_uri": "https://localhost:8080/",
          "height": 35
        },
        "id": "SgI9sxL30S_P",
        "outputId": "0f28a55c-94d2-4926-8891-1c10bcc184f4"
      },
      "outputs": [
        {
          "data": {
            "application/vnd.google.colaboratory.intrinsic+json": {
              "type": "string"
            },
            "text/plain": [
              "'Java'"
            ]
          },
          "execution_count": 12,
          "metadata": {},
          "output_type": "execute_result"
        }
      ],
      "source": [
        "L = ['C++', 'Java', 'Python']\n",
        "\n",
        "\n",
        "L[-2]\n"
      ]
    },
    {
      "cell_type": "code",
      "execution_count": null,
      "metadata": {
        "colab": {
          "base_uri": "https://localhost:8080/"
        },
        "id": "ebeVVWr30Wbw",
        "outputId": "9328f60f-adbe-48c0-a7a1-862fc47e086b"
      },
      "outputs": [
        {
          "data": {
            "text/plain": [
              "['Java', 'Python']"
            ]
          },
          "execution_count": 13,
          "metadata": {},
          "output_type": "execute_result"
        }
      ],
      "source": [
        "L = ['C++', 'Java', 'Python']\n",
        "\n",
        "L[1:]"
      ]
    },
    {
      "cell_type": "markdown",
      "metadata": {
        "id": "bXcNgGUm0otw"
      },
      "source": [
        "7. Method dan Fungsi Build-in pada List"
      ]
    },
    {
      "cell_type": "markdown",
      "metadata": {
        "id": "vjot5Bx809yv"
      },
      "source": [
        "B. Tuple"
      ]
    },
    {
      "cell_type": "code",
      "execution_count": null,
      "metadata": {
        "id": "j9j_jwaY09Ov"
      },
      "outputs": [],
      "source": [
        "#Contoh sederhana pembuatan tuple\n",
        "#Pada bahasa pemrograman python\n",
        "\n",
        "tump1= ('Fisika', 'Kimia', 1993, 2017)\n",
        "tump2= (1, 2, 3, 4, 5)\n",
        "tump3= \"a\", \"b\", \"c\" \"d\""
      ]
    },
    {
      "cell_type": "markdown",
      "metadata": {
        "id": "U6Yp3qP32RJI"
      },
      "source": [
        "1. akses nilai daam Tuple"
      ]
    }
  ],
  "metadata": {
    "colab": {
      "provenance": [],
      "authorship_tag": "ABX9TyPJTW6oAGeka/jHarbK1T+t",
      "include_colab_link": true
    },
    "kernelspec": {
      "display_name": "Python 3",
      "name": "python3"
    },
    "language_info": {
      "name": "python"
    }
  },
  "nbformat": 4,
  "nbformat_minor": 0
}