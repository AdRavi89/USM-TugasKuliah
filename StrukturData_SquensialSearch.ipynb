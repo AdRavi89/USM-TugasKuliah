{
  "nbformat": 4,
  "nbformat_minor": 0,
  "metadata": {
    "colab": {
      "provenance": [],
      "authorship_tag": "ABX9TyMHLByBpu/EALG6JRt0cotZ",
      "include_colab_link": true
    },
    "kernelspec": {
      "name": "python3",
      "display_name": "Python 3"
    },
    "language_info": {
      "name": "python"
    }
  },
  "cells": [
    {
      "cell_type": "markdown",
      "metadata": {
        "id": "view-in-github",
        "colab_type": "text"
      },
      "source": [
        "<a href=\"https://colab.research.google.com/github/AdRavi89/TugasKuliahUSM/blob/main/StrukturData_SquensialSearch.ipynb\" target=\"_parent\"><img src=\"https://colab.research.google.com/assets/colab-badge.svg\" alt=\"Open In Colab\"/></a>"
      ]
    },
    {
      "cell_type": "markdown",
      "source": [
        "# **Tugas Squensial Search**"
      ],
      "metadata": {
        "id": "6WVf_r_12POL"
      }
    },
    {
      "cell_type": "code",
      "source": [
        "class SequentialSearch:\n",
        "    def __init__(self):\n",
        "        self.all_data = [\"A\", \"B\", \"C\", \"D\", \"E\", \"F\"]\n",
        "\n",
        "    def display_data(self):\n",
        "        for data in self.all_data:\n",
        "    def search_data(self, character):\n",
        "        index = 0\n",
        "        found = False\n",
        "        for i in range(index, len(self.all_data)):\n",
        "            if character == self.all_data[i]:\n",
        "                found = True\n",
        "                index = i\n",
        "        if found:\n",
        "            print(\"Data berada pada urutan ke -\", index + 1)\n",
        "        else:\n",
        "            print(\"Data Tidak Ditemukan\")\n",
        "\n",
        "\n",
        "def main():\n",
        "    obj = SequentialSearch()\n",
        "\n",
        "    # Menampilkan data pada Array\n",
        "    obj.display_data()\n",
        "\n",
        "    # Melakukan pencarian data\n",
        "    obj.search_data(\"C\")\n",
        "\n",
        "\n",
        "if __name__ == \"__main__\":\n",
        "    main()\n"
      ],
      "metadata": {
        "colab": {
          "base_uri": "https://localhost:8080/"
        },
        "id": "FC4gJN48ojIq",
        "outputId": "5476c18c-78ad-4865-efe8-27a1def61035"
      },
      "execution_count": null,
      "outputs": [
        {
          "output_type": "stream",
          "name": "stdout",
          "text": [
            "A B C D E F \n",
            "Data berada pada urutan ke - 3\n"
          ]
        }
      ]
    },
    {
      "cell_type": "markdown",
      "source": [
        "#**Menambahkan Program Menu**"
      ],
      "metadata": {
        "id": "8Duj3v-64BKu"
      }
    },
    {
      "cell_type": "code",
      "source": [
        "class SequentialSearch:\n",
        "    def __init__(self):\n",
        "        self.all_data = [\"A\", \"B\", \"C\", \"D\", \"E\", \"F\"]\n",
        "\n",
        "    def display_data(self):\n",
        "        for data in self.all_data:\n",
        "            print(data, end=\" \")\n",
        "        print()\n",
        "\n",
        "    def searching(self, karakter):\n",
        "        x = 0\n",
        "        ketemu = False\n",
        "        for i in range(x, len(self.all_data)):\n",
        "            if karakter == self.all_data[i]:\n",
        "                ketemu = True\n",
        "                x = i\n",
        "        if ketemu:\n",
        "            print(\"Data berada pada urutan ke -\", x + 1)\n",
        "        else:\n",
        "            print(\"Data Tidak Ditemukan\")\n",
        "\n",
        "\n",
        "if __name__ == \"__main__\":\n",
        "    obj = SequentialSearch()\n",
        "\n",
        "    while True:\n",
        "        print(\"\\nMenu:\")\n",
        "        print(\"1. Tampilkan Data\")\n",
        "        print(\"2. Cari Data\")\n",
        "        print(\"3. Keluar\")\n",
        "\n",
        "        choice = input(\"Pilih menu (1/2/3): \")\n",
        "\n",
        "        if choice == \"1\":\n",
        "            # Menampilkan data pada Array\n",
        "            obj.display_data()\n",
        "        elif choice == \"2\":\n",
        "            # Melakukan pencarian data\n",
        "            karakter = input(\"Masukkan karakter yang ingin dicari: \")\n",
        "            obj.searching(karakter)\n",
        "        elif choice == \"3\":\n",
        "            # Keluar dari program\n",
        "            print(\"Terima kasih, program selesai.\")\n",
        "            break\n",
        "        else:\n",
        "            print(\"Pilihan tidak valid. Silakan pilih 1, 2, atau 3.\")\n"
      ],
      "metadata": {
        "colab": {
          "base_uri": "https://localhost:8080/"
        },
        "id": "40G8dyb24Hqy",
        "outputId": "b6559ecd-0de5-4cb5-e4da-673913f1e896"
      },
      "execution_count": 2,
      "outputs": [
        {
          "output_type": "stream",
          "name": "stdout",
          "text": [
            "\n",
            "Menu:\n",
            "1. Tampilkan Data\n",
            "2. Cari Data\n",
            "3. Keluar\n",
            "Pilih menu (1/2/3): 1\n",
            "A B C D E F \n",
            "\n",
            "Menu:\n",
            "1. Tampilkan Data\n",
            "2. Cari Data\n",
            "3. Keluar\n",
            "Pilih menu (1/2/3): 2\n",
            "Masukkan karakter yang ingin dicari: e\n",
            "Data Tidak Ditemukan\n",
            "\n",
            "Menu:\n",
            "1. Tampilkan Data\n",
            "2. Cari Data\n",
            "3. Keluar\n",
            "Pilih menu (1/2/3): 2\n",
            "Masukkan karakter yang ingin dicari: E\n",
            "Data berada pada urutan ke - 5\n",
            "\n",
            "Menu:\n",
            "1. Tampilkan Data\n",
            "2. Cari Data\n",
            "3. Keluar\n",
            "Pilih menu (1/2/3): 3\n",
            "Terima kasih, program selesai.\n"
          ]
        }
      ]
    },
    {
      "cell_type": "markdown",
      "source": [
        "# **Menambahkan Input Data**"
      ],
      "metadata": {
        "id": "11h-o06W5kn_"
      }
    },
    {
      "cell_type": "code",
      "source": [
        "class SequentialSearch:\n",
        "    def __init__(self):\n",
        "        self.all_data = []\n",
        "\n",
        "    def input_data(self):\n",
        "        n = int(input(\"Masukkan jumlah data yang ingin dimasukkan: \"))\n",
        "        for i in range(n):\n",
        "            data = input(f\"Masukkan data ke-{i + 1}: \")\n",
        "            self.all_data.append(data)\n",
        "        print(\"Data berhasil dimasukkan.\")\n",
        "\n",
        "    def display_data(self):\n",
        "        for data in self.all_data:\n",
        "            print(data, end=\" \")\n",
        "        print()\n",
        "\n",
        "    def searching(self, karakter):\n",
        "        x = 0\n",
        "        ketemu = False\n",
        "        for i in range(x, len(self.all_data)):\n",
        "            if karakter == self.all_data[i]:\n",
        "                ketemu = True\n",
        "                x = i\n",
        "        if ketemu:\n",
        "            print(\"Data berada pada urutan ke -\", x + 1)\n",
        "        else:\n",
        "            print(\"Data Tidak Ditemukan\")\n",
        "\n",
        "\n",
        "if __name__ == \"__main__\":\n",
        "    obj = SequentialSearch()\n",
        "\n",
        "    while True:\n",
        "        print(\"\\nMenu:\")\n",
        "        print(\"1. Input Data\")\n",
        "        print(\"2. Tampilkan Data\")\n",
        "        print(\"3. Cari Data\")\n",
        "        print(\"4. Keluar\")\n",
        "\n",
        "        choice = input(\"Pilih menu (1/2/3/4): \")\n",
        "\n",
        "        if choice == \"1\":\n",
        "            # Memasukkan data\n",
        "            obj.input_data()\n",
        "        elif choice == \"2\":\n",
        "            # Menampilkan data pada Array\n",
        "            obj.display_data()\n",
        "        elif choice == \"3\":\n",
        "            # Melakukan pencarian data\n",
        "            karakter = input(\"Masukkan karakter yang ingin dicari: \")\n",
        "            obj.searching(karakter)\n",
        "        elif choice == \"4\":\n",
        "            # Keluar dari program\n",
        "            print(\"Terima kasih, program selesai.\")\n",
        "            break\n",
        "        else:\n",
        "            print(\"Pilihan tidak valid. Silakan pilih 1, 2, 3, atau 4.\")\n",
        "\n"
      ],
      "metadata": {
        "colab": {
          "base_uri": "https://localhost:8080/"
        },
        "id": "12nB9NhE5sPZ",
        "outputId": "45db2834-3253-4202-a7ca-cca089f6ce20"
      },
      "execution_count": 4,
      "outputs": [
        {
          "output_type": "stream",
          "name": "stdout",
          "text": [
            "\n",
            "Menu:\n",
            "1. Input Data\n",
            "2. Tampilkan Data\n",
            "3. Cari Data\n",
            "4. Keluar\n",
            "Pilih menu (1/2/3/4): 1\n",
            "Masukkan jumlah data yang ingin dimasukkan: 5\n",
            "Masukkan data ke-1: A\n",
            "Masukkan data ke-2: D\n",
            "Masukkan data ke-3: F\n",
            "Masukkan data ke-4: H\n",
            "Masukkan data ke-5: J\n",
            "Data berhasil dimasukkan.\n",
            "\n",
            "Menu:\n",
            "1. Input Data\n",
            "2. Tampilkan Data\n",
            "3. Cari Data\n",
            "4. Keluar\n",
            "Pilih menu (1/2/3/4): 2\n",
            "A D F H J \n",
            "\n",
            "Menu:\n",
            "1. Input Data\n",
            "2. Tampilkan Data\n",
            "3. Cari Data\n",
            "4. Keluar\n",
            "Pilih menu (1/2/3/4): 3\n",
            "Masukkan karakter yang ingin dicari: H\n",
            "Data berada pada urutan ke - 4\n",
            "\n",
            "Menu:\n",
            "1. Input Data\n",
            "2. Tampilkan Data\n",
            "3. Cari Data\n",
            "4. Keluar\n",
            "Pilih menu (1/2/3/4): 4\n",
            "Terima kasih, program selesai.\n"
          ]
        }
      ]
    }
  ]
}