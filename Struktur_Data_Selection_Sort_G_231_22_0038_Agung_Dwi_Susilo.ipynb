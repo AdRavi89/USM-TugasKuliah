{
  "nbformat": 4,
  "nbformat_minor": 0,
  "metadata": {
    "colab": {
      "provenance": [],
      "authorship_tag": "ABX9TyMj9SzBGHQPJXY9xUktjKht",
      "include_colab_link": true
    },
    "kernelspec": {
      "name": "python3",
      "display_name": "Python 3"
    },
    "language_info": {
      "name": "python"
    }
  },
  "cells": [
    {
      "cell_type": "markdown",
      "metadata": {
        "id": "view-in-github",
        "colab_type": "text"
      },
      "source": [
        "<a href=\"https://colab.research.google.com/github/AdRavi89/TugasKuliahUSM/blob/main/Struktur_Data_Selection_Sort_G_231_22_0038_Agung_Dwi_Susilo.ipynb\" target=\"_parent\"><img src=\"https://colab.research.google.com/assets/colab-badge.svg\" alt=\"Open In Colab\"/></a>"
      ]
    },
    {
      "cell_type": "markdown",
      "source": [
        "**Selection Sort dari Kecil ke Besar**"
      ],
      "metadata": {
        "id": "sSBxHXmmu1JE"
      }
    },
    {
      "cell_type": "code",
      "execution_count": 3,
      "metadata": {
        "colab": {
          "base_uri": "https://localhost:8080/"
        },
        "id": "Fk44ApP_uBxg",
        "outputId": "c950358c-9c52-4073-b61c-9b2337040eff"
      },
      "outputs": [
        {
          "output_type": "stream",
          "name": "stdout",
          "text": [
            "Masukkan elemen-elemen array (pisahkan dengan spasi): 45 12 78 23 56 89 34 67 91 18 54 29 83 37 60 15 72 48 95 41\n",
            "------------------------------------------------------------------------------------------\n",
            "\n",
            "Array awal: [45, 12, 78, 23, 56, 89, 34, 67, 91, 18, 54, 29, 83, 37, 60, 15, 72, 48, 95, 41]\n",
            "------------------------------------------------------------------------------------------\n",
            "Langkah 1: [12] → \u001b[1m45\u001b[0m → [78, 23, 56, 89, 34, 67, 91, 18, 54, 29, 83, 37, 60, 15, 72, 48, 95, 41]\n",
            "Langkah 2: [12, 15] → \u001b[1m78\u001b[0m → [23, 56, 89, 34, 67, 91, 18, 54, 29, 83, 37, 60, 45, 72, 48, 95, 41]\n",
            "Langkah 3: [12, 15, 18] → \u001b[1m23\u001b[0m → [56, 89, 34, 67, 91, 78, 54, 29, 83, 37, 60, 45, 72, 48, 95, 41]\n",
            "Langkah 4: [12, 15, 18, 23] → \u001b[1m56\u001b[0m → [89, 34, 67, 91, 78, 54, 29, 83, 37, 60, 45, 72, 48, 95, 41]\n",
            "Langkah 5: [12, 15, 18, 23, 29] → \u001b[1m89\u001b[0m → [34, 67, 91, 78, 54, 56, 83, 37, 60, 45, 72, 48, 95, 41]\n",
            "Langkah 6: [12, 15, 18, 23, 29, 34] → \u001b[1m89\u001b[0m → [67, 91, 78, 54, 56, 83, 37, 60, 45, 72, 48, 95, 41]\n",
            "Langkah 7: [12, 15, 18, 23, 29, 34, 37] → \u001b[1m67\u001b[0m → [91, 78, 54, 56, 83, 89, 60, 45, 72, 48, 95, 41]\n",
            "Langkah 8: [12, 15, 18, 23, 29, 34, 37, 41] → \u001b[1m91\u001b[0m → [78, 54, 56, 83, 89, 60, 45, 72, 48, 95, 67]\n",
            "Langkah 9: [12, 15, 18, 23, 29, 34, 37, 41, 45] → \u001b[1m78\u001b[0m → [54, 56, 83, 89, 60, 91, 72, 48, 95, 67]\n",
            "Langkah 10: [12, 15, 18, 23, 29, 34, 37, 41, 45, 48] → \u001b[1m54\u001b[0m → [56, 83, 89, 60, 91, 72, 78, 95, 67]\n",
            "Langkah 11: [12, 15, 18, 23, 29, 34, 37, 41, 45, 48, 54] → \u001b[1m56\u001b[0m → [83, 89, 60, 91, 72, 78, 95, 67]\n",
            "Langkah 12: [12, 15, 18, 23, 29, 34, 37, 41, 45, 48, 54, 56] → \u001b[1m83\u001b[0m → [89, 60, 91, 72, 78, 95, 67]\n",
            "Langkah 13: [12, 15, 18, 23, 29, 34, 37, 41, 45, 48, 54, 56, 60] → \u001b[1m89\u001b[0m → [83, 91, 72, 78, 95, 67]\n",
            "Langkah 14: [12, 15, 18, 23, 29, 34, 37, 41, 45, 48, 54, 56, 60, 67] → \u001b[1m83\u001b[0m → [91, 72, 78, 95, 89]\n",
            "Langkah 15: [12, 15, 18, 23, 29, 34, 37, 41, 45, 48, 54, 56, 60, 67, 72] → \u001b[1m91\u001b[0m → [83, 78, 95, 89]\n",
            "Langkah 16: [12, 15, 18, 23, 29, 34, 37, 41, 45, 48, 54, 56, 60, 67, 72, 78] → \u001b[1m83\u001b[0m → [91, 95, 89]\n",
            "Langkah 17: [12, 15, 18, 23, 29, 34, 37, 41, 45, 48, 54, 56, 60, 67, 72, 78, 83] → \u001b[1m91\u001b[0m → [95, 89]\n",
            "Langkah 18: [12, 15, 18, 23, 29, 34, 37, 41, 45, 48, 54, 56, 60, 67, 72, 78, 83, 89] → \u001b[1m95\u001b[0m → [91]\n",
            "Langkah 19: [12, 15, 18, 23, 29, 34, 37, 41, 45, 48, 54, 56, 60, 67, 72, 78, 83, 89, 91] → \u001b[1m95\u001b[0m → []\n",
            "------------------------------------------------------------------------------------------\n",
            "\n",
            "Array setelah diurutkan: [12, 15, 18, 23, 29, 34, 37, 41, 45, 48, 54, 56, 60, 67, 72, 78, 83, 89, 91, 95]\n"
          ]
        }
      ],
      "source": [
        "def selection_sort(arr):\n",
        "    n = len(arr)\n",
        "\n",
        "    for i in range(n - 1):\n",
        "        # Temukan nilai minimum di sisa array\n",
        "        min_index = i\n",
        "        for j in range(i + 1, n):\n",
        "            if arr[j] < arr[min_index]:\n",
        "                min_index = j\n",
        "\n",
        "        # Tukar nilai minimum dengan elemen pertama yang belum diurutkan\n",
        "        arr[i], arr[min_index] = arr[min_index], arr[i]\n",
        "\n",
        "        # Tampilkan langkah-langkahnya\n",
        "        print(f\"Langkah {i + 1}: {arr[:i + 1]} → \\033[1m{arr[i + 1]}\\033[0m → {arr[i + 2:]}\")\n",
        "\n",
        "    return arr\n",
        "\n",
        "# Input dari pengguna\n",
        "input_array = list(map(int, input(\"Masukkan elemen-elemen array (pisahkan dengan spasi): \").split()))\n",
        "print(\"-\"*90)\n",
        "\n",
        "# Tampilkan array awal\n",
        "print(f\"\\nArray awal: {input_array}\")\n",
        "print(\"-\"*90)\n",
        "\n",
        "# Panggil fungsi selection_sort dan tampilkan hasil akhir\n",
        "sorted_array = selection_sort(input_array.copy())\n",
        "print(\"-\"*90)\n",
        "print(\"\\nArray setelah diurutkan:\", sorted_array)\n"
      ]
    }
  ]
}