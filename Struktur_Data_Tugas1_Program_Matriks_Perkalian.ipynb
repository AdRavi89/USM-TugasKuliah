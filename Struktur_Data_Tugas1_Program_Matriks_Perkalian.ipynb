{
  "nbformat": 4,
  "nbformat_minor": 0,
  "metadata": {
    "colab": {
      "provenance": [],
      "authorship_tag": "ABX9TyO+cGtQgAP8e6DLv73ULBrj",
      "include_colab_link": true
    },
    "kernelspec": {
      "name": "python3",
      "display_name": "Python 3"
    },
    "language_info": {
      "name": "python"
    }
  },
  "cells": [
    {
      "cell_type": "markdown",
      "metadata": {
        "id": "view-in-github",
        "colab_type": "text"
      },
      "source": [
        "<a href=\"https://colab.research.google.com/github/AdRavi89/TugasKuliahUSM/blob/main/Struktur_Data_Tugas1_Program_Matriks_Perkalian.ipynb\" target=\"_parent\"><img src=\"https://colab.research.google.com/assets/colab-badge.svg\" alt=\"Open In Colab\"/></a>"
      ]
    },
    {
      "cell_type": "markdown",
      "source": [
        "**Program Matriks Perkalian**"
      ],
      "metadata": {
        "id": "L4q0Yu5OA6a3"
      }
    },
    {
      "cell_type": "code",
      "execution_count": null,
      "metadata": {
        "colab": {
          "base_uri": "https://localhost:8080/"
        },
        "id": "ncR-_rmJ8ZbF",
        "outputId": "d4156fb4-c8ef-4795-c969-088e9098346a"
      },
      "outputs": [
        {
          "output_type": "stream",
          "name": "stdout",
          "text": [
            "[30, 24, 18]\n",
            "[84, 69, 54]\n",
            "[138, 114, 90]\n"
          ]
        }
      ],
      "source": [
        "# Fungsi untuk melakukan perkalian matriks A dengan matriks B\n",
        "def matrix_multiplication(A, B):\n",
        "    # Menghitung jumlah baris dan kolom dari matriks A dan B\n",
        "    rows_A = len(A)  # Jumlah baris matriks A\n",
        "    cols_A = len(A[0])  # Jumlah kolom matriks A\n",
        "    rows_B = len(B)  # Jumlah baris matriks B\n",
        "    cols_B = len(B[0])  # Jumlah kolom matriks B\n",
        "\n",
        "    # Memeriksa apakah perkalian matriks dapat dilakukan\n",
        "    if cols_A != rows_B:  # Jika jumlah kolom A tidak sama dengan jumlah baris B\n",
        "        print(\"Perkalian matriks tidak dapat dilakukan.\")  # Cetak pesan kesalahan\n",
        "        return None  # Kembalikan None untuk mengindikasikan kesalahan\n",
        "\n",
        "    # Inisialisasi matriks hasil C dengan nilai awal 0\n",
        "    result = [[0 for _ in range(cols_B)] for _ in range(rows_A)]\n",
        "\n",
        "    # Melakukan perulangan untuk menghitung elemen-elemen matriks hasil C\n",
        "    for i in range(rows_A):  # Loop melalui baris matriks A\n",
        "        for j in range(cols_B):  # Loop melalui kolom matriks B\n",
        "            for k in range(cols_A):  # Loop melalui kolom matriks A (atau baris B)\n",
        "                result[i][j] += A[i][k] * B[k][j]  # Hitung hasil perkalian dan akumulasikan pada C\n",
        "\n",
        "    # Mengembalikan matriks hasil perkalian\n",
        "    return result\n",
        "\n",
        "# Input dua matriks contoh\n",
        "matrix_A = [\n",
        "    [1, 2, 3],\n",
        "    [4, 5, 6],\n",
        "    [7, 8, 9]\n",
        "]\n",
        "\n",
        "matrix_B = [\n",
        "    [9, 8, 7],\n",
        "    [6, 5, 4],\n",
        "    [3, 2, 1],\n",
        "]\n",
        "\n",
        "# Memanggil fungsi perkalian matriks\n",
        "hasil_perkalian = matrix_multiplication(matrix_A, matrix_B)\n",
        "# Output hasil perkalian\n",
        "if hasil_perkalian:\n",
        "    for row in hasil_perkalian:\n",
        "        print(row)"
      ]
    },
    {
      "cell_type": "markdown",
      "source": [
        "Deskripsi Flowchart:\n",
        "Start (Mulai):\n",
        "\n",
        "Tanda awal dari flowchart.\n",
        "Input Matriks A dan B:\n",
        "\n",
        "Kotak dengan label \"Input Matriks A\" dan \"Input Matriks B\" di atasnya.\n",
        "Ada dua panah yang menghubungkan kotak input ke langkah berikutnya.\n",
        "Periksa Jumlah Kolom A dan Baris B:\n",
        "\n",
        "Kotak dengan label \"Periksa Jumlah Kolom A == Jumlah Baris B?\".\n",
        "Ada dua panah keluar:\n",
        "Jika ya, panah mengarah ke langkah berikutnya (perkalian matriks).\n",
        "Jika tidak, panah mengarah ke langkah berakhir (End) dengan pesan kesalahan (\"Perkalian matriks tidak dapat dilakukan.\").\n",
        "Inisialisasi Matriks Hasil C:\n",
        "\n",
        "Kotak dengan label \"Inisialisasi Matriks Hasil C\".\n",
        "Perulangan i (Baris Matriks A):\n",
        "\n",
        "Kotak dengan label \"i = 0\".\n",
        "Ada garis panah yang mengarah ke dalam perulangan untuk i.\n",
        "Perulangan j (Kolom Matriks B):\n",
        "\n",
        "Kotak dengan label \"j = 0\".\n",
        "Ada garis panah yang mengarah ke dalam perulangan untuk j.\n",
        "Perulangan k (Indeks Kolom/Baris):\n",
        "\n",
        "Kotak dengan label \"k = 0\".\n",
        "Ada garis panah yang mengarah ke dalam perulangan untuk k.\n",
        "Hitung Hasil C[i][j]:\n",
        "\n",
        "Kotak dengan label \"C[i][j] += A[i][k] * B[k][j]\".\n",
        "Ini adalah langkah utama perkalian matriks.\n",
        "Setelah perhitungan, ada garis panah yang mengarah ke \"k++\" dan kembali ke dalam perulangan k.\n",
        "k++ (Inkrementasi k):\n",
        "\n",
        "Kotak dengan label \"k++\".\n",
        "Ini adalah langkah inkrementasi untuk k.\n",
        "Kondisi: k < Jumlah Kolom A:\n",
        "\n",
        "Kotak dengan label \"Kondisi: k < Jumlah Kolom A\".\n",
        "Jika kondisi ini benar, ada garis panah yang mengarah kembali ke \"Hitung Hasil C[i][j]\". Jika tidak, ada garis panah yang mengarah ke \"j++\" dan kembali ke dalam perulangan j.\n",
        "j++ (Inkrementasi j):\n",
        "\n",
        "Kotak dengan label \"j++\".\n",
        "Ini adalah langkah inkrementasi untuk j.\n",
        "Kondisi: j < Jumlah Kolom B:\n",
        "\n",
        "Kotak dengan label \"Kondisi: j < Jumlah Kolom B\".\n",
        "Jika kondisi ini benar, ada garis panah yang mengarah kembali ke \"Perulangan k\". Jika tidak, ada garis panah yang mengarah ke \"i++\" dan kembali ke dalam perulangan i.\n",
        "i++ (Inkrementasi i):\n",
        "\n",
        "Kotak dengan label \"i++\".\n",
        "Ini adalah langkah inkrementasi untuk i.\n",
        "Kondisi: i < Jumlah Baris A:\n",
        "\n",
        "Kotak dengan label \"Kondisi: i < Jumlah Baris A\".\n",
        "Jika kondisi ini benar, ada garis panah yang mengarah kembali ke \"Perulangan j\". Jika tidak, ada garis panah yang mengarah ke \"Output Hasil C\" dan langkah terakhir.\n",
        "Output Hasil C:\n",
        "\n",
        "Kotak dengan label \"Output Hasil C\".\n",
        "Tampilkan matriks hasil C.\n",
        "End (Selesai):\n",
        "\n",
        "Tanda akhir dari flowchart"
      ],
      "metadata": {
        "id": "kQ6UdepTA-Gy"
      }
    }
  ]
}