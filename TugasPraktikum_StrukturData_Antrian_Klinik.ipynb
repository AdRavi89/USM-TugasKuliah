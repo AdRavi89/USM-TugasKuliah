{
  "nbformat": 4,
  "nbformat_minor": 0,
  "metadata": {
    "colab": {
      "provenance": [],
      "authorship_tag": "ABX9TyM+MSt+kbHOzsqtMyQf9PyZ",
      "include_colab_link": true
    },
    "kernelspec": {
      "name": "python3",
      "display_name": "Python 3"
    },
    "language_info": {
      "name": "python"
    }
  },
  "cells": [
    {
      "cell_type": "markdown",
      "metadata": {
        "id": "view-in-github",
        "colab_type": "text"
      },
      "source": [
        "<a href=\"https://colab.research.google.com/github/AdRavi89/TugasKuliahUSM/blob/main/TugasPraktikum_StrukturData_Antrian_Klinik.ipynb\" target=\"_parent\"><img src=\"https://colab.research.google.com/assets/colab-badge.svg\" alt=\"Open In Colab\"/></a>"
      ]
    },
    {
      "cell_type": "markdown",
      "source": [
        "# **Contoh 1**"
      ],
      "metadata": {
        "id": "T-2F89LF-YAQ"
      }
    },
    {
      "cell_type": "code",
      "execution_count": null,
      "metadata": {
        "id": "pXEEzCUV81i3"
      },
      "outputs": [],
      "source": [
        "class Klinik:\n",
        "    def __init__(self):\n",
        "        self.antrian_pasien = []\n",
        "\n",
        "    def tambah_pasien(self, nama):\n",
        "        self.antrian_pasien.append(nama)\n",
        "        print(f\"{nama} telah ditambahkan ke dalam antrian.\")\n",
        "\n",
        "    def panggil_pasien(self):\n",
        "        if not self.antrian_pasien:\n",
        "            print(\"Tidak ada pasien dalam antrian.\")\n",
        "        else:\n",
        "            pasien = self.antrian_pasien.pop(0)\n",
        "            print(f\"{pasien}, silakan masuk ke dalam klinik.\")\n",
        "\n",
        "    def lihat_antrian(self):\n",
        "        if not self.antrian_pasien:\n",
        "            print(\"Tidak ada pasien dalam antrian.\")\n",
        "        else:\n",
        "            print(\"Antrian saat ini:\")\n",
        "            for i, pasien in enumerate(self.antrian_pasien, start=1):\n",
        "                print(f\"{i}. {pasien}\")\n",
        "\n",
        "# Contoh penggunaan program\n",
        "klinik = Klinik()\n",
        "\n",
        "while True:\n",
        "    print(\"\\nMenu:\")\n",
        "    print(\"1. Tambah Pasien\")\n",
        "    print(\"2. Panggil Pasien\")\n",
        "    print(\"3. Lihat Antrian\")\n",
        "    print(\"4. Keluar\")\n",
        "\n",
        "    pilihan = input(\"Pilih menu (1/2/3/4): \")\n",
        "\n",
        "    if pilihan == '1':\n",
        "        nama_pasien = input(\"Masukkan nama pasien: \")\n",
        "        klinik.tambah_pasien(nama_pasien)\n",
        "    elif pilihan == '2':\n",
        "        klinik.panggil_pasien()\n",
        "    elif pilihan == '3':\n",
        "        klinik.lihat_antrian()\n",
        "    elif pilihan == '4':\n",
        "        print(\"Program selesai.\")\n",
        "        break\n",
        "    else:\n",
        "        print(\"Pilihan tidak valid. Silakan pilih menu yang benar.\")\n"
      ]
    },
    {
      "cell_type": "markdown",
      "source": [
        "# **Contoh 2**"
      ],
      "metadata": {
        "id": "2ythtrKv-iGo"
      }
    },
    {
      "cell_type": "code",
      "source": [
        "class Klinik:\n",
        "    def __init__(self):\n",
        "        # Inisialisasi kelas Klinik dengan antrian pasien kosong.\n",
        "        self.antrian_pasien = []\n",
        "\n",
        "    def tambah_pasien(self, nama):\n",
        "        # Menambahkan pasien ke dalam antrian.\n",
        "        self.antrian_pasien.append(nama)\n",
        "        print(\"=\"*30)\n",
        "        print(f\"{nama} telah ditambahkan ke dalam antrian.\")\n",
        "\n",
        "    def panggil_pasien(self):\n",
        "        if not self.antrian_pasien:\n",
        "            # Memeriksa apakah antrian kosong.\n",
        "            print(\"=\"*30)\n",
        "            print(\"Tidak ada pasien dalam antrian.\")\n",
        "        else:\n",
        "            # Mengeluarkan pasien dari antrian dan memberikan nomor pendaftaran.\n",
        "            pasien = self.antrian_pasien.pop(0)\n",
        "            nomor_pendaftaran = len(self.antrian_pasien) + 1\n",
        "            print(f\"Pasien dengan Nomor Antrian {nomor_pendaftaran}, atas nama {pasien}, silakan masuk ke dalam Klinik.\")\n",
        "\n",
        "    def lihat_antrian(self):\n",
        "        if not self.antrian_pasien:\n",
        "            # Memeriksa apakah antrian kosong.\n",
        "            print(\"Tidak ada pasien dalam antrian.\")\n",
        "        else:\n",
        "            # Menampilkan daftar pasien dalam antrian.\n",
        "            print(\"Antrian saat ini:\")\n",
        "            for i, pasien in enumerate(self.antrian_pasien, start=1):\n",
        "                print(f\"{i}. {pasien}\")\n",
        "\n",
        "# Contoh penggunaan program\n",
        "klinik = Klinik()\n",
        "\n",
        "print(\"=\"*30)\n",
        "print(\"**** KLINIK CEPAT SEHAT ****\")\n",
        "print(\"Jl. Semarang - Solo Km.12\")\n",
        "print(\"=\"*30)\n",
        "\n",
        "while True:\n",
        "    print(\"\\nMenu:\")\n",
        "    print(\"~\"*5)\n",
        "    print(\"1. Tambah Pasien\")\n",
        "    print(\"2. Panggil Pasien\")\n",
        "    print(\"3. Lihat Antrian\")\n",
        "    print(\"4. Keluar\")\n",
        "    print(\"=\"*30)\n",
        "    pilihan = input(\"Pilih menu (1/2/3/4): \")\n",
        "\n",
        "    if pilihan == '1':\n",
        "        # Meminta input nama pasien dan menambahkannya ke dalam antrian.\n",
        "        print(\"=\"*30)\n",
        "        nama_pasien = input(\"Masukkan nama pasien: \")\n",
        "        klinik.tambah_pasien(nama_pasien)\n",
        "    elif pilihan == '2':\n",
        "        # Memanggil pasien dari antrian.\n",
        "        print(\"=\"*30)\n",
        "        klinik.panggil_pasien()\n",
        "    elif pilihan == '3':\n",
        "        # Menampilkan daftar pasien dalam antrian.\n",
        "        print(\"=\"*30)\n",
        "        klinik.lihat_antrian()\n",
        "    elif pilihan == '4':\n",
        "        # Mengakhiri program.\n",
        "        print(\"=\"*30)\n",
        "        print(\"Program selesai.\")\n",
        "        break\n",
        "    else:\n",
        "        # Menangani input yang tidak valid.\n",
        "        print(\"=\"*30)\n",
        "        print(\"Pilihan tidak valid. Silakan pilih menu yang benar.\")\n"
      ],
      "metadata": {
        "id": "Bu1-_0Wv-hXj",
        "colab": {
          "base_uri": "https://localhost:8080/"
        },
        "outputId": "61861a5f-af42-47c5-8100-ca9eecc82516"
      },
      "execution_count": 2,
      "outputs": [
        {
          "output_type": "stream",
          "name": "stdout",
          "text": [
            "==============================\n",
            "**** KLINIK CEPAT SEHAT ****\n",
            "Jl. Semarang - Solo Km.12\n",
            "==============================\n",
            "\n",
            "Menu:\n",
            "~~~~~\n",
            "1. Tambah Pasien\n",
            "2. Panggil Pasien\n",
            "3. Lihat Antrian\n",
            "4. Keluar\n",
            "==============================\n",
            "Pilih menu (1/2/3/4): 4\n",
            "==============================\n",
            "Program selesai.\n"
          ]
        }
      ]
    },
    {
      "cell_type": "markdown",
      "source": [
        "# **Contoh 3 (FIX)**"
      ],
      "metadata": {
        "id": "c2S3PLHbnL3r"
      }
    },
    {
      "cell_type": "code",
      "source": [
        "class Klinik:\n",
        "    def __init__(self):\n",
        "        # Inisialisasi kelas Klinik dengan antrian pasien kosong dan nomor terakhir yang dipanggil.\n",
        "        self.antrian_pasien = []\n",
        "        self.nomor_terakhir = 0\n",
        "\n",
        "    def tambah_pasien(self, nama):\n",
        "        # Menambahkan pasien ke dalam antrian dengan nomor antrian yang baru.\n",
        "        self.nomor_terakhir += 1\n",
        "        nomor_antrian = self.nomor_terakhir\n",
        "        self.antrian_pasien.append((nomor_antrian, nama))\n",
        "        print(\"=\"*30)\n",
        "        print(f\"Pendaftaran pasien dengan nomor antrian {nomor_antrian}, atas nama {nama}, telah ditambahkan ke dalam antrian.\")\n",
        "\n",
        "    def panggil_pasien(self):\n",
        "        if not self.antrian_pasien:\n",
        "            # Memeriksa apakah antrian kosong.\n",
        "            print(\"=\"*30)\n",
        "            print(\"Tidak ada pasien dalam antrian.\")\n",
        "        else:\n",
        "            # Mengeluarkan pasien dari antrian dan memberikan nomor pendaftaran.\n",
        "            nomor_antrian, pasien = self.antrian_pasien.pop(0)\n",
        "            print(f\"Nomor antrian {nomor_antrian}, atas nama {pasien}, silakan masuk ke dalam Klinik.\")\n",
        "\n",
        "    def lihat_antrian(self):\n",
        "        if not self.antrian_pasien:\n",
        "            # Memeriksa apakah antrian kosong.\n",
        "            print(\"Tidak ada pasien dalam antrian.\")\n",
        "        else:\n",
        "            # Menampilkan daftar pasien dalam antrian.\n",
        "            print(\"Antrian saat ini:\")\n",
        "            for nomor_antrian, pasien in self.antrian_pasien:\n",
        "                print(f\"{nomor_antrian}. {pasien}\")\n",
        "\n",
        "# Contoh penggunaan program\n",
        "klinik = Klinik()\n",
        "\n",
        "print(\"=\"*30)\n",
        "print(\"**** KLINIK CEPAT SEHAT ****\")\n",
        "print(\"Jl. Semarang - Solo Km.12\")\n",
        "print(\"=\"*30)\n",
        "\n",
        "while True:\n",
        "    print(\"#\"*30)\n",
        "    print(\"\\nMenu:\")\n",
        "    print(\"~\"*5)\n",
        "    print(\"1. Tambah Pasien\")\n",
        "    print(\"2. Panggil Pasien\")\n",
        "    print(\"3. Lihat Antrian\")\n",
        "    print(\"4. Keluar\")\n",
        "    print(\"=\"*30)\n",
        "    pilihan = input(\"Pilih menu (1/2/3/4): \")\n",
        "\n",
        "    if pilihan == '1':\n",
        "        # Meminta input nama pasien dan menambahkannya ke dalam antrian.\n",
        "        print(\"=\"*30)\n",
        "        nama_pasien = input(\"Masukkan nama pasien: \")\n",
        "        klinik.tambah_pasien(nama_pasien)\n",
        "    elif pilihan == '2':\n",
        "        # Memanggil pasien dari antrian.\n",
        "        print(\"=\"*30)\n",
        "        klinik.panggil_pasien()\n",
        "    elif pilihan == '3':\n",
        "        # Menampilkan daftar pasien dalam antrian.\n",
        "        print(\"=\"*30)\n",
        "        klinik.lihat_antrian()\n",
        "    elif pilihan == '4':\n",
        "        # Mengakhiri program.\n",
        "        print(\"=\"*30)\n",
        "        print(\"Program selesai.\")\n",
        "        break\n",
        "    else:\n",
        "        # Menangani input yang tidak valid.\n",
        "        print(\"=\"*30)\n",
        "        print(\"Pilihan tidak valid. Silakan pilih menu yang benar.\")\n"
      ],
      "metadata": {
        "colab": {
          "base_uri": "https://localhost:8080/"
        },
        "id": "myy-BxZFnNNY",
        "outputId": "349ddedd-494d-4254-9f70-c8b15057481e"
      },
      "execution_count": 9,
      "outputs": [
        {
          "output_type": "stream",
          "name": "stdout",
          "text": [
            "==============================\n",
            "**** KLINIK CEPAT SEHAT ****\n",
            "Jl. Semarang - Solo Km.12\n",
            "==============================\n",
            "##############################\n",
            "\n",
            "Menu:\n",
            "~~~~~\n",
            "1. Tambah Pasien\n",
            "2. Panggil Pasien\n",
            "3. Lihat Antrian\n",
            "4. Keluar\n",
            "==============================\n",
            "Pilih menu (1/2/3/4): 4\n",
            "==============================\n",
            "Program selesai.\n"
          ]
        }
      ]
    }
  ]
}